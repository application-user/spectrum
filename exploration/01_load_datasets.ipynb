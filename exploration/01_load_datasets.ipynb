{
 "cells": [
  {
   "cell_type": "code",
   "execution_count": 1,
   "metadata": {},
   "outputs": [],
   "source": [
    "import pandas as pd\n",
    "import os.path as op"
   ]
  },
  {
   "cell_type": "code",
   "execution_count": 2,
   "metadata": {},
   "outputs": [],
   "source": [
    "DATA_DIR = '../data/'"
   ]
  },
  {
   "cell_type": "markdown",
   "metadata": {},
   "source": [
    "## Introduction\n",
    "\n",
    "We prepare data for truth discovery problem. The following datasets will be considered:\n",
    "\n",
    "- books\n",
    "- flights\n",
    "- weather\n",
    "- population"
   ]
  },
  {
   "cell_type": "markdown",
   "metadata": {},
   "source": [
    "## Datasets"
   ]
  },
  {
   "cell_type": "markdown",
   "metadata": {},
   "source": [
    "### Stock"
   ]
  },
  {
   "cell_type": "markdown",
   "metadata": {},
   "source": [
    "### Books"
   ]
  },
  {
   "cell_type": "markdown",
   "metadata": {},
   "source": [
    "Noisy data"
   ]
  },
  {
   "cell_type": "code",
   "execution_count": 3,
   "metadata": {},
   "outputs": [],
   "source": [
    "book_df = pd.read_csv(op.join(DATA_DIR, 'book/book.txt'),\n",
    "                      header=None, sep='\\t',\n",
    "                      names=['online_store', 'isbn_10', 'book_name', 'book_authors'])"
   ]
  },
  {
   "cell_type": "code",
   "execution_count": 4,
   "metadata": {},
   "outputs": [
    {
     "data": {
      "text/html": [
       "<div>\n",
       "<style scoped>\n",
       "    .dataframe tbody tr th:only-of-type {\n",
       "        vertical-align: middle;\n",
       "    }\n",
       "\n",
       "    .dataframe tbody tr th {\n",
       "        vertical-align: top;\n",
       "    }\n",
       "\n",
       "    .dataframe thead th {\n",
       "        text-align: right;\n",
       "    }\n",
       "</style>\n",
       "<table border=\"1\" class=\"dataframe\">\n",
       "  <thead>\n",
       "    <tr style=\"text-align: right;\">\n",
       "      <th></th>\n",
       "      <th>online_store</th>\n",
       "      <th>isbn_10</th>\n",
       "      <th>book_name</th>\n",
       "      <th>book_authors</th>\n",
       "    </tr>\n",
       "  </thead>\n",
       "  <tbody>\n",
       "    <tr>\n",
       "      <th>0</th>\n",
       "      <td>eCampus.com</td>\n",
       "      <td>0201853949</td>\n",
       "      <td>The art Of Computer Programming, Fascicle 3: G...</td>\n",
       "      <td>Not Available</td>\n",
       "    </tr>\n",
       "    <tr>\n",
       "      <th>1</th>\n",
       "      <td>Indoo.com</td>\n",
       "      <td>0201853949</td>\n",
       "      <td>Art of Computer Programming, Volume 4, Fascicl...</td>\n",
       "      <td>Knuth, Donald E.</td>\n",
       "    </tr>\n",
       "    <tr>\n",
       "      <th>2</th>\n",
       "      <td>textbookxdotcom</td>\n",
       "      <td>0201853949</td>\n",
       "      <td>The 'art Of Computer Programming, Fascicle 3 G...</td>\n",
       "      <td>NaN</td>\n",
       "    </tr>\n",
       "    <tr>\n",
       "      <th>3</th>\n",
       "      <td>A1Books</td>\n",
       "      <td>0201853949</td>\n",
       "      <td>The Art of Computer Programming, Volume 4, Fas...</td>\n",
       "      <td>Knuth, Donald E.</td>\n",
       "    </tr>\n",
       "    <tr>\n",
       "      <th>4</th>\n",
       "      <td>textbooksNow</td>\n",
       "      <td>0201853949</td>\n",
       "      <td>Art of Computer Programming</td>\n",
       "      <td>Knuth</td>\n",
       "    </tr>\n",
       "  </tbody>\n",
       "</table>\n",
       "</div>"
      ],
      "text/plain": [
       "      online_store     isbn_10  \\\n",
       "0      eCampus.com  0201853949   \n",
       "1        Indoo.com  0201853949   \n",
       "2  textbookxdotcom  0201853949   \n",
       "3          A1Books  0201853949   \n",
       "4     textbooksNow  0201853949   \n",
       "\n",
       "                                           book_name      book_authors  \n",
       "0  The art Of Computer Programming, Fascicle 3: G...     Not Available  \n",
       "1  Art of Computer Programming, Volume 4, Fascicl...  Knuth, Donald E.  \n",
       "2  The 'art Of Computer Programming, Fascicle 3 G...               NaN  \n",
       "3  The Art of Computer Programming, Volume 4, Fas...  Knuth, Donald E.  \n",
       "4                        Art of Computer Programming             Knuth  "
      ]
     },
     "execution_count": 4,
     "metadata": {},
     "output_type": "execute_result"
    }
   ],
   "source": [
    "book_df.head()"
   ]
  },
  {
   "cell_type": "code",
   "execution_count": 5,
   "metadata": {},
   "outputs": [],
   "source": [
    "book_golden = pd.read_csv(op.join(DATA_DIR, 'book/book_golden.txt'),\n",
    "                         header=None, sep='\\t',\n",
    "                         names=['isbn_10', 'book_authors'])"
   ]
  },
  {
   "cell_type": "markdown",
   "metadata": {},
   "source": [
    "True data"
   ]
  },
  {
   "cell_type": "code",
   "execution_count": 6,
   "metadata": {},
   "outputs": [
    {
     "data": {
      "text/html": [
       "<div>\n",
       "<style scoped>\n",
       "    .dataframe tbody tr th:only-of-type {\n",
       "        vertical-align: middle;\n",
       "    }\n",
       "\n",
       "    .dataframe tbody tr th {\n",
       "        vertical-align: top;\n",
       "    }\n",
       "\n",
       "    .dataframe thead th {\n",
       "        text-align: right;\n",
       "    }\n",
       "</style>\n",
       "<table border=\"1\" class=\"dataframe\">\n",
       "  <thead>\n",
       "    <tr style=\"text-align: right;\">\n",
       "      <th></th>\n",
       "      <th>isbn_10</th>\n",
       "      <th>book_authors</th>\n",
       "    </tr>\n",
       "  </thead>\n",
       "  <tbody>\n",
       "    <tr>\n",
       "      <th>0</th>\n",
       "      <td>9780073516677</td>\n",
       "      <td>o'leary, timothy j.;  o'leary, linda i.;</td>\n",
       "    </tr>\n",
       "    <tr>\n",
       "      <th>1</th>\n",
       "      <td>9780072999389</td>\n",
       "      <td>yacht, carol ;  crosson, susan ;</td>\n",
       "    </tr>\n",
       "    <tr>\n",
       "      <th>2</th>\n",
       "      <td>9780072922363</td>\n",
       "      <td>hutton, david v.;</td>\n",
       "    </tr>\n",
       "    <tr>\n",
       "      <th>3</th>\n",
       "      <td>9780072843996</td>\n",
       "      <td>haag, stephen ;  perry, james t.;  sosinsky, b...</td>\n",
       "    </tr>\n",
       "    <tr>\n",
       "      <th>4</th>\n",
       "      <td>9780072466850</td>\n",
       "      <td>reddy, j. n. ;</td>\n",
       "    </tr>\n",
       "  </tbody>\n",
       "</table>\n",
       "</div>"
      ],
      "text/plain": [
       "         isbn_10                                       book_authors\n",
       "0  9780073516677         o'leary, timothy j.;  o'leary, linda i.;  \n",
       "1  9780072999389                 yacht, carol ;  crosson, susan ;  \n",
       "2  9780072922363                                hutton, david v.;  \n",
       "3  9780072843996  haag, stephen ;  perry, james t.;  sosinsky, b...\n",
       "4  9780072466850                                   reddy, j. n. ;  "
      ]
     },
     "execution_count": 6,
     "metadata": {},
     "output_type": "execute_result"
    }
   ],
   "source": [
    "book_golden.head()"
   ]
  },
  {
   "cell_type": "markdown",
   "metadata": {},
   "source": [
    "### Flights"
   ]
  },
  {
   "cell_type": "code",
   "execution_count": 7,
   "metadata": {},
   "outputs": [],
   "source": [
    "flight_df = pd.read_csv(op.join(DATA_DIR, 'flights/claims/flights_claim1.csv'))"
   ]
  },
  {
   "cell_type": "code",
   "execution_count": 8,
   "metadata": {},
   "outputs": [
    {
     "data": {
      "text/html": [
       "<div>\n",
       "<style scoped>\n",
       "    .dataframe tbody tr th:only-of-type {\n",
       "        vertical-align: middle;\n",
       "    }\n",
       "\n",
       "    .dataframe tbody tr th {\n",
       "        vertical-align: top;\n",
       "    }\n",
       "\n",
       "    .dataframe thead th {\n",
       "        text-align: right;\n",
       "    }\n",
       "</style>\n",
       "<table border=\"1\" class=\"dataframe\">\n",
       "  <thead>\n",
       "    <tr style=\"text-align: right;\">\n",
       "      <th></th>\n",
       "      <th>ObjectID</th>\n",
       "      <th>PropertyID</th>\n",
       "      <th>PropertyValue</th>\n",
       "      <th>SourceID</th>\n",
       "      <th>TimeStamp</th>\n",
       "    </tr>\n",
       "  </thead>\n",
       "  <tbody>\n",
       "    <tr>\n",
       "      <th>0</th>\n",
       "      <td>AA-1623-EWR-MIA2011-12-18</td>\n",
       "      <td>ActualDepartureTime</td>\n",
       "      <td>12/18/11 2:58 PM (-05:00)</td>\n",
       "      <td>myrateplan</td>\n",
       "      <td>2011-12-18</td>\n",
       "    </tr>\n",
       "    <tr>\n",
       "      <th>1</th>\n",
       "      <td>AA-1623-EWR-MIA2011-12-18</td>\n",
       "      <td>ActualArrivalTime</td>\n",
       "      <td>12/18/11 5:14 PM (-05:00)</td>\n",
       "      <td>myrateplan</td>\n",
       "      <td>2011-12-18</td>\n",
       "    </tr>\n",
       "    <tr>\n",
       "      <th>2</th>\n",
       "      <td>AA-1623-EWR-MIA2011-12-18</td>\n",
       "      <td>ActualDepartureTime</td>\n",
       "      <td>12/18/11 2:58 PM (-05:00)</td>\n",
       "      <td>helloflight</td>\n",
       "      <td>2011-12-18</td>\n",
       "    </tr>\n",
       "    <tr>\n",
       "      <th>3</th>\n",
       "      <td>AA-1623-EWR-MIA2011-12-18</td>\n",
       "      <td>ActualArrivalTime</td>\n",
       "      <td>12/18/11 5:14 PM (-05:00)</td>\n",
       "      <td>helloflight</td>\n",
       "      <td>2011-12-18</td>\n",
       "    </tr>\n",
       "    <tr>\n",
       "      <th>4</th>\n",
       "      <td>AA-1623-EWR-MIA2011-12-18</td>\n",
       "      <td>ActualDepartureTime</td>\n",
       "      <td>12/18/11 2:58 PM (-05:00)</td>\n",
       "      <td>flytecomm</td>\n",
       "      <td>2011-12-18</td>\n",
       "    </tr>\n",
       "  </tbody>\n",
       "</table>\n",
       "</div>"
      ],
      "text/plain": [
       "                    ObjectID           PropertyID              PropertyValue  \\\n",
       "0  AA-1623-EWR-MIA2011-12-18  ActualDepartureTime  12/18/11 2:58 PM (-05:00)   \n",
       "1  AA-1623-EWR-MIA2011-12-18    ActualArrivalTime  12/18/11 5:14 PM (-05:00)   \n",
       "2  AA-1623-EWR-MIA2011-12-18  ActualDepartureTime  12/18/11 2:58 PM (-05:00)   \n",
       "3  AA-1623-EWR-MIA2011-12-18    ActualArrivalTime  12/18/11 5:14 PM (-05:00)   \n",
       "4  AA-1623-EWR-MIA2011-12-18  ActualDepartureTime  12/18/11 2:58 PM (-05:00)   \n",
       "\n",
       "      SourceID   TimeStamp  \n",
       "0   myrateplan  2011-12-18  \n",
       "1   myrateplan  2011-12-18  \n",
       "2  helloflight  2011-12-18  \n",
       "3  helloflight  2011-12-18  \n",
       "4    flytecomm  2011-12-18  "
      ]
     },
     "execution_count": 8,
     "metadata": {},
     "output_type": "execute_result"
    }
   ],
   "source": [
    "flight_df.head()"
   ]
  },
  {
   "cell_type": "raw",
   "metadata": {},
   "source": [
    "We need to deal with time formatting here."
   ]
  },
  {
   "cell_type": "markdown",
   "metadata": {},
   "source": [
    "### Weather"
   ]
  },
  {
   "cell_type": "code",
   "execution_count": 9,
   "metadata": {},
   "outputs": [],
   "source": [
    "weather_df = pd.read_csv(op.join(DATA_DIR, 'weather/claims/weather_claim1.csv'))"
   ]
  },
  {
   "cell_type": "code",
   "execution_count": 10,
   "metadata": {},
   "outputs": [
    {
     "data": {
      "text/html": [
       "<div>\n",
       "<style scoped>\n",
       "    .dataframe tbody tr th:only-of-type {\n",
       "        vertical-align: middle;\n",
       "    }\n",
       "\n",
       "    .dataframe tbody tr th {\n",
       "        vertical-align: top;\n",
       "    }\n",
       "\n",
       "    .dataframe thead th {\n",
       "        text-align: right;\n",
       "    }\n",
       "</style>\n",
       "<table border=\"1\" class=\"dataframe\">\n",
       "  <thead>\n",
       "    <tr style=\"text-align: right;\">\n",
       "      <th></th>\n",
       "      <th>ObjectID</th>\n",
       "      <th>PropertyID</th>\n",
       "      <th>PropertyValue</th>\n",
       "      <th>SourceID</th>\n",
       "      <th>TimeStamp</th>\n",
       "    </tr>\n",
       "  </thead>\n",
       "  <tbody>\n",
       "    <tr>\n",
       "      <th>0</th>\n",
       "      <td>sanjosefrijan2908</td>\n",
       "      <td>Temperature</td>\n",
       "      <td>48</td>\n",
       "      <td>msn</td>\n",
       "      <td>fri jan 29 08:45:00 2010</td>\n",
       "    </tr>\n",
       "    <tr>\n",
       "      <th>1</th>\n",
       "      <td>sanjosefrijan2908</td>\n",
       "      <td>RealFeel</td>\n",
       "      <td>48</td>\n",
       "      <td>msn</td>\n",
       "      <td>fri jan 29 08:45:00 2010</td>\n",
       "    </tr>\n",
       "    <tr>\n",
       "      <th>2</th>\n",
       "      <td>sanjosefrijan2908</td>\n",
       "      <td>Humidity</td>\n",
       "      <td>87</td>\n",
       "      <td>msn</td>\n",
       "      <td>fri jan 29 08:45:00 2010</td>\n",
       "    </tr>\n",
       "    <tr>\n",
       "      <th>3</th>\n",
       "      <td>sanjosefrijan2908</td>\n",
       "      <td>Pressure</td>\n",
       "      <td>30.1</td>\n",
       "      <td>msn</td>\n",
       "      <td>fri jan 29 08:45:00 2010</td>\n",
       "    </tr>\n",
       "    <tr>\n",
       "      <th>4</th>\n",
       "      <td>sanjosefrijan2908</td>\n",
       "      <td>Visibility</td>\n",
       "      <td>10</td>\n",
       "      <td>msn</td>\n",
       "      <td>fri jan 29 08:45:00 2010</td>\n",
       "    </tr>\n",
       "  </tbody>\n",
       "</table>\n",
       "</div>"
      ],
      "text/plain": [
       "            ObjectID   PropertyID PropertyValue SourceID  \\\n",
       "0  sanjosefrijan2908  Temperature            48      msn   \n",
       "1  sanjosefrijan2908     RealFeel            48      msn   \n",
       "2  sanjosefrijan2908     Humidity            87      msn   \n",
       "3  sanjosefrijan2908     Pressure          30.1      msn   \n",
       "4  sanjosefrijan2908   Visibility            10      msn   \n",
       "\n",
       "                  TimeStamp  \n",
       "0  fri jan 29 08:45:00 2010  \n",
       "1  fri jan 29 08:45:00 2010  \n",
       "2  fri jan 29 08:45:00 2010  \n",
       "3  fri jan 29 08:45:00 2010  \n",
       "4  fri jan 29 08:45:00 2010  "
      ]
     },
     "execution_count": 10,
     "metadata": {},
     "output_type": "execute_result"
    }
   ],
   "source": [
    "weather_df.head()"
   ]
  },
  {
   "cell_type": "markdown",
   "metadata": {},
   "source": [
    "Again some time formatting need to be done here"
   ]
  },
  {
   "cell_type": "markdown",
   "metadata": {},
   "source": [
    "### Population"
   ]
  },
  {
   "cell_type": "code",
   "execution_count": 11,
   "metadata": {},
   "outputs": [],
   "source": [
    "population_df = pd.read_csv(op.join(DATA_DIR, 'population/population_claims.csv'))"
   ]
  },
  {
   "cell_type": "code",
   "execution_count": 12,
   "metadata": {},
   "outputs": [
    {
     "data": {
      "text/html": [
       "<div>\n",
       "<style scoped>\n",
       "    .dataframe tbody tr th:only-of-type {\n",
       "        vertical-align: middle;\n",
       "    }\n",
       "\n",
       "    .dataframe tbody tr th {\n",
       "        vertical-align: top;\n",
       "    }\n",
       "\n",
       "    .dataframe thead th {\n",
       "        text-align: right;\n",
       "    }\n",
       "</style>\n",
       "<table border=\"1\" class=\"dataframe\">\n",
       "  <thead>\n",
       "    <tr style=\"text-align: right;\">\n",
       "      <th></th>\n",
       "      <th>ObjectID</th>\n",
       "      <th>PropertyID</th>\n",
       "      <th>PropertyValue</th>\n",
       "      <th>SourceID</th>\n",
       "      <th>TimeStamp</th>\n",
       "    </tr>\n",
       "  </thead>\n",
       "  <tbody>\n",
       "    <tr>\n",
       "      <th>0</th>\n",
       "      <td>abu dhabi</td>\n",
       "      <td>Population2006</td>\n",
       "      <td>1000230</td>\n",
       "      <td>0 (68.162.248.83)</td>\n",
       "      <td>NaN</td>\n",
       "    </tr>\n",
       "    <tr>\n",
       "      <th>1</th>\n",
       "      <td>abu dhabi</td>\n",
       "      <td>Population2006</td>\n",
       "      <td>1850230</td>\n",
       "      <td>1513217: Mohammedfairouz</td>\n",
       "      <td>NaN</td>\n",
       "    </tr>\n",
       "    <tr>\n",
       "      <th>2</th>\n",
       "      <td>amsterdam</td>\n",
       "      <td>Population2006</td>\n",
       "      <td>741329</td>\n",
       "      <td>141597: Ilse@</td>\n",
       "      <td>NaN</td>\n",
       "    </tr>\n",
       "    <tr>\n",
       "      <th>3</th>\n",
       "      <td>amsterdam</td>\n",
       "      <td>Population2006</td>\n",
       "      <td>742884</td>\n",
       "      <td>1300620: Krator</td>\n",
       "      <td>NaN</td>\n",
       "    </tr>\n",
       "    <tr>\n",
       "      <th>4</th>\n",
       "      <td>adelaide</td>\n",
       "      <td>Population2006</td>\n",
       "      <td>1124315</td>\n",
       "      <td>3922171: Pirate05</td>\n",
       "      <td>NaN</td>\n",
       "    </tr>\n",
       "  </tbody>\n",
       "</table>\n",
       "</div>"
      ],
      "text/plain": [
       "    ObjectID      PropertyID  PropertyValue                  SourceID  \\\n",
       "0  abu dhabi  Population2006        1000230         0 (68.162.248.83)   \n",
       "1  abu dhabi  Population2006        1850230  1513217: Mohammedfairouz   \n",
       "2  amsterdam  Population2006         741329             141597: Ilse@   \n",
       "3  amsterdam  Population2006         742884           1300620: Krator   \n",
       "4   adelaide  Population2006        1124315         3922171: Pirate05   \n",
       "\n",
       "   TimeStamp  \n",
       "0        NaN  \n",
       "1        NaN  \n",
       "2        NaN  \n",
       "3        NaN  \n",
       "4        NaN  "
      ]
     },
     "execution_count": 12,
     "metadata": {},
     "output_type": "execute_result"
    }
   ],
   "source": [
    "population_df.head()"
   ]
  },
  {
   "cell_type": "code",
   "execution_count": 13,
   "metadata": {},
   "outputs": [
    {
     "data": {
      "text/plain": [
       "(49955, 5)"
      ]
     },
     "execution_count": 13,
     "metadata": {},
     "output_type": "execute_result"
    }
   ],
   "source": [
    "population_df.shape"
   ]
  },
  {
   "cell_type": "code",
   "execution_count": null,
   "metadata": {},
   "outputs": [],
   "source": []
  }
 ],
 "metadata": {
  "kernelspec": {
   "display_name": "Python 3",
   "language": "python",
   "name": "python3"
  },
  "language_info": {
   "codemirror_mode": {
    "name": "ipython",
    "version": 3
   },
   "file_extension": ".py",
   "mimetype": "text/x-python",
   "name": "python",
   "nbconvert_exporter": "python",
   "pygments_lexer": "ipython3",
   "version": "3.6.7"
  }
 },
 "nbformat": 4,
 "nbformat_minor": 2
}
