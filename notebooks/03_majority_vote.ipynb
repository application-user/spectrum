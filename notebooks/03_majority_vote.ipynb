{
 "cells": [
  {
   "cell_type": "code",
   "execution_count": 1,
   "metadata": {},
   "outputs": [],
   "source": [
    "import pandas as pd\n",
    "import os.path as op\n",
    "import numpy as np\n",
    "import seaborn as sns"
   ]
  },
  {
   "cell_type": "code",
   "execution_count": 2,
   "metadata": {},
   "outputs": [],
   "source": [
    "DATA_DIR = '../data'\n",
    "DATA_SET = 'population'"
   ]
  },
  {
   "cell_type": "code",
   "execution_count": 3,
   "metadata": {},
   "outputs": [],
   "source": [
    "truths = pd.read_csv(op.join(DATA_DIR, DATA_SET, 'truths.csv'))\n",
    "claims = pd.read_csv(op.join(DATA_DIR, DATA_SET, 'claims.csv'))"
   ]
  },
  {
   "cell_type": "code",
   "execution_count": 4,
   "metadata": {},
   "outputs": [],
   "source": [
    "def majority_vote(claims):\n",
    "    \"\"\"perform truth discovery using majority voting\n",
    "    \n",
    "    Parameters\n",
    "    ----------\n",
    "    claims: pd.DataFrame\n",
    "        a data frame that has columns [source_id, object_id, value]\n",
    "        \n",
    "    Returns\n",
    "    -------\n",
    "    discovered_truths: pd.DataFrame\n",
    "        a data frame that has [object_id, value]\n",
    "    \"\"\"\n",
    "    c_df = claims[['source_id', 'object_id', 'value']].copy()\n",
    "    discovered_truths = c_df.groupby(['object_id']).apply(lambda x: elect(x))\n",
    "    discovered_truths = pd.DataFrame(discovered_truths)\n",
    "    discovered_truths = discovered_truths.rename(columns={0: 'value'}).reset_index()\n",
    "    return discovered_truths\n",
    "\n",
    "def elect(x):\n",
    "    \"\"\"compute the truth value based on voting; the value received the most votes (by sources) is returned\n",
    "    \n",
    "    Parameters\n",
    "    ----------\n",
    "    x: pd.DataFrame\n",
    "    \n",
    "    Returns\n",
    "    -------\n",
    "    discovered_truth: pd.DataFrame\n",
    "        the discovered truth\n",
    "    \"\"\"\n",
    "    return x.value.value_counts().idxmax()"
   ]
  },
  {
   "cell_type": "code",
   "execution_count": 5,
   "metadata": {},
   "outputs": [],
   "source": [
    "discovered_truths = majority_vote(claims)"
   ]
  },
  {
   "cell_type": "code",
   "execution_count": 6,
   "metadata": {},
   "outputs": [],
   "source": [
    "discovered_truths.to_csv(op.join(DATA_DIR, DATA_SET, 'discovered_truths_majority_vote.csv'))"
   ]
  },
  {
   "cell_type": "markdown",
   "metadata": {},
   "source": [
    "# Evaluation"
   ]
  },
  {
   "cell_type": "code",
   "execution_count": 7,
   "metadata": {},
   "outputs": [],
   "source": [
    "from utils import accuracy"
   ]
  },
  {
   "cell_type": "code",
   "execution_count": 8,
   "metadata": {},
   "outputs": [
    {
     "data": {
      "text/plain": [
       "0.6943521594684385"
      ]
     },
     "execution_count": 8,
     "metadata": {},
     "output_type": "execute_result"
    }
   ],
   "source": [
    "accuracy(truths, discovered_truths)"
   ]
  },
  {
   "cell_type": "code",
   "execution_count": null,
   "metadata": {},
   "outputs": [],
   "source": []
  }
 ],
 "metadata": {
  "kernelspec": {
   "display_name": "Python 3",
   "language": "python",
   "name": "python3"
  },
  "language_info": {
   "codemirror_mode": {
    "name": "ipython",
    "version": 3
   },
   "file_extension": ".py",
   "mimetype": "text/x-python",
   "name": "python",
   "nbconvert_exporter": "python",
   "pygments_lexer": "ipython3",
   "version": "3.6.7"
  }
 },
 "nbformat": 4,
 "nbformat_minor": 2
}
