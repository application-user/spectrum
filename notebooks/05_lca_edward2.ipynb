{
 "cells": [
  {
   "cell_type": "markdown",
   "metadata": {},
   "source": [
    "In this notebook we experiment with implementing Latent Credible Analysis models. Let's build the most simpleLCA"
   ]
  },
  {
   "cell_type": "code",
   "execution_count": 37,
   "metadata": {},
   "outputs": [
    {
     "name": "stdout",
     "output_type": "stream",
     "text": [
      "The autoreload extension is already loaded. To reload it, use:\n",
      "  %reload_ext autoreload\n"
     ]
    }
   ],
   "source": [
    "%load_ext autoreload\n",
    "%autoreload 2"
   ]
  },
  {
   "cell_type": "code",
   "execution_count": 38,
   "metadata": {},
   "outputs": [],
   "source": [
    "import pandas as pd\n",
    "import numpy as np"
   ]
  },
  {
   "cell_type": "code",
   "execution_count": 39,
   "metadata": {},
   "outputs": [],
   "source": [
    "import tensorflow as tf\n",
    "from tensorflow_probability import edward2 as ed\n",
    "import tensorflow_probability as tfp"
   ]
  },
  {
   "cell_type": "code",
   "execution_count": 40,
   "metadata": {},
   "outputs": [],
   "source": [
    "import sys\n",
    "sys.path.insert(0, '../')"
   ]
  },
  {
   "cell_type": "code",
   "execution_count": 41,
   "metadata": {},
   "outputs": [
    {
     "data": {
      "text/plain": [
       "('2.1.0', '0.9.0')"
      ]
     },
     "execution_count": 41,
     "metadata": {},
     "output_type": "execute_result"
    }
   ],
   "source": [
    "tf.__version__, tfp.__version__"
   ]
  },
  {
   "cell_type": "markdown",
   "metadata": {},
   "source": [
    "# Synthetic Dataset"
   ]
  },
  {
   "cell_type": "code",
   "execution_count": 42,
   "metadata": {},
   "outputs": [
    {
     "data": {
      "text/html": [
       "<div>\n",
       "<style scoped>\n",
       "    .dataframe tbody tr th:only-of-type {\n",
       "        vertical-align: middle;\n",
       "    }\n",
       "\n",
       "    .dataframe tbody tr th {\n",
       "        vertical-align: top;\n",
       "    }\n",
       "\n",
       "    .dataframe thead th {\n",
       "        text-align: right;\n",
       "    }\n",
       "</style>\n",
       "<table border=\"1\" class=\"dataframe\">\n",
       "  <thead>\n",
       "    <tr style=\"text-align: right;\">\n",
       "      <th></th>\n",
       "      <th>source_id</th>\n",
       "      <th>object_id</th>\n",
       "      <th>value</th>\n",
       "    </tr>\n",
       "  </thead>\n",
       "  <tbody>\n",
       "    <tr>\n",
       "      <th>0</th>\n",
       "      <td>0</td>\n",
       "      <td>0</td>\n",
       "      <td>0</td>\n",
       "    </tr>\n",
       "    <tr>\n",
       "      <th>1</th>\n",
       "      <td>0</td>\n",
       "      <td>1</td>\n",
       "      <td>1</td>\n",
       "    </tr>\n",
       "    <tr>\n",
       "      <th>2</th>\n",
       "      <td>1</td>\n",
       "      <td>1</td>\n",
       "      <td>0</td>\n",
       "    </tr>\n",
       "    <tr>\n",
       "      <th>3</th>\n",
       "      <td>1</td>\n",
       "      <td>0</td>\n",
       "      <td>1</td>\n",
       "    </tr>\n",
       "    <tr>\n",
       "      <th>4</th>\n",
       "      <td>2</td>\n",
       "      <td>1</td>\n",
       "      <td>2</td>\n",
       "    </tr>\n",
       "  </tbody>\n",
       "</table>\n",
       "</div>"
      ],
      "text/plain": [
       "   source_id  object_id  value\n",
       "0          0          0      0\n",
       "1          0          1      1\n",
       "2          1          1      0\n",
       "3          1          0      1\n",
       "4          2          1      2"
      ]
     },
     "execution_count": 42,
     "metadata": {},
     "output_type": "execute_result"
    }
   ],
   "source": [
    "claims = dict()\n",
    "claims['source_id'] = [0, 0, 1, 1, 2]\n",
    "claims['object_id'] = [0, 1, 1, 0, 1]\n",
    "claims['value'] = [0, 1, 0, 1, 2]\n",
    "claims = pd.DataFrame(data=claims)\n",
    "claims"
   ]
  },
  {
   "cell_type": "markdown",
   "metadata": {},
   "source": [
    "# Truth Discovery"
   ]
  },
  {
   "cell_type": "code",
   "execution_count": 46,
   "metadata": {},
   "outputs": [],
   "source": [
    "from spectrum.judge.lca_tf import LCA"
   ]
  },
  {
   "cell_type": "code",
   "execution_count": 47,
   "metadata": {},
   "outputs": [
    {
     "data": {
      "text/plain": [
       "({}, {})"
      ]
     },
     "execution_count": 47,
     "metadata": {},
     "output_type": "execute_result"
    }
   ],
   "source": [
    "lca = LCA()\n",
    "lca.discover(claims)"
   ]
  },
  {
   "cell_type": "markdown",
   "metadata": {},
   "source": [
    "For now just use directly BBVI"
   ]
  },
  {
   "cell_type": "code",
   "execution_count": 50,
   "metadata": {},
   "outputs": [],
   "source": [
    "from spectrum.inference.bbvi import BBVI"
   ]
  },
  {
   "cell_type": "code",
   "execution_count": 53,
   "metadata": {},
   "outputs": [],
   "source": [
    "bbvi = BBVI(p=lca.observed_model, q=lca.mean_field_model, p_vars=lca.model_vars, q_vars=lca.latent_vars, n_samples=2)"
   ]
  },
  {
   "cell_type": "code",
   "execution_count": 55,
   "metadata": {},
   "outputs": [
    {
     "name": "stdout",
     "output_type": "stream",
     "text": [
      "iteration 0 -  loss 4.852030277252197\n",
      "iteration 100 -  loss 4.844241619110107\n",
      "iteration 200 -  loss 4.655076026916504\n",
      "iteration 300 -  loss 4.701894760131836\n",
      "iteration 400 -  loss 4.819034576416016\n",
      "iteration 500 -  loss 4.867183685302734\n",
      "iteration 600 -  loss 4.84746789932251\n",
      "iteration 700 -  loss 4.692216873168945\n",
      "iteration 800 -  loss 4.927833080291748\n",
      "iteration 900 -  loss 4.6660614013671875\n"
     ]
    }
   ],
   "source": [
    "bbvi.train(epochs=1000, learning_rate=0.001)"
   ]
  },
  {
   "cell_type": "code",
   "execution_count": 56,
   "metadata": {},
   "outputs": [],
   "source": [
    "import matplotlib.pyplot as plt"
   ]
  },
  {
   "cell_type": "code",
   "execution_count": 58,
   "metadata": {},
   "outputs": [
    {
     "data": {
      "text/plain": [
       "[<matplotlib.lines.Line2D at 0x147568748>]"
      ]
     },
     "execution_count": 58,
     "metadata": {},
     "output_type": "execute_result"
    },
    {
     "data": {
      "image/png": "[encoded data removed]",
      "text/plain": [
       "<Figure size 432x288 with 1 Axes>"
      ]
     },
     "metadata": {
      "needs_background": "light"
     },
     "output_type": "display_data"
    }
   ],
   "source": [
    "plt.plot(bbvi.train_loss)"
   ]
  },
  {
   "cell_type": "code",
   "execution_count": 70,
   "metadata": {},
   "outputs": [
    {
     "data": {
      "text/plain": [
       "\u001b[0;31mSignature:\u001b[0m \u001b[0mtf\u001b[0m\u001b[0;34m.\u001b[0m\u001b[0mmath\u001b[0m\u001b[0;34m.\u001b[0m\u001b[0msigmoid\u001b[0m\u001b[0;34m(\u001b[0m\u001b[0mx\u001b[0m\u001b[0;34m,\u001b[0m \u001b[0mname\u001b[0m\u001b[0;34m=\u001b[0m\u001b[0;32mNone\u001b[0m\u001b[0;34m)\u001b[0m\u001b[0;34m\u001b[0m\u001b[0m\n",
       "\u001b[0;31mDocstring:\u001b[0m\n",
       "Computes sigmoid of `x` element-wise.\n",
       "\n",
       "Specifically, `y = 1 / (1 + exp(-x))`.\n",
       "\n",
       "Args:\n",
       "  x: A Tensor with type `float16`, `float32`, `float64`, `complex64`, or\n",
       "    `complex128`.\n",
       "  name: A name for the operation (optional).\n",
       "\n",
       "Returns:\n",
       "  A Tensor with the same type as `x`.\n",
       "\n",
       "@compatibility(scipy)\n",
       "Equivalent to scipy.special.expit\n",
       "@end_compatibility\n",
       "\u001b[0;31mFile:\u001b[0m      ~/miniconda3/envs/bbvi/lib/python3.7/site-packages/tensorflow_core/python/ops/math_ops.py\n",
       "\u001b[0;31mType:\u001b[0m      function\n"
      ]
     },
     "metadata": {},
     "output_type": "display_data"
    }
   ],
   "source": [
    "tf.math.sigmoid?"
   ]
  },
  {
   "cell_type": "code",
   "execution_count": 59,
   "metadata": {},
   "outputs": [
    {
     "data": {
      "text/plain": [
       "[<tf.Variable 'honest_probs_q:0' shape=(3,) dtype=float32, numpy=array([0.46089548, 0.48844063, 0.4919223 ], dtype=float32)>,\n",
       " <tf.Variable 'truth_prob_0_q:0' shape=(2,) dtype=float32, numpy=array([0.522385 , 0.4779005], dtype=float32)>,\n",
       " <tf.Variable 'truth_prob_1_q:0' shape=(3,) dtype=float32, numpy=array([0.38097712, 0.32764   , 0.2947515 ], dtype=float32)>]"
      ]
     },
     "execution_count": 59,
     "metadata": {},
     "output_type": "execute_result"
    }
   ],
   "source": [
    "lca.latent_vars"
   ]
  },
  {
   "cell_type": "code",
   "execution_count": 60,
   "metadata": {},
   "outputs": [
    {
     "data": {
      "text/plain": [
       "<tf.Variable 'honest_probs_q:0' shape=(3,) dtype=float32, numpy=array([0.46089548, 0.48844063, 0.4919223 ], dtype=float32)>"
      ]
     },
     "execution_count": 60,
     "metadata": {},
     "output_type": "execute_result"
    }
   ],
   "source": [
    "lca.latent_vars[0]"
   ]
  },
  {
   "cell_type": "code",
   "execution_count": 64,
   "metadata": {},
   "outputs": [],
   "source": [
    "import tensorflow_probability as tfp"
   ]
  },
  {
   "cell_type": "code",
   "execution_count": 66,
   "metadata": {},
   "outputs": [
    {
     "data": {
      "text/plain": [
       "[<tf.Variable 'honest_probs_p:0' shape=(3,) dtype=float32, numpy=array([0.4648654 , 0.43442994, 0.39777946], dtype=float32)>,\n",
       " <tf.Variable 'truth_prob_0_p:0' shape=(2,) dtype=float32, numpy=array([0.5197642 , 0.48051664], dtype=float32)>,\n",
       " <tf.Variable 'truth_prob_1_p:0' shape=(3,) dtype=float32, numpy=array([0.34060454, 0.357473  , 0.2995115 ], dtype=float32)>]"
      ]
     },
     "execution_count": 66,
     "metadata": {},
     "output_type": "execute_result"
    }
   ],
   "source": [
    "lca.model_vars"
   ]
  },
  {
   "cell_type": "code",
   "execution_count": 68,
   "metadata": {},
   "outputs": [
    {
     "data": {
      "text/plain": [
       "\u001b[0;31mInit signature:\u001b[0m \u001b[0mtf\u001b[0m\u001b[0;34m.\u001b[0m\u001b[0mVariable\u001b[0m\u001b[0;34m(\u001b[0m\u001b[0;34m*\u001b[0m\u001b[0margs\u001b[0m\u001b[0;34m,\u001b[0m \u001b[0;34m**\u001b[0m\u001b[0mkwargs\u001b[0m\u001b[0;34m)\u001b[0m\u001b[0;34m\u001b[0m\u001b[0m\n",
       "\u001b[0;31mDocstring:\u001b[0m     \n",
       "See the [variable guide](https://tensorflow.org/guide/variable).\n",
       "\n",
       "A variable maintains shared, persistent state manipulated by a program.\n",
       "\n",
       "The `Variable()` constructor requires an initial value for the variable, which\n",
       "can be a `Tensor` of any type and shape. This initial value defines the type\n",
       "and shape of the variable. After construction, the type and shape of the\n",
       "variable are fixed. The value can be changed using one of the assign methods.\n",
       "\n",
       ">>> v = tf.Variable(1.)\n",
       ">>> v.assign(2.)\n",
       "<tf.Variable ... shape=() dtype=float32, numpy=2.0>\n",
       ">>> v.assign_add(0.5)\n",
       "<tf.Variable ... shape=() dtype=float32, numpy=2.5>\n",
       "\n",
       "The `shape` argument to `Variable`'s constructor allows you to construct a\n",
       "variable with a less defined shape than its `initial_value`:\n",
       "\n",
       ">>> v = tf.Variable(1., shape=tf.TensorShape(None))\n",
       ">>> v.assign([[1.]])\n",
       "<tf.Variable ... shape=<unknown> dtype=float32, numpy=array([[1.]], ...)>\n",
       "\n",
       "Just like any `Tensor`, variables created with `Variable()` can be used as\n",
       "inputs to operations. Additionally, all the operators overloaded for the\n",
       "`Tensor` class are carried over to variables.\n",
       "\n",
       ">>> w = tf.Variable([[1.], [2.]])\n",
       ">>> x = tf.constant([[3., 4.]])\n",
       ">>> tf.matmul(w, x)\n",
       "<tf.Tensor:... shape=(2, 2), ... numpy=\n",
       "  array([[3., 4.],\n",
       "         [6., 8.]], dtype=float32)>\n",
       ">>> tf.sigmoid(w + x)\n",
       "<tf.Tensor:... shape=(2, 2), ...>\n",
       "\n",
       "When building a machine learning model it is often convenient to distinguish\n",
       "between variables holding trainable model parameters and other variables such\n",
       "as a `step` variable used to count training steps. To make this easier, the\n",
       "variable constructor supports a `trainable=<bool>`\n",
       "parameter. `tf.GradientTape` watches trainable variables by default:\n",
       "\n",
       ">>> with tf.GradientTape(persistent=True) as tape:\n",
       "...   trainable = tf.Variable(1.)\n",
       "...   non_trainable = tf.Variable(2., trainable=False)\n",
       "...   x1 = trainable * 2.\n",
       "...   x2 = non_trainable * 3.\n",
       ">>> tape.gradient(x1, trainable)\n",
       "<tf.Tensor:... shape=(), dtype=float32, numpy=2.0>\n",
       ">>> assert tape.gradient(x2, non_trainable) is None  # Unwatched\n",
       "\n",
       "Variables are automatically tracked when assigned to attributes of types\n",
       "inheriting from `tf.Module`.\n",
       "\n",
       ">>> m = tf.Module()\n",
       ">>> m.v = tf.Variable([1.])\n",
       ">>> m.trainable_variables\n",
       "(<tf.Variable ... shape=(1,) ... numpy=array([1.], dtype=float32)>,)\n",
       "\n",
       "This tracking then allows saving variable values to\n",
       "[training checkpoints](https://www.tensorflow.org/guide/checkpoint), or to\n",
       "[SavedModels](https://www.tensorflow.org/guide/saved_model) which include\n",
       "serialized TensorFlow graphs.\n",
       "\n",
       "Variables are often captured and manipulated by `tf.function`s. This works the\n",
       "same way the un-decorated function would have:\n",
       "\n",
       ">>> v = tf.Variable(0.)\n",
       ">>> read_and_decrement = tf.function(lambda: v.assign_sub(0.1))\n",
       ">>> read_and_decrement()\n",
       "<tf.Tensor: shape=(), dtype=float32, numpy=-0.1>\n",
       ">>> read_and_decrement()\n",
       "<tf.Tensor: shape=(), dtype=float32, numpy=-0.2>\n",
       "\n",
       "Variables created inside a `tf.function` must be owned outside the function\n",
       "and be created only once:\n",
       "\n",
       ">>> class M(tf.Module):\n",
       "...   @tf.function\n",
       "...   def __call__(self, x):\n",
       "...     if not hasattr(self, \"v\"):  # Or set self.v to None in __init__\n",
       "...       self.v = tf.Variable(x)\n",
       "...     return self.v * x\n",
       ">>> m = M()\n",
       ">>> m(2.)\n",
       "<tf.Tensor: shape=(), dtype=float32, numpy=4.0>\n",
       ">>> m(3.)\n",
       "<tf.Tensor: shape=(), dtype=float32, numpy=6.0>\n",
       ">>> m.v\n",
       "<tf.Variable ... shape=() dtype=float32, numpy=2.0>\n",
       "\n",
       "See the `tf.function` documentation for details.\n",
       "\u001b[0;31mInit docstring:\u001b[0m\n",
       "Creates a new variable with value `initial_value`. (deprecated arguments)\n",
       "\n",
       "Warning: SOME ARGUMENTS ARE DEPRECATED: `(caching_device)`. They will be removed in a future version.\n",
       "Instructions for updating:\n",
       "A variable's value can be manually cached by calling tf.Variable.read_value() under a tf.device scope. The caching_device argument does not work properly.\n",
       "\n",
       "Args:\n",
       "  initial_value: A `Tensor`, or Python object convertible to a `Tensor`,\n",
       "    which is the initial value for the Variable. The initial value must have\n",
       "    a shape specified unless `validate_shape` is set to False. Can also be a\n",
       "    callable with no argument that returns the initial value when called. In\n",
       "    that case, `dtype` must be specified. (Note that initializer functions\n",
       "    from init_ops.py must first be bound to a shape before being used here.)\n",
       "  trainable: If `True`, GradientTapes automatically watch uses of this\n",
       "    variable. Defaults to `True`, unless `synchronization` is set to\n",
       "    `ON_READ`, in which case it defaults to `False`.\n",
       "  validate_shape: If `False`, allows the variable to be initialized with a\n",
       "    value of unknown shape. If `True`, the default, the shape of\n",
       "    `initial_value` must be known.\n",
       "  caching_device: Optional device string describing where the Variable\n",
       "    should be cached for reading.  Defaults to the Variable's device. If not\n",
       "    `None`, caches on another device.  Typical use is to cache on the device\n",
       "    where the Ops using the Variable reside, to deduplicate copying through\n",
       "    `Switch` and other conditional statements.\n",
       "  name: Optional name for the variable. Defaults to `'Variable'` and gets\n",
       "    uniquified automatically.\n",
       "  variable_def: `VariableDef` protocol buffer. If not `None`, recreates the\n",
       "    Variable object with its contents, referencing the variable's nodes in\n",
       "    the graph, which must already exist. The graph is not changed.\n",
       "    `variable_def` and the other arguments are mutually exclusive.\n",
       "  dtype: If set, initial_value will be converted to the given type. If\n",
       "    `None`, either the datatype will be kept (if `initial_value` is a\n",
       "    Tensor), or `convert_to_tensor` will decide.\n",
       "  import_scope: Optional `string`. Name scope to add to the `Variable.` Only\n",
       "    used when initializing from protocol buffer.\n",
       "  constraint: An optional projection function to be applied to the variable\n",
       "    after being updated by an `Optimizer` (e.g. used to implement norm\n",
       "    constraints or value constraints for layer weights). The function must\n",
       "    take as input the unprojected Tensor representing the value of the\n",
       "    variable and return the Tensor for the projected value (which must have\n",
       "    the same shape). Constraints are not safe to use when doing asynchronous\n",
       "    distributed training.\n",
       "  synchronization: Indicates when a distributed a variable will be\n",
       "    aggregated. Accepted values are constants defined in the class\n",
       "    `tf.VariableSynchronization`. By default the synchronization is set to\n",
       "    `AUTO` and the current `DistributionStrategy` chooses when to\n",
       "    synchronize.\n",
       "  aggregation: Indicates how a distributed variable will be aggregated.\n",
       "    Accepted values are constants defined in the class\n",
       "    `tf.VariableAggregation`.\n",
       "  shape: (optional) The shape of this variable. If None, the shape of\n",
       "    `initial_value` will be used. When setting this argument to\n",
       "    `tf.TensorShape(None)` (representing an unspecified shape), the variable\n",
       "    can be assigned with values of different shapes.\n",
       "\n",
       "Raises:\n",
       "  ValueError: If both `variable_def` and initial_value are specified.\n",
       "  ValueError: If the initial value is not specified, or does not have a\n",
       "    shape and `validate_shape` is `True`.\n",
       "\u001b[0;31mFile:\u001b[0m           ~/miniconda3/envs/bbvi/lib/python3.7/site-packages/tensorflow_core/python/ops/variables.py\n",
       "\u001b[0;31mType:\u001b[0m           VariableMetaclass\n",
       "\u001b[0;31mSubclasses:\u001b[0m     VariableV1, DistributedVariable, AggregatingVariable, AutoCastVariable\n"
      ]
     },
     "metadata": {},
     "output_type": "display_data"
    }
   ],
   "source": [
    "tf.Variable?"
   ]
  },
  {
   "cell_type": "code",
   "execution_count": 69,
   "metadata": {},
   "outputs": [
    {
     "data": {
      "text/plain": [
       "\u001b[0;31mSignature:\u001b[0m \u001b[0mtf\u001b[0m\u001b[0;34m.\u001b[0m\u001b[0mmath\u001b[0m\u001b[0;34m.\u001b[0m\u001b[0msoftmax\u001b[0m\u001b[0;34m(\u001b[0m\u001b[0mlogits\u001b[0m\u001b[0;34m,\u001b[0m \u001b[0maxis\u001b[0m\u001b[0;34m=\u001b[0m\u001b[0;32mNone\u001b[0m\u001b[0;34m,\u001b[0m \u001b[0mname\u001b[0m\u001b[0;34m=\u001b[0m\u001b[0;32mNone\u001b[0m\u001b[0;34m)\u001b[0m\u001b[0;34m\u001b[0m\u001b[0m\n",
       "\u001b[0;31mDocstring:\u001b[0m\n",
       "Computes softmax activations.\n",
       "\n",
       "This function performs the equivalent of\n",
       "\n",
       "    softmax = tf.exp(logits) / tf.reduce_sum(tf.exp(logits), axis)\n",
       "\n",
       "Args:\n",
       "  logits: A non-empty `Tensor`. Must be one of the following types: `half`,\n",
       "    `float32`, `float64`.\n",
       "  axis: The dimension softmax would be performed on. The default is -1 which\n",
       "    indicates the last dimension.\n",
       "  name: A name for the operation (optional).\n",
       "\n",
       "Returns:\n",
       "  A `Tensor`. Has the same type and shape as `logits`.\n",
       "\n",
       "Raises:\n",
       "  InvalidArgumentError: if `logits` is empty or `axis` is beyond the last\n",
       "    dimension of `logits`.\n",
       "\u001b[0;31mFile:\u001b[0m      ~/miniconda3/envs/bbvi/lib/python3.7/site-packages/tensorflow_core/python/ops/nn_ops.py\n",
       "\u001b[0;31mType:\u001b[0m      function\n"
      ]
     },
     "metadata": {},
     "output_type": "display_data"
    }
   ],
   "source": [
    "tf.math.softmax?"
   ]
  },
  {
   "cell_type": "markdown",
   "metadata": {},
   "source": [
    "# Draft"
   ]
  },
  {
   "cell_type": "raw",
   "metadata": {},
   "source": [
    "log_prob_fn = ed.make_log_joint_fn(lca.model)\n",
    "log_prob_fn(**{'z_trusts': [0, 0, 1],\n",
    "                       'z_truth_0': 1,\n",
    "                       'z_truth_1': 1,\n",
    "                       'x_claim_0': 0,\n",
    "                       'x_claim_1': 1,\n",
    "                      'x_claim_2': 0,\n",
    "                      'x_claim_3': 1, \n",
    "                      'x_claim_4': 2})"
   ]
  },
  {
   "cell_type": "raw",
   "metadata": {},
   "source": [
    "def lca_model(claims):\n",
    "    \"\"\"Build a Latent Credibility Analysis (LCA).\n",
    "   \n",
    "    A LCA model represents a joint distribution p(Y, H, X), where\n",
    "    Y represents hidden truth rvs, H represents data source honesty, and X\n",
    "    represents observation.\n",
    "\n",
    "    Concretely, let's assume that we have M objects, S data sources, and our\n",
    "    observation will be the mask matrix W, `mask`, (see build_mask()), and\n",
    "    observation matrix `observation` (see build_observation()).\n",
    "\n",
    "    With this context, we have:\n",
    "        p(Y, H, X) = product_{m=1,..,M}[p(y_m, H, X)], where\n",
    "        p(y_m, H, X) = p(y_m)product_{s in S_m}[p(b_sm|y_m,s)p(s)],\n",
    "        where S_m are the set of sources that make claims about an object m.\n",
    "\n",
    "    Parameters\n",
    "    ----------\n",
    "    claims: pd.DataFrame\n",
    "        a data frame that has columns [source_id, object_id, value]\n",
    "\n",
    "    \"\"\"\n",
    "    problem_sizes = claims.nunique()\n",
    "    n_sources = problem_sizes['source_id']\n",
    "    n_objects = problem_sizes['object_id']\n",
    "    domain_size = claims.groupby('object_id').max()['value'] + 1\n",
    "    # create honest rv, H_s, for each sources\n",
    "    honest = []\n",
    "    for s in pyro.plate(name='sources', size=n_sources):\n",
    "        honest.append(\n",
    "            pyro.sample(\n",
    "                f's_{s}',\n",
    "                dist.Categorical(\n",
    "                    probs=pyro.param(f'theta_s_{s}',\n",
    "                                     init_tensor=_draw_probs(),\n",
    "                                     constraint=constraints.simplex))))\n",
    "\n",
    "    # creat hidden truth rv for each object m\n",
    "    hidden_truth = []\n",
    "    for m in pyro.plate(name='objects', size=n_objects):\n",
    "        hidden_truth.append(\n",
    "            pyro.sample(\n",
    "                f'y_{m}',\n",
    "                dist.Categorical(probs=pyro.param(\n",
    "                    f'theta_m_{m}',\n",
    "                    init_tensor=torch.ones((domain_size[m], )) /\n",
    "                    domain_size[m],\n",
    "                    constraint=constraints.simplex))))\n",
    "\n",
    "    for c in pyro.plate(name='claims', size=len(claims.index)):\n",
    "        m = claims.iloc[c]['object_id']\n",
    "        s = claims.iloc[c]['source_id']\n",
    "        y_m = hidden_truth[m]\n",
    "        probs = _build_obj_probs_from_src_honest(pyro.param(f'theta_s_{s}'),\n",
    "                                                 domain_size[m], y_m)\n",
    "        pyro.sample(f'b_{s}_{c}', dist.Categorical(probs=probs))\n",
    "        "
   ]
  },
  {
   "cell_type": "markdown",
   "metadata": {},
   "source": [
    "# Model $p(x,z)$"
   ]
  },
  {
   "cell_type": "raw",
   "metadata": {},
   "source": [
    "def compute_prob_desc(claims):\n",
    "    problem_sizes = claims.nunique()\n",
    "    n_sources = problem_sizes['source_id']\n",
    "    n_objects = problem_sizes['object_id']\n",
    "    domain_sizes = claims.groupby('object_id').max()['value'] + 1\n",
    "    return n_sources, n_objects, domain_sizes\n",
    "\n",
    "\n",
    "def model(claims):\n",
    "    \"\"\"a generative model\n",
    "    \n",
    "    We assume each source if it asserts an object's value then it is the one and the only assumption\n",
    "    about that object made by it.\n",
    "    \n",
    "    Parameters\n",
    "    ----------\n",
    "    claims: pd.DataFrame\n",
    "        a data frame that has columns [source_id, object_id, value]\n",
    "        \n",
    "    trainable_variables: list\n",
    "        a list of tf.Variable. These are model parameters.\n",
    "    \"\"\"\n",
    "    n_sources, n_objects, domain_sizes = compute_prob_desc(claims)\n",
    "    \n",
    "    # hidden trusts\n",
    "    honest_probs = tf.Variable(initial_value=tf.ones(n_sources) * 0.5, name='honest_probs')\n",
    "    z_trusts = ed.Bernoulli(name=f'z_trusts', probs=honest_probs)\n",
    "    \n",
    "    # hidden truths\n",
    "    object_probs = []\n",
    "    z_truths = []\n",
    "    for m in domain_sizes.index:\n",
    "        object_probs.append(tf.Variable(initial_value=tf.ones(domain_sizes[m],)/domain_sizes[m], name=f'truth_prob_{m}'))\n",
    "        z_truths.append(ed.Categorical(name=f'z_truth_{m}', probs=object_probs[m]))\n",
    "        \n",
    "    # now generate claims\n",
    "    x_claims = []\n",
    "    for c in claims.index:\n",
    "        s = claims.iloc[c]['source_id']\n",
    "        m = claims.iloc[c]['object_id']\n",
    "        z_truth_m = z_truths[m]  \n",
    "        probs = build_claim_probs(honest_probs[s], domain_sizes[m], z_truth_m.value)\n",
    "        x_claims.append(ed.Categorical(name=f'x_claim_{c}', probs=probs))\n",
    "        \n",
    "    return [honest_probs] + object_probs\n",
    "        \n",
    "def build_claim_probs(honest_prob, domain_size, truth):\n",
    "    mask = tf.reduce_sum(tf.one_hot([truth], domain_size), axis=0)\n",
    "    other = tf.ones(domain_size) - mask\n",
    "    probs = mask*honest_prob*tf.ones(domain_size) + other*((1 - honest_prob) / (domain_size - 1))*tf.ones(domain_size)\n",
    "    return probs"
   ]
  },
  {
   "cell_type": "markdown",
   "metadata": {},
   "source": [
    "# Variational model $p(z)$"
   ]
  },
  {
   "cell_type": "raw",
   "metadata": {},
   "source": [
    "def mean_field_model(claims):\n",
    "    \"\"\"a mean field varational model\n",
    "    \n",
    "    Parameters\n",
    "    ----------\n",
    "    claims: pd.DataFrame\n",
    "        a data frame that has columns [source_id, object_id, value]\n",
    "        \n",
    "    Returns\n",
    "    -------\n",
    "    trainable_variables: list\n",
    "        a list of tf.Variable. These are variational model parameters.\n",
    "    \"\"\"\n",
    "    n_sources, n_objects, domain_sizes = compute_prob_desc(claims)\n",
    "    \n",
    "    # hidden trust\n",
    "    honest_probs = tf.Variable(initial_value=tf.ones(n_sources) * 0.5, name='honest_probs_q')\n",
    "    z_trusts = ed.Bernoulli(name=f'z_trusts', probs=honest_probs)\n",
    "\n",
    "    # hidden truth\n",
    "    object_probs = []\n",
    "    for m in domain_sizes.index:\n",
    "        object_probs.append(tf.Variable(initial_value=tf.ones(domain_sizes[m],)/domain_sizes[m], name=f'truth_prob_{m}_q'))\n",
    "        ed.Categorical(name=f'z_truth_{m}', probs=object_probs[m])\n",
    "\n",
    "    return [honest_probs] + object_probs"
   ]
  },
  {
   "cell_type": "raw",
   "metadata": {},
   "source": [
    "mean_field_model(claims)"
   ]
  },
  {
   "cell_type": "code",
   "execution_count": 23,
   "metadata": {},
   "outputs": [
    {
     "data": {
      "text/plain": [
       "[<tf.Variable 'honest_probs:0' shape=(3,) dtype=float32, numpy=array([0.5, 0.5, 0.5], dtype=float32)>,\n",
       " <tf.Variable 'truth_prob_0:0' shape=(2,) dtype=float32, numpy=array([0.5, 0.5], dtype=float32)>,\n",
       " <tf.Variable 'truth_prob_1:0' shape=(3,) dtype=float32, numpy=array([0.33333334, 0.33333334, 0.33333334], dtype=float32)>]"
      ]
     },
     "execution_count": 23,
     "metadata": {},
     "output_type": "execute_result"
    }
   ],
   "source": [
    "model(claims)"
   ]
  },
  {
   "cell_type": "markdown",
   "metadata": {},
   "source": [
    "# Testing"
   ]
  },
  {
   "cell_type": "raw",
   "metadata": {},
   "source": [
    "samples = []\n",
    "for s in range(10):\n",
    "    with ed.tape() as sample:\n",
    "        mean_field_model(claims)\n",
    "    samples.append(sample)"
   ]
  },
  {
   "cell_type": "raw",
   "metadata": {},
   "source": [
    "log_prob_fn = ed.make_log_joint_fn(model)\n",
    "log_prob_fn(claims, **{'z_trusts': [0, 0, 1],\n",
    "                       'z_truth_0': 1,\n",
    "                       'z_truth_1': 1,\n",
    "                       'x_claim_0': 0,\n",
    "                       'x_claim_1': 1,\n",
    "                      'x_claim_2': 0,\n",
    "                      'x_claim_3': 1, \n",
    "                      'x_claim_4': 2})"
   ]
  },
  {
   "cell_type": "raw",
   "metadata": {},
   "source": [
    "Let us verify whether the above computation is correct"
   ]
  },
  {
   "cell_type": "raw",
   "metadata": {},
   "source": [
    "log_p_z = tf.math.log(0.5) + tf.math.log(0.5) + tf.math.log(0.5) + tf.math.log(0.5) + tf.math.log(0.33333)"
   ]
  },
  {
   "cell_type": "raw",
   "metadata": {},
   "source": [
    "log_p_x_object_1 = tf.math.log(0.5) + tf.math.log(0.5)"
   ]
  },
  {
   "cell_type": "raw",
   "metadata": {},
   "source": [
    "log_p_x_object_2 = tf.math.log(0.5) + tf.math.log(0.25) + tf.math.log(0.25)"
   ]
  },
  {
   "cell_type": "raw",
   "metadata": {},
   "source": [
    "log_p_z + log_p_x_object_1 + log_p_x_object_2"
   ]
  },
  {
   "cell_type": "raw",
   "metadata": {},
   "source": [
    "That is our model is correct!"
   ]
  },
  {
   "cell_type": "raw",
   "metadata": {},
   "source": [
    "### Score function implementation"
   ]
  },
  {
   "cell_type": "raw",
   "metadata": {},
   "source": [
    "with ed.tape() as tape:\n",
    "    lca.observed_model()"
   ]
  },
  {
   "cell_type": "raw",
   "metadata": {},
   "source": [
    "def sample(n_samples, model, *args, **kwargs):\n",
    "    samples = []\n",
    "    for i in range(n_samples):\n",
    "        with ed.tape() as tape:\n",
    "            model(*args, **kwargs)\n",
    "        samples.append(tape)\n",
    "    return samples\n",
    "\n",
    "def observe(observation, model, *args, **kwargs):\n",
    "    \"\"\"compute observed model\n",
    "\n",
    "    Parameters\n",
    "    ----------\n",
    "    model: callable\n",
    "        a callable whose computation consists of with ed.RandomVariable's.\n",
    "\n",
    "    data: dict\n",
    "        a dictionary mapping ed.RandomVariable's name to its data.\n",
    "\n",
    "    Returns\n",
    "    -------\n",
    "    \"\"\"\n",
    "    def observed_model():\n",
    "        with ed.interception(ed.make_value_setter(**observation)):\n",
    "            model(*args, **kwargs)\n",
    "\n",
    "    return observed_model\n"
   ]
  },
  {
   "cell_type": "raw",
   "metadata": {},
   "source": [
    "def bbvi_step(model, variational_model, observation):\n",
    "    \"\"\"Implement one step of Black-Box variational inference.\n",
    "    \n",
    "    We use score function estimation for this implementation\n",
    "    \"\"\"\n",
    "    # create model with observed data and log_prob func.\n",
    "    observed_model = observe(model, observation)\n",
    "    log_p = ed.make_log_joint_fn(observed_model)\n",
    "    log_q = ed.make_log_joint_fn(variational_model)\n",
    "    \n",
    "    with tf.GradientTape() as t:\n",
    "        t.watch(trainable_variables)\n",
    "        with ed.tape() as q_z_sample:\n",
    "            variational_model()\n",
    "        # can be replaced by ed.condition, when update to edward 2.0\n",
    "        with ed.tape() as model_sample:\n",
    "            with ed.interception(ed.make_value_setter(**q_z_sample)):\n",
    "                observed_model()\n",
    "    \n",
    "    # elbo_loss = -(observed_log_joint_fn(**variational_sample) -\n",
    "    # variational_log_joint_fn(**variational_sample))\n",
    "        elbo_loss = -(log_p(**q_z_sample) - log_q(**q_z_sample))\n",
    "    return elbo_loss, t.gradient(elbo_loss, trainable_variables)"
   ]
  },
  {
   "cell_type": "raw",
   "metadata": {},
   "source": [
    "def _compute_score_loss_and_gradients(model, variational_model, n_samples, model_vars, latent_vars):\n",
    "    \"\"\"compute a score loss and return its gradients based\n",
    "    on the score function estimation.\n",
    "    \"\"\"\n",
    "    log_p = ed.make_log_joint_fn(model)\n",
    "    log_q = ed.make_log_joint_fn(variational_model)\n",
    "    \n",
    "    p_log_prob = []\n",
    "    q_log_prob = []\n",
    "    \n",
    "    with tf.GradientTape(persistent=True) as t:\n",
    "        t.watch(model_vars + latent_vars)\n",
    "        \n",
    "        # z_s ~ q(z)\n",
    "        q_z_samples = sample(n_samples, variational_model)\n",
    "        \n",
    "        # replay z_s on p(x,z)\n",
    "        p_samples = []\n",
    "        for z_s in q_z_samples:\n",
    "            q_log_prob.append(log_q(**z_s))\n",
    "            with ed.tape() as model_sample: # can be replaced by ed.condition, when update to edward 2.0\n",
    "                with ed.interception(ed.make_value_setter(**z_s)):\n",
    "                    model()\n",
    "            p_samples.append(model_sample) # remove this?\n",
    "            p_log_prob.append(log_p(**model_sample))\n",
    "        \n",
    "        p_log_prob = tf.stack(p_log_prob)\n",
    "        q_log_prob = tf.stack(q_log_prob)\n",
    "        \n",
    "        losses = p_log_prob - q_log_prob\n",
    "        surrogate_loss = -tf.reduce_mean(q_log_prob * tf.stop_gradient(losses))\n",
    "        loss = -(tf.reduce_mean(losses))\n",
    "\n",
    "    q_grads = t.gradient(surrogate_loss, latent_vars)\n",
    "    p_grads = t.gradient(loss, model_vars)\n",
    "    grads_and_vars = list(zip(q_grads, latent_vars)) + list(zip(p_grads, model_vars))\n",
    "        \n",
    "    return loss, grads_and_vars, q_grads, p_grads\n"
   ]
  },
  {
   "cell_type": "raw",
   "metadata": {},
   "source": [
    "loss, grads_and_vars, q_grads, p_grads = _compute_score_loss_and_gradients(lca.observed_model, \n",
    "                                  lca.mean_field_model,\n",
    "                                  n_samples=2, \n",
    "                                  model_vars=lca.model_vars,\n",
    "                                  latent_vars=lca.latent_vars)   "
   ]
  },
  {
   "cell_type": "raw",
   "metadata": {},
   "source": [
    "grads_and_vars"
   ]
  },
  {
   "cell_type": "code",
   "execution_count": null,
   "metadata": {},
   "outputs": [],
   "source": []
  }
 ],
 "metadata": {
  "kernelspec": {
   "display_name": "Python 3",
   "language": "python",
   "name": "python3"
  },
  "language_info": {
   "codemirror_mode": {
    "name": "ipython",
    "version": 3
   },
   "file_extension": ".py",
   "mimetype": "text/x-python",
   "name": "python",
   "nbconvert_exporter": "python",
   "pygments_lexer": "ipython3",
   "version": "3.7.0"
  }
 },
 "nbformat": 4,
 "nbformat_minor": 4
}
