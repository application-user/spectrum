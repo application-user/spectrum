{
 "cells": [
  {
   "cell_type": "code",
   "execution_count": 73,
   "metadata": {},
   "outputs": [],
   "source": [
    "import pandas as pd\n",
    "import numpy as np"
   ]
  },
  {
   "cell_type": "code",
   "execution_count": 112,
   "metadata": {},
   "outputs": [],
   "source": [
    "import tensorflow as tf\n",
    "from tensorflow_probability import edward2 as ed\n",
    "import tensorflow_probability as tfp"
   ]
  },
  {
   "cell_type": "code",
   "execution_count": 113,
   "metadata": {},
   "outputs": [
    {
     "data": {
      "text/plain": [
       "'2.0.0'"
      ]
     },
     "execution_count": 113,
     "metadata": {},
     "output_type": "execute_result"
    }
   ],
   "source": [
    "tf.__version__"
   ]
  },
  {
   "cell_type": "markdown",
   "metadata": {},
   "source": [
    "# Model"
   ]
  },
  {
   "cell_type": "markdown",
   "metadata": {},
   "source": [
    "Some synthetic dataset"
   ]
  },
  {
   "cell_type": "code",
   "execution_count": 101,
   "metadata": {},
   "outputs": [],
   "source": [
    "claims = dict()\n",
    "claims['source_id'] = [0, 0, 1, 1]\n",
    "claims['object_id'] = [0, 1, 1, 0]\n",
    "claims['value'] = [0, 1, 0, 1]\n",
    "claims = pd.DataFrame(data=claims)"
   ]
  },
  {
   "cell_type": "code",
   "execution_count": 161,
   "metadata": {},
   "outputs": [],
   "source": [
    "def compute_problem_size(claims):\n",
    "    problem_sizes = claims.nunique()\n",
    "    n_sources = problem_sizes['source_id']\n",
    "    n_objects = problem_sizes['object_id']\n",
    "    domain_size = claims.groupby('object_id').max()['value'] + 1\n",
    "    return n_sources, n_objects, domain_size.max()\n",
    "\n",
    "def model(claims):\n",
    "    \"\"\"a generative model\n",
    "    \n",
    "    @TODO: how to perform subsample with this model. Is this possible?\n",
    "    \n",
    "    Ideas:\n",
    "        1. because each object has different domain, it is not possible to batch all of their\n",
    "        distribution, we relax this by expanding all objects' domain to be the biggest domain among \n",
    "        all objects. For example if we have three objects with the following domain sizes [3, 2, 5], then we\n",
    "        just expand \n",
    "    \n",
    "    Parameters\n",
    "    ----------\n",
    "    claims: pd.DataFrame\n",
    "        a data frame that has columns [source_id, object_id, value]\n",
    "    \"\"\"\n",
    "    n_sources, n_objects, domain_size = compute_problem_size(claims)\n",
    "    \n",
    "    # data sources: s ~ Bernoulli()\n",
    "    honest_probs = tf.Variable(initial_value=tf.ones(n_sources) * 0.5, name='honest_probs')\n",
    "    s = ed.Bernoulli(name=f's_honest', probs=honest_probs)\n",
    "    \n",
    "    # hidden truth\n",
    "    object_probs = tf.Variable(initial_value=tf.ones((n_objects, domain_size))/domain_size)\n",
    "    o = ed.Categorical(name=f'o_object', probs=object_probs)\n",
    "    return o, o"
   ]
  },
  {
   "cell_type": "code",
   "execution_count": 171,
   "metadata": {},
   "outputs": [
    {
     "data": {
      "text/plain": [
       "OrderedDict([('s_honest',\n",
       "              <ed.RandomVariable 's_honest' shape=(2,) dtype=int32 numpy=array([0, 0], dtype=int32)>),\n",
       "             ('o_object',\n",
       "              <ed.RandomVariable 'o_object' shape=(2,) dtype=int32 numpy=array([1, 1], dtype=int32)>)])"
      ]
     },
     "execution_count": 171,
     "metadata": {},
     "output_type": "execute_result"
    }
   ],
   "source": [
    "with ed.tape() as trace:\n",
    "    model(claims)\n",
    "trace"
   ]
  },
  {
   "cell_type": "markdown",
   "metadata": {},
   "source": [
    "# $\\log p(x,z)$"
   ]
  },
  {
   "cell_type": "code",
   "execution_count": 173,
   "metadata": {},
   "outputs": [],
   "source": [
    "log_prob_fn = ed.make_log_joint_fn(model)"
   ]
  },
  {
   "cell_type": "code",
   "execution_count": 174,
   "metadata": {},
   "outputs": [
    {
     "data": {
      "text/plain": [
       "<tf.Tensor: id=1666, shape=(), dtype=float32, numpy=-2.7725887>"
      ]
     },
     "execution_count": 174,
     "metadata": {},
     "output_type": "execute_result"
    }
   ],
   "source": [
    "log_prob_fn(claims, **{'s_honest': [0, 0], 'o_object': [1,1]})"
   ]
  },
  {
   "cell_type": "code",
   "execution_count": 176,
   "metadata": {},
   "outputs": [
    {
     "data": {
      "text/plain": [
       "<tf.Tensor: id=1677, shape=(), dtype=float32, numpy=-2.7725887>"
      ]
     },
     "execution_count": 176,
     "metadata": {},
     "output_type": "execute_result"
    }
   ],
   "source": [
    "tf.math.log(0.5) + tf.math.log(0.5) + tf.math.log(0.5) + tf.math.log(0.5)"
   ]
  }
 ],
 "metadata": {
  "kernelspec": {
   "display_name": "Python 3",
   "language": "python",
   "name": "python3"
  },
  "language_info": {
   "codemirror_mode": {
    "name": "ipython",
    "version": 3
   },
   "file_extension": ".py",
   "mimetype": "text/x-python",
   "name": "python",
   "nbconvert_exporter": "python",
   "pygments_lexer": "ipython3",
   "version": "3.7.4"
  }
 },
 "nbformat": 4,
 "nbformat_minor": 4
}
