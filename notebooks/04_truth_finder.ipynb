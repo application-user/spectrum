{
 "cells": [
  {
   "cell_type": "markdown",
   "metadata": {},
   "source": [
    "# Introduction\n",
    "We implement [TruthFinder](http://hanj.cs.illinois.edu/pdf/kdd07_xyin.pdf) in this notebook. There are three goals we want to achieve\n",
    "\n",
    "1. Implement and integrate truthfinder into spectrum\n",
    "2. Understand how they evaluate it\n",
    "3. See how they prepare dataset\n",
    "\n",
    "### How TruthFinder works\n",
    "\n",
    "TruthFinder takes into inputs as a set of websites (sources), facts (claims), objects (things of interest). Its mission is to estimate the source reliability and truth facts.\n",
    "\n",
    "**confidence of facts**: The confidence of a fact f is defined as the probability of f being correct.\n",
    "\n",
    "**source reliability**: The reliability of a source s is defined as the expected confidence of facts provided by s.\n",
    "\n",
    "We can visualize the relationship between sources, facts, and objects as shown below (Note that here the websites are the sources)."
   ]
  },
  {
   "cell_type": "markdown",
   "metadata": {},
   "source": [
    "![](./gfx/truthfinder.png)"
   ]
  },
  {
   "cell_type": "markdown",
   "metadata": {},
   "source": [
    "TruthFinder works as follows:\n",
    "1. Initialize all source reliabilities to $t_0$\n",
    "2. While $sim(t_{prev}, t_{now}) < threshold$:\n",
    "    - compute fact confidences\n",
    "    - compute website trustworthiness\n",
    "    \n",
    "here $t$ are the vector of all source reliabities and similarity function is the cosine similarity."
   ]
  },
  {
   "cell_type": "markdown",
   "metadata": {},
   "source": [
    "Now, in order to implement TruthFinder, we need to know how to compute fact confidences and website trustworthiness. We have the following formulas\n",
    "\n",
    "$$s(f) = 1 -  \\prod_{w \\in W(f)}(1 -t(w))$$, where t(w) is computed as \n",
    "\n",
    "![](./gfx/truthfinder_source_reliability.png)"
   ]
  },
  {
   "cell_type": "markdown",
   "metadata": {},
   "source": [
    "However we need to address to subtle problems with the above formula:\n",
    "\n",
    "1. Numerical instability\n",
    "2. Taking into account the influence among facts about the same object.\n",
    "\n",
    "To address numerical instability, we will operate in log space (a common trick). Let's define the source reliabity score \n",
    "$$\\tau(f) = -ln(1 - t(w))$$\n",
    "\n",
    "and fact confidence score:\n",
    "\n",
    "$$\\sigma(f)= -ln(1 - s(f))$$.\n",
    "\n",
    "It is easy to prove $$\\sigma(f) = \\sum_{w \\in W(f)}\\tau(w)$$\n",
    "\n",
    "To account for the influence among facts about the same object, we introduce an adjusted confidence score \n",
    "![](./gfx/truthfinder_adjusted_score.png)\n"
   ]
  },
  {
   "cell_type": "markdown",
   "metadata": {},
   "source": [
    "#### Implication between facts\n",
    "$imp(f_1 \\rightarrow f_2)$ is $f_1$'s influence on $f_{2}$'s confidence. This value is between -1 and 1. A positive value means they support each other and negative one means the opposite. This implication function is domain specific! and can be defined as \n",
    "\n",
    "$imp(f_1 \\rightarrow f_2) = sim(f_1, f_2) - base\\_sim$, where base_sim is a threshold.\n",
    "\n"
   ]
  },
  {
   "cell_type": "markdown",
   "metadata": {},
   "source": [
    "![](./gfx/truthfinder_implication.png)"
   ]
  },
  {
   "cell_type": "markdown",
   "metadata": {},
   "source": [
    "# Implementation\n",
    "\n",
    "They compare source and object results."
   ]
  },
  {
   "cell_type": "code",
   "execution_count": 1,
   "metadata": {},
   "outputs": [],
   "source": [
    "import pandas as pd\n",
    "import os.path as op\n",
    "import numpy as np\n",
    "import seaborn as sns"
   ]
  },
  {
   "cell_type": "code",
   "execution_count": 2,
   "metadata": {},
   "outputs": [],
   "source": [
    "import sys\n",
    "sys.path.insert(0, '../')"
   ]
  },
  {
   "cell_type": "code",
   "execution_count": 3,
   "metadata": {},
   "outputs": [],
   "source": [
    "from spectrum import evaluator\n",
    "from spectrum.judge.truthfinder import TruthFinder"
   ]
  },
  {
   "cell_type": "code",
   "execution_count": 4,
   "metadata": {},
   "outputs": [],
   "source": [
    "DATA_DIR = '../data'\n",
    "DATA_SET = 'population'"
   ]
  },
  {
   "cell_type": "code",
   "execution_count": 5,
   "metadata": {},
   "outputs": [],
   "source": [
    "truths = pd.read_csv(op.join(DATA_DIR, DATA_SET, 'truths.csv'))\n",
    "claims = pd.read_csv(op.join(DATA_DIR, DATA_SET, 'claims.csv'))"
   ]
  },
  {
   "cell_type": "code",
   "execution_count": 6,
   "metadata": {},
   "outputs": [
    {
     "data": {
      "text/html": [
       "<div>\n",
       "<style scoped>\n",
       "    .dataframe tbody tr th:only-of-type {\n",
       "        vertical-align: middle;\n",
       "    }\n",
       "\n",
       "    .dataframe tbody tr th {\n",
       "        vertical-align: top;\n",
       "    }\n",
       "\n",
       "    .dataframe thead th {\n",
       "        text-align: right;\n",
       "    }\n",
       "</style>\n",
       "<table border=\"1\" class=\"dataframe\">\n",
       "  <thead>\n",
       "    <tr style=\"text-align: right;\">\n",
       "      <th></th>\n",
       "      <th>object</th>\n",
       "      <th>value</th>\n",
       "      <th>object_id</th>\n",
       "    </tr>\n",
       "  </thead>\n",
       "  <tbody>\n",
       "    <tr>\n",
       "      <th>0</th>\n",
       "      <td>pepin_wisconsin_Population2000</td>\n",
       "      <td>878</td>\n",
       "      <td>197</td>\n",
       "    </tr>\n",
       "    <tr>\n",
       "      <th>1</th>\n",
       "      <td>tupelo_mississippi_Population2000</td>\n",
       "      <td>34211</td>\n",
       "      <td>266</td>\n",
       "    </tr>\n",
       "    <tr>\n",
       "      <th>2</th>\n",
       "      <td>lincoln_nebraska_Population2000</td>\n",
       "      <td>225581</td>\n",
       "      <td>135</td>\n",
       "    </tr>\n",
       "    <tr>\n",
       "      <th>3</th>\n",
       "      <td>orangecity_iowa_Population2000</td>\n",
       "      <td>5582</td>\n",
       "      <td>191</td>\n",
       "    </tr>\n",
       "    <tr>\n",
       "      <th>4</th>\n",
       "      <td>brownsville_texas_Population2000</td>\n",
       "      <td>139722</td>\n",
       "      <td>31</td>\n",
       "    </tr>\n",
       "  </tbody>\n",
       "</table>\n",
       "</div>"
      ],
      "text/plain": [
       "                              object   value  object_id\n",
       "0     pepin_wisconsin_Population2000     878        197\n",
       "1  tupelo_mississippi_Population2000   34211        266\n",
       "2    lincoln_nebraska_Population2000  225581        135\n",
       "3     orangecity_iowa_Population2000    5582        191\n",
       "4   brownsville_texas_Population2000  139722         31"
      ]
     },
     "execution_count": 6,
     "metadata": {},
     "output_type": "execute_result"
    }
   ],
   "source": [
    "truths.head()"
   ]
  },
  {
   "cell_type": "code",
   "execution_count": 7,
   "metadata": {},
   "outputs": [
    {
     "data": {
      "text/html": [
       "<div>\n",
       "<style scoped>\n",
       "    .dataframe tbody tr th:only-of-type {\n",
       "        vertical-align: middle;\n",
       "    }\n",
       "\n",
       "    .dataframe tbody tr th {\n",
       "        vertical-align: top;\n",
       "    }\n",
       "\n",
       "    .dataframe thead th {\n",
       "        text-align: right;\n",
       "    }\n",
       "</style>\n",
       "<table border=\"1\" class=\"dataframe\">\n",
       "  <thead>\n",
       "    <tr style=\"text-align: right;\">\n",
       "      <th></th>\n",
       "      <th>object</th>\n",
       "      <th>SourceID</th>\n",
       "      <th>value</th>\n",
       "      <th>object_id</th>\n",
       "      <th>source_id</th>\n",
       "    </tr>\n",
       "  </thead>\n",
       "  <tbody>\n",
       "    <tr>\n",
       "      <th>0</th>\n",
       "      <td>pepin_wisconsin_Population2000</td>\n",
       "      <td>5512121: CapitalBot</td>\n",
       "      <td>580</td>\n",
       "      <td>197</td>\n",
       "      <td>555</td>\n",
       "    </tr>\n",
       "    <tr>\n",
       "      <th>1</th>\n",
       "      <td>pepin_wisconsin_Population2000</td>\n",
       "      <td>1960810: Nyttend</td>\n",
       "      <td>878</td>\n",
       "      <td>197</td>\n",
       "      <td>393</td>\n",
       "    </tr>\n",
       "    <tr>\n",
       "      <th>2</th>\n",
       "      <td>tupelo_mississippi_Population2000</td>\n",
       "      <td>104574: ArkansasTraveler</td>\n",
       "      <td>34211</td>\n",
       "      <td>266</td>\n",
       "      <td>294</td>\n",
       "    </tr>\n",
       "    <tr>\n",
       "      <th>3</th>\n",
       "      <td>tupelo_mississippi_Population2000</td>\n",
       "      <td>0 (74.227.33.192)</td>\n",
       "      <td>35611</td>\n",
       "      <td>266</td>\n",
       "      <td>252</td>\n",
       "    </tr>\n",
       "    <tr>\n",
       "      <th>4</th>\n",
       "      <td>tupelo_mississippi_Population2000</td>\n",
       "      <td>0 (72.147.247.16)</td>\n",
       "      <td>35930</td>\n",
       "      <td>266</td>\n",
       "      <td>231</td>\n",
       "    </tr>\n",
       "  </tbody>\n",
       "</table>\n",
       "</div>"
      ],
      "text/plain": [
       "                              object                  SourceID  value  \\\n",
       "0     pepin_wisconsin_Population2000       5512121: CapitalBot    580   \n",
       "1     pepin_wisconsin_Population2000          1960810: Nyttend    878   \n",
       "2  tupelo_mississippi_Population2000  104574: ArkansasTraveler  34211   \n",
       "3  tupelo_mississippi_Population2000         0 (74.227.33.192)  35611   \n",
       "4  tupelo_mississippi_Population2000         0 (72.147.247.16)  35930   \n",
       "\n",
       "   object_id  source_id  \n",
       "0        197        555  \n",
       "1        197        393  \n",
       "2        266        294  \n",
       "3        266        252  \n",
       "4        266        231  "
      ]
     },
     "execution_count": 7,
     "metadata": {},
     "output_type": "execute_result"
    }
   ],
   "source": [
    "claims.head()"
   ]
  },
  {
   "cell_type": "code",
   "execution_count": 8,
   "metadata": {},
   "outputs": [],
   "source": [
    "from spectrum.judge.truthfinder import TruthFinder, TruthFinderAuxiliaryData"
   ]
  },
  {
   "cell_type": "code",
   "execution_count": 9,
   "metadata": {},
   "outputs": [],
   "source": [
    "auxiliary_data = TruthFinderAuxiliaryData()"
   ]
  },
  {
   "cell_type": "code",
   "execution_count": 10,
   "metadata": {},
   "outputs": [
    {
     "data": {
      "text/plain": [
       "{'imp_func': <bound method imp of TruthFinderAuxiliaryData()>,\n",
       " 'initial_trust': 0.5,\n",
       " 'similarity_threshold': 0.99999,\n",
       " 'dampening_factor': 0.3,\n",
       " 'verbose': True}"
      ]
     },
     "execution_count": 10,
     "metadata": {},
     "output_type": "execute_result"
    }
   ],
   "source": [
    "auxiliary_data.to_dict()"
   ]
  },
  {
   "cell_type": "code",
   "execution_count": 11,
   "metadata": {},
   "outputs": [
    {
     "name": "stdout",
     "output_type": "stream",
     "text": [
      "trust similarity - 0.9925649175051428\n",
      "trust similarity - 0.9992719148408195\n",
      "trust similarity - 0.9998120748720698\n",
      "trust similarity - 0.9999464866922706\n",
      "trust similarity - 0.9999824565482319\n",
      "trust similarity - 0.9999938285126778\n"
     ]
    }
   ],
   "source": [
    "truth_finder = TruthFinder()\n",
    "discovered_truths, discovered_trusts = truth_finder.discover(claims)"
   ]
  },
  {
   "cell_type": "code",
   "execution_count": 12,
   "metadata": {},
   "outputs": [],
   "source": [
    "discovered_truths = discovered_truths.groupby('object_id').apply(lambda x: x.loc[x.confidence.idxmax()])[['value']]\n",
    "discovered_truths.reset_index(inplace=True)"
   ]
  },
  {
   "cell_type": "markdown",
   "metadata": {},
   "source": [
    "# Evaluation"
   ]
  },
  {
   "cell_type": "code",
   "execution_count": 13,
   "metadata": {},
   "outputs": [
    {
     "data": {
      "text/plain": [
       "0.8327645051194539"
      ]
     },
     "execution_count": 13,
     "metadata": {},
     "output_type": "execute_result"
    }
   ],
   "source": [
    "evaluator.accuracy(truths, discovered_truths)"
   ]
  },
  {
   "cell_type": "code",
   "execution_count": null,
   "metadata": {},
   "outputs": [],
   "source": []
  }
 ],
 "metadata": {
  "kernelspec": {
   "display_name": "Python 3",
   "language": "python",
   "name": "python3"
  },
  "language_info": {
   "codemirror_mode": {
    "name": "ipython",
    "version": 3
   },
   "file_extension": ".py",
   "mimetype": "text/x-python",
   "name": "python",
   "nbconvert_exporter": "python",
   "pygments_lexer": "ipython3",
   "version": "3.7.6"
  }
 },
 "nbformat": 4,
 "nbformat_minor": 4
}
