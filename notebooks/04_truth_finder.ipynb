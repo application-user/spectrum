{
 "cells": [
  {
   "cell_type": "markdown",
   "metadata": {},
   "source": [
    "# Introduction\n",
    "We implement [TruthFinder](http://hanj.cs.illinois.edu/pdf/kdd07_xyin.pdf) in this notebook. There are three goals we want to achieve\n",
    "\n",
    "1. Implement and integrate truthfinder into spectrum\n",
    "2. Understand how they evaluate it\n",
    "3. See how they prepare dataset\n",
    "\n",
    "### How TruthFinder works\n",
    "\n",
    "TruthFinder takes into inputs as a set of websites (sources), facts (claims), objects (things of interest). Its mission is to estimate the source reliability and truth facts.\n",
    "\n",
    "**confidence of facts**: The confidence of a fact f is defined as the probability of f being correct.\n",
    "\n",
    "**source reliability**: The reliability of a source s is defined as the expected confidence of facts provided by s.\n",
    "\n",
    "We can visualize the relationship between sources, facts, and objects as shown below (Note that here the websites are the sources)."
   ]
  },
  {
   "cell_type": "markdown",
   "metadata": {},
   "source": [
    "![](./gfx/truthfinder.png)"
   ]
  },
  {
   "cell_type": "markdown",
   "metadata": {},
   "source": [
    "TruthFinder works as follows:\n",
    "1. Initialize all source reliabilities to $t_0$\n",
    "2. While $sim(t_{prev}, t_{now}) < threshold$:\n",
    "    - compute fact confidences\n",
    "    - compute website trustworthiness\n",
    "    \n",
    "here $t$ are the vector of all source reliabities and similarity function is the cosine similarity."
   ]
  },
  {
   "cell_type": "markdown",
   "metadata": {},
   "source": [
    "Now, in order to implement TruthFinder, we need to know how to compute fact confidences and website trustworthiness. We have the following formulas\n",
    "\n",
    "$$s(f) = 1 -  \\prod_{w \\in W(f)}(1 -t(w))$$, where t(w) is computed as \n",
    "\n",
    "![](./gfx/truthfinder_source_reliability.png)"
   ]
  },
  {
   "cell_type": "markdown",
   "metadata": {},
   "source": [
    "However we need to address to subtle problems with the above formula:\n",
    "\n",
    "1. Numerical instability\n",
    "2. Taking into account the influence among facts about the same object.\n",
    "\n",
    "To address numerical instability, we will operate in log space (a common trick). Let's define the source reliabity score \n",
    "$$\\tau(f) = -ln(1 - t(w))$$\n",
    "\n",
    "and fact confidence score:\n",
    "\n",
    "$$\\sigma(f)= -ln(1 - s(f))$$.\n",
    "\n",
    "It is easy to prove $$\\sigma(f) = \\sum_{w \\in W(f)}\\tau(w)$$\n",
    "\n",
    "To account for the influence among facts about the same object, we introduce an adjusted confidence score \n",
    "![](./gfx/truthfinder_adjusted_score.png)\n"
   ]
  },
  {
   "cell_type": "markdown",
   "metadata": {},
   "source": [
    "#### Implication between facts\n",
    "$imp(f_1 \\rightarrow f_2)$ is $f_1$'s influence on $f_{2}$'s confidence. This value is between -1 and 1. A positive value means they support each other and negative one means the opposite. This implication function is domain specific! and can be defined as \n",
    "\n",
    "$imp(f_1 \\rightarrow f_2) = sim(f_1, f_2) - base\\_sim$, where base_sim is a threshold.\n",
    "\n"
   ]
  },
  {
   "cell_type": "markdown",
   "metadata": {},
   "source": [
    "![](./gfx/truthfinder_implication.png)"
   ]
  },
  {
   "cell_type": "markdown",
   "metadata": {},
   "source": [
    "# Implementation\n",
    "\n",
    "They compare source and object results."
   ]
  },
  {
   "cell_type": "code",
   "execution_count": null,
   "metadata": {},
   "outputs": [],
   "source": [
    "import pandas as pd\n",
    "import os.path as op\n",
    "import numpy as np\n",
    "import seaborn as sns"
   ]
  },
  {
   "cell_type": "code",
   "execution_count": null,
   "metadata": {},
   "outputs": [],
   "source": [
    "import sys\n",
    "sys.path.insert(0, '../')"
   ]
  },
  {
   "cell_type": "code",
   "execution_count": null,
   "metadata": {},
   "outputs": [],
   "source": [
    "from spectrum import evaluator\n",
    "from spectrum.judge.truthfinder import truthfinder"
   ]
  },
  {
   "cell_type": "code",
   "execution_count": null,
   "metadata": {},
   "outputs": [],
   "source": [
    "DATA_DIR = '../data'\n",
    "DATA_SET = 'population'"
   ]
  },
  {
   "cell_type": "code",
   "execution_count": null,
   "metadata": {},
   "outputs": [],
   "source": [
    "truths = pd.read_csv(op.join(DATA_DIR, DATA_SET, 'truths.csv'))\n",
    "claims = pd.read_csv(op.join(DATA_DIR, DATA_SET, 'claims.csv'))"
   ]
  },
  {
   "cell_type": "code",
   "execution_count": null,
   "metadata": {},
   "outputs": [],
   "source": [
    "truths.head()"
   ]
  },
  {
   "cell_type": "code",
   "execution_count": null,
   "metadata": {},
   "outputs": [],
   "source": [
    "claims.head()"
   ]
  },
  {
   "cell_type": "code",
   "execution_count": null,
   "metadata": {},
   "outputs": [],
   "source": [
    "discovered_trusts, discovered_truths = truthfinder(claims, verbose=True, initial_trust=0.5)"
   ]
  },
  {
   "cell_type": "code",
   "execution_count": null,
   "metadata": {},
   "outputs": [],
   "source": [
    "discovered_truths = discovered_truths.groupby('object_id').apply(lambda x: x.loc[x.confidence.idxmax()])[['value']]\n",
    "discovered_truths.reset_index(inplace=True)"
   ]
  },
  {
   "cell_type": "markdown",
   "metadata": {},
   "source": [
    "# Evaluation"
   ]
  },
  {
   "cell_type": "code",
   "execution_count": null,
   "metadata": {},
   "outputs": [],
   "source": [
    "evaluator.accuracy(truths, discovered_truths)"
   ]
  },
  {
   "cell_type": "code",
   "execution_count": null,
   "metadata": {},
   "outputs": [],
   "source": []
  }
 ],
 "metadata": {
  "kernelspec": {
   "display_name": "Python 3",
   "language": "python",
   "name": "python3"
  },
  "language_info": {
   "codemirror_mode": {
    "name": "ipython",
    "version": 3
   },
   "file_extension": ".py",
   "mimetype": "text/x-python",
   "name": "python",
   "nbconvert_exporter": "python",
   "pygments_lexer": "ipython3",
   "version": "3.6.1"
  }
 },
 "nbformat": 4,
 "nbformat_minor": 4
}
