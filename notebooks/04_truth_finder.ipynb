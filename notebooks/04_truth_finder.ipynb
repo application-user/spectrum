{
 "cells": [
  {
   "cell_type": "markdown",
   "metadata": {},
   "source": [
    "# Introduction\n",
    "We implement [TruthFinder](http://hanj.cs.illinois.edu/pdf/kdd07_xyin.pdf) in this notebook. There are three goals we want to achieve\n",
    "\n",
    "1. Implement and integrate truthfinder into spectrum\n",
    "2. Understand how they evaluate it\n",
    "3. See how they prepare dataset\n",
    "\n",
    "### How TruthFinder works\n",
    "\n",
    "TruthFinder takes into inputs as a set of websites (sources), facts (claims), objects (things of interest). Its mission is to estimate the source reliability and truth facts.\n",
    "\n",
    "**confidence of facts**: The confidence of a fact f is defined as the probability of f being correct.\n",
    "\n",
    "**source reliability**: The reliability of a source s is defined as the expected confidence of facts provided by s.\n",
    "\n",
    "We can visualize the relationship between sources, facts, and objects as shown below (Note that here the websites are the sources)."
   ]
  },
  {
   "cell_type": "markdown",
   "metadata": {},
   "source": [
    "![](./gfx/truthfinder.png)"
   ]
  },
  {
   "cell_type": "markdown",
   "metadata": {},
   "source": [
    "TruthFinder works as follows:\n",
    "1. Initialize all source reliabilities to $t_0$\n",
    "2. While $sim(t_{prev}, t_{now}) < threshold$:\n",
    "    - compute fact confidences\n",
    "    - compute website trustworthiness\n",
    "    \n",
    "here $t$ are the vector of all source reliabities and similarity function is the cosine similarity."
   ]
  },
  {
   "cell_type": "markdown",
   "metadata": {},
   "source": [
    "Now, in order to implement TruthFinder, we need to know how to compute fact confidences and website trustworthiness. We have the following formulas\n",
    "\n",
    "$$s(f) = 1 -  \\prod_{w \\in W(f)}(1 -t(w))$$, where t(w) is computed as \n",
    "\n",
    "![](./gfx/truthfinder_source_reliability.png)"
   ]
  },
  {
   "cell_type": "markdown",
   "metadata": {},
   "source": [
    "However we need to address to subtle problems with the above formula:\n",
    "\n",
    "1. Numerical instability\n",
    "2. Taking into account the influence among facts about the same object.\n",
    "\n",
    "To address numerical instability, we will operate in log space (a common trick). Let's define the source reliabity score \n",
    "$$\\tau(f) = -ln(1 - t(w))$$\n",
    "\n",
    "and fact confidence score:\n",
    "\n",
    "$$\\sigma(f)= -ln(1 - s(f))$$.\n",
    "\n",
    "It is easy to prove $$\\sigma(f) = \\sum_{w \\in W(f)}\\tau(w)$$\n",
    "\n",
    "To account for the influence among facts about the same object, we introduce an adjusted confidence score \n",
    "![](./gfx/truthfinder_adjusted_score.png)\n"
   ]
  },
  {
   "cell_type": "markdown",
   "metadata": {},
   "source": [
    "#### Implication between facts\n",
    "$imp(f_1 \\rightarrow f_2)$ is $f_1$'s influence on $f_{2}$'s confidence. This value is between -1 and 1. A positive value means they support each other and negative one means the opposite. This implication function is domain specific! and can be defined as \n",
    "\n",
    "$imp(f_1 \\rightarrow f_2) = sim(f_1, f_2) - base\\_sim$, where base_sim is a threshold.\n",
    "\n"
   ]
  },
  {
   "cell_type": "markdown",
   "metadata": {},
   "source": [
    "![](./gfx/truthfinder_implication.png)"
   ]
  },
  {
   "cell_type": "markdown",
   "metadata": {},
   "source": [
    "# Implementation\n",
    "\n",
    "They compare source and object results."
   ]
  },
  {
   "cell_type": "code",
   "execution_count": 1,
   "metadata": {},
   "outputs": [],
   "source": [
    "import pandas as pd\n",
    "import os.path as op\n",
    "import numpy as np\n",
    "import seaborn as sns"
   ]
  },
  {
   "cell_type": "code",
   "execution_count": 2,
   "metadata": {},
   "outputs": [],
   "source": [
    "import sys\n",
    "sys.path.insert(0, '../')"
   ]
  },
  {
   "cell_type": "code",
   "execution_count": 3,
   "metadata": {},
   "outputs": [],
   "source": [
    "from spectrum import utils\n",
    "from spectrum.truthfinder import truthfinder"
   ]
  },
  {
   "cell_type": "code",
   "execution_count": 4,
   "metadata": {},
   "outputs": [],
   "source": [
    "DATA_DIR = '../data'\n",
    "DATA_SET = 'population'"
   ]
  },
  {
   "cell_type": "code",
   "execution_count": 5,
   "metadata": {},
   "outputs": [],
   "source": [
    "truths = pd.read_csv(op.join(DATA_DIR, DATA_SET, 'truths.csv'))\n",
    "claims = pd.read_csv(op.join(DATA_DIR, DATA_SET, 'claims.csv'))"
   ]
  },
  {
   "cell_type": "code",
   "execution_count": 6,
   "metadata": {},
   "outputs": [
    {
     "data": {
      "text/html": [
       "<div>\n",
       "<style scoped>\n",
       "    .dataframe tbody tr th:only-of-type {\n",
       "        vertical-align: middle;\n",
       "    }\n",
       "\n",
       "    .dataframe tbody tr th {\n",
       "        vertical-align: top;\n",
       "    }\n",
       "\n",
       "    .dataframe thead th {\n",
       "        text-align: right;\n",
       "    }\n",
       "</style>\n",
       "<table border=\"1\" class=\"dataframe\">\n",
       "  <thead>\n",
       "    <tr style=\"text-align: right;\">\n",
       "      <th></th>\n",
       "      <th>object</th>\n",
       "      <th>value</th>\n",
       "      <th>object_id</th>\n",
       "    </tr>\n",
       "  </thead>\n",
       "  <tbody>\n",
       "    <tr>\n",
       "      <th>0</th>\n",
       "      <td>milton_newhampshire_Population2000</td>\n",
       "      <td>3910</td>\n",
       "      <td>157</td>\n",
       "    </tr>\n",
       "    <tr>\n",
       "      <th>1</th>\n",
       "      <td>omaha_nebraska_Population2000</td>\n",
       "      <td>390007</td>\n",
       "      <td>189</td>\n",
       "    </tr>\n",
       "    <tr>\n",
       "      <th>2</th>\n",
       "      <td>schaumburg_illinois_Population2000</td>\n",
       "      <td>75386</td>\n",
       "      <td>240</td>\n",
       "    </tr>\n",
       "    <tr>\n",
       "      <th>3</th>\n",
       "      <td>lakeoswego_oregon_Population2000</td>\n",
       "      <td>35278</td>\n",
       "      <td>127</td>\n",
       "    </tr>\n",
       "    <tr>\n",
       "      <th>4</th>\n",
       "      <td>culver_oregon_Population2000</td>\n",
       "      <td>802</td>\n",
       "      <td>53</td>\n",
       "    </tr>\n",
       "  </tbody>\n",
       "</table>\n",
       "</div>"
      ],
      "text/plain": [
       "                               object   value  object_id\n",
       "0  milton_newhampshire_Population2000    3910        157\n",
       "1       omaha_nebraska_Population2000  390007        189\n",
       "2  schaumburg_illinois_Population2000   75386        240\n",
       "3    lakeoswego_oregon_Population2000   35278        127\n",
       "4        culver_oregon_Population2000     802         53"
      ]
     },
     "execution_count": 6,
     "metadata": {},
     "output_type": "execute_result"
    }
   ],
   "source": [
    "truths.head()"
   ]
  },
  {
   "cell_type": "code",
   "execution_count": 7,
   "metadata": {},
   "outputs": [
    {
     "data": {
      "text/html": [
       "<div>\n",
       "<style scoped>\n",
       "    .dataframe tbody tr th:only-of-type {\n",
       "        vertical-align: middle;\n",
       "    }\n",
       "\n",
       "    .dataframe tbody tr th {\n",
       "        vertical-align: top;\n",
       "    }\n",
       "\n",
       "    .dataframe thead th {\n",
       "        text-align: right;\n",
       "    }\n",
       "</style>\n",
       "<table border=\"1\" class=\"dataframe\">\n",
       "  <thead>\n",
       "    <tr style=\"text-align: right;\">\n",
       "      <th></th>\n",
       "      <th>object</th>\n",
       "      <th>SourceID</th>\n",
       "      <th>value</th>\n",
       "      <th>object_id</th>\n",
       "      <th>source_id</th>\n",
       "    </tr>\n",
       "  </thead>\n",
       "  <tbody>\n",
       "    <tr>\n",
       "      <th>0</th>\n",
       "      <td>milton_newhampshire_Population2000</td>\n",
       "      <td>16168: SatyrTN</td>\n",
       "      <td>3910</td>\n",
       "      <td>157</td>\n",
       "      <td>352</td>\n",
       "    </tr>\n",
       "    <tr>\n",
       "      <th>1</th>\n",
       "      <td>milton_newhampshire_Population2000</td>\n",
       "      <td>0 (76.19.53.22)</td>\n",
       "      <td>23910</td>\n",
       "      <td>157</td>\n",
       "      <td>274</td>\n",
       "    </tr>\n",
       "    <tr>\n",
       "      <th>2</th>\n",
       "      <td>milton_newhampshire_Population2000</td>\n",
       "      <td>5512121: CapitalBot</td>\n",
       "      <td>3910</td>\n",
       "      <td>157</td>\n",
       "      <td>561</td>\n",
       "    </tr>\n",
       "    <tr>\n",
       "      <th>3</th>\n",
       "      <td>omaha_nebraska_Population2000</td>\n",
       "      <td>201610: Pentawing</td>\n",
       "      <td>390007</td>\n",
       "      <td>189</td>\n",
       "      <td>401</td>\n",
       "    </tr>\n",
       "    <tr>\n",
       "      <th>4</th>\n",
       "      <td>omaha_nebraska_Population2000</td>\n",
       "      <td>89326: Swid</td>\n",
       "      <td>390007</td>\n",
       "      <td>189</td>\n",
       "      <td>630</td>\n",
       "    </tr>\n",
       "  </tbody>\n",
       "</table>\n",
       "</div>"
      ],
      "text/plain": [
       "                               object             SourceID   value  object_id  \\\n",
       "0  milton_newhampshire_Population2000       16168: SatyrTN    3910        157   \n",
       "1  milton_newhampshire_Population2000      0 (76.19.53.22)   23910        157   \n",
       "2  milton_newhampshire_Population2000  5512121: CapitalBot    3910        157   \n",
       "3       omaha_nebraska_Population2000    201610: Pentawing  390007        189   \n",
       "4       omaha_nebraska_Population2000          89326: Swid  390007        189   \n",
       "\n",
       "   source_id  \n",
       "0        352  \n",
       "1        274  \n",
       "2        561  \n",
       "3        401  \n",
       "4        630  "
      ]
     },
     "execution_count": 7,
     "metadata": {},
     "output_type": "execute_result"
    }
   ],
   "source": [
    "claims.head()"
   ]
  },
  {
   "cell_type": "code",
   "execution_count": 8,
   "metadata": {},
   "outputs": [
    {
     "name": "stdout",
     "output_type": "stream",
     "text": [
      "trust similarity - 0.9925411015127318\n",
      "trust similarity - 0.9992731992825723\n",
      "trust similarity - 0.999811816640213\n",
      "trust similarity - 0.9999462675746896\n",
      "trust similarity - 0.9999823732249723\n",
      "trust similarity - 0.9999938011012202\n"
     ]
    }
   ],
   "source": [
    "discovered_trusts, discovered_truths = truthfinder(claims, verbose=True, initial_trust=0.5)"
   ]
  },
  {
   "cell_type": "code",
   "execution_count": 9,
   "metadata": {},
   "outputs": [],
   "source": [
    "discovered_truths = discovered_truths.groupby('object_id').apply(lambda x: x.loc[x.confidence.idxmax()])[['value']]\n",
    "discovered_truths.reset_index(inplace=True)"
   ]
  },
  {
   "cell_type": "markdown",
   "metadata": {},
   "source": [
    "# Evaluation"
   ]
  },
  {
   "cell_type": "code",
   "execution_count": 10,
   "metadata": {},
   "outputs": [
    {
     "data": {
      "text/plain": [
       "0.8205980066445183"
      ]
     },
     "execution_count": 10,
     "metadata": {},
     "output_type": "execute_result"
    }
   ],
   "source": [
    "utils.accuracy(truths, discovered_truths)"
   ]
  },
  {
   "cell_type": "code",
   "execution_count": null,
   "metadata": {},
   "outputs": [],
   "source": []
  }
 ],
 "metadata": {
  "kernelspec": {
   "display_name": "Python 3",
   "language": "python",
   "name": "python3"
  },
  "language_info": {
   "codemirror_mode": {
    "name": "ipython",
    "version": 3
   },
   "file_extension": ".py",
   "mimetype": "text/x-python",
   "name": "python",
   "nbconvert_exporter": "python",
   "pygments_lexer": "ipython3",
   "version": "3.6.7"
  }
 },
 "nbformat": 4,
 "nbformat_minor": 2
}
