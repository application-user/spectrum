{
 "cells": [
  {
   "cell_type": "markdown",
   "metadata": {},
   "source": [
    "# Introduction \n",
    "\n",
    "In this notebook, we will implement [*Latent Credible Analysis*](https://research.fb.com/publications/latent-credibility-analysis/) models. These are latent probablistic models that use hidden (latent) variables to represents the unknown data source reliabilities and underlying truth values. \n",
    "\n",
    "We implement only simpleLCA for now as extension to other models are relatively straight forward."
   ]
  },
  {
   "cell_type": "markdown",
   "metadata": {},
   "source": [
    "# SimpleLCA\n",
    "\n",
    "Here is the plate model of simpleLCA. \n",
    "\n",
    "![simpleLCA](./gfx/simpleLCA.png)"
   ]
  },
  {
   "cell_type": "markdown",
   "metadata": {},
   "source": [
    "### Data "
   ]
  },
  {
   "cell_type": "code",
   "execution_count": 1,
   "metadata": {},
   "outputs": [],
   "source": [
    "%load_ext autoreload\n",
    "%autoreload 2"
   ]
  },
  {
   "cell_type": "code",
   "execution_count": 2,
   "metadata": {},
   "outputs": [],
   "source": [
    "import pandas as pd\n",
    "import os.path as op\n",
    "import numpy as np\n",
    "import seaborn as sns\n",
    "import pyro"
   ]
  },
  {
   "cell_type": "code",
   "execution_count": 3,
   "metadata": {},
   "outputs": [],
   "source": [
    "import sys\n",
    "sys.path.insert(0, '../')"
   ]
  },
  {
   "cell_type": "code",
   "execution_count": 4,
   "metadata": {},
   "outputs": [],
   "source": [
    "from spectrum.preprocessing import encoders\n",
    "from spectrum.judge import lca\n",
    "from spectrum.judge import utils"
   ]
  },
  {
   "cell_type": "code",
   "execution_count": 5,
   "metadata": {},
   "outputs": [],
   "source": [
    "DATA_DIR = '../data'\n",
    "DATA_SET = 'population'"
   ]
  },
  {
   "cell_type": "code",
   "execution_count": 6,
   "metadata": {},
   "outputs": [],
   "source": [
    "truths = pd.read_csv(op.join(DATA_DIR, DATA_SET, 'truths.csv'))\n",
    "claims = pd.read_csv(op.join(DATA_DIR, DATA_SET, 'claims.csv'))"
   ]
  },
  {
   "cell_type": "code",
   "execution_count": 7,
   "metadata": {},
   "outputs": [
    {
     "data": {
      "text/plain": [
       "((293, 3), (1035, 5))"
      ]
     },
     "execution_count": 7,
     "metadata": {},
     "output_type": "execute_result"
    }
   ],
   "source": [
    "truths.shape, claims.shape"
   ]
  },
  {
   "cell_type": "markdown",
   "metadata": {},
   "source": [
    "We decide to model city population as discrete value. Moreover we consider the hidden truth value is only from the set of available assertions. Thus we need to label encode `value` of claims data frame."
   ]
  },
  {
   "cell_type": "markdown",
   "metadata": {},
   "source": [
    "### Data Preprocessing "
   ]
  },
  {
   "cell_type": "markdown",
   "metadata": {},
   "source": [
    "We need to label encode values of objects in order to feed them to our simpleLCA model"
   ]
  },
  {
   "cell_type": "code",
   "execution_count": 8,
   "metadata": {},
   "outputs": [],
   "source": [
    "claims_enc, le_dict = encoders.transform(claims)"
   ]
  },
  {
   "cell_type": "markdown",
   "metadata": {},
   "source": [
    "build the confidence matrix, $[w_{s,o}]$ in the paper, if $w_{s,o} = 1$, then the source s does make an assertion about object o."
   ]
  },
  {
   "cell_type": "code",
   "execution_count": 9,
   "metadata": {},
   "outputs": [],
   "source": [
    "mask = lca.build_mask(claims_enc)"
   ]
  },
  {
   "cell_type": "markdown",
   "metadata": {},
   "source": [
    "we also need to build an observation dictionary."
   ]
  },
  {
   "cell_type": "code",
   "execution_count": 10,
   "metadata": {},
   "outputs": [],
   "source": [
    "observation = lca.build_observation(claims_enc)"
   ]
  },
  {
   "cell_type": "markdown",
   "metadata": {},
   "source": [
    "### Model"
   ]
  },
  {
   "cell_type": "markdown",
   "metadata": {},
   "source": [
    "Create some data"
   ]
  },
  {
   "cell_type": "code",
   "execution_count": 11,
   "metadata": {},
   "outputs": [],
   "source": [
    "# claims = dict()\n",
    "# claims['source_id'] = [0, 0, 1, 1]\n",
    "# claims['object_id'] = [0, 1, 1, 0]\n",
    "# claims['value'] = [0, 1, 0, 1]\n",
    "# claims = pd.DataFrame(data=claims)"
   ]
  },
  {
   "cell_type": "markdown",
   "metadata": {},
   "source": [
    "build inputs for simpleLCA model"
   ]
  },
  {
   "cell_type": "code",
   "execution_count": 12,
   "metadata": {},
   "outputs": [],
   "source": [
    "# mask = lca.build_mask(claims)\n",
    "# observation = lca.build_observation(claims)"
   ]
  },
  {
   "cell_type": "markdown",
   "metadata": {},
   "source": [
    "# Inference "
   ]
  },
  {
   "cell_type": "code",
   "execution_count": 13,
   "metadata": {},
   "outputs": [],
   "source": [
    "import matplotlib.pyplot as plt\n",
    "import numpy as np\n",
    "import torch\n",
    "\n",
    "import pyro\n",
    "import pyro.infer\n",
    "import pyro.optim\n",
    "import pyro.distributions as dist\n",
    "\n",
    "pyro.set_rng_seed(101)"
   ]
  },
  {
   "cell_type": "code",
   "execution_count": 14,
   "metadata": {},
   "outputs": [],
   "source": [
    "data = lca.make_observation_mapper(observation, mask)\n",
    "conditioned_lca = pyro.condition(lca.lca_model, data=data)\n",
    "\n",
    "# guide\n",
    "lca_guide = lca.lca_guide\n",
    "\n",
    "pyro.clear_param_store()\n",
    "svi = pyro.infer.SVI(model=conditioned_lca,\n",
    "                     guide=lca_guide,\n",
    "                     optim=pyro.optim.SGD({\"lr\": 0.001, \"momentum\":0.1}),\n",
    "                     loss=pyro.infer.Trace_ELBO())"
   ]
  },
  {
   "cell_type": "code",
   "execution_count": 19,
   "metadata": {},
   "outputs": [],
   "source": [
    "import torch"
   ]
  },
  {
   "cell_type": "code",
   "execution_count": 34,
   "metadata": {},
   "outputs": [],
   "source": [
    "rv = dist.Categorical(logits=torch.log(torch.tensor([1.,1., -31.])))"
   ]
  },
  {
   "cell_type": "code",
   "execution_count": 35,
   "metadata": {},
   "outputs": [
    {
     "ename": "RuntimeError",
     "evalue": "invalid argument 2: invalid multinomial distribution (encountering probability entry < 0) at /Users/distiller/project/conda/conda-bld/pytorch_1565272679438/work/aten/src/TH/generic/THTensorRandom.cpp:356",
     "output_type": "error",
     "traceback": [
      "\u001b[0;31m---------------------------------------------\u001b[0m",
      "\u001b[0;31mRuntimeError\u001b[0mTraceback (most recent call last)",
      "\u001b[0;32m<ipython-input-35-322151701b5a>\u001b[0m in \u001b[0;36m<module>\u001b[0;34m\u001b[0m\n\u001b[0;32m----> 1\u001b[0;31m \u001b[0mrv\u001b[0m\u001b[0;34m.\u001b[0m\u001b[0msample\u001b[0m\u001b[0;34m(\u001b[0m\u001b[0;34m[\u001b[0m\u001b[0;36m100\u001b[0m\u001b[0;34m]\u001b[0m\u001b[0;34m)\u001b[0m\u001b[0;34m\u001b[0m\u001b[0m\n\u001b[0m",
      "\u001b[0;32m~/miniconda3/envs/spectrum/lib/python3.6/site-packages/torch/distributions/categorical.py\u001b[0m in \u001b[0;36msample\u001b[0;34m(self, sample_shape)\u001b[0m\n\u001b[1;32m    105\u001b[0m         \u001b[0mprobs\u001b[0m \u001b[0;34m=\u001b[0m \u001b[0mself\u001b[0m\u001b[0;34m.\u001b[0m\u001b[0mprobs\u001b[0m\u001b[0;34m.\u001b[0m\u001b[0mexpand\u001b[0m\u001b[0;34m(\u001b[0m\u001b[0mparam_shape\u001b[0m\u001b[0;34m)\u001b[0m\u001b[0;34m\u001b[0m\u001b[0m\n\u001b[1;32m    106\u001b[0m         \u001b[0mprobs_2d\u001b[0m \u001b[0;34m=\u001b[0m \u001b[0mprobs\u001b[0m\u001b[0;34m.\u001b[0m\u001b[0mreshape\u001b[0m\u001b[0;34m(\u001b[0m\u001b[0;34m-\u001b[0m\u001b[0;36m1\u001b[0m\u001b[0;34m,\u001b[0m \u001b[0mself\u001b[0m\u001b[0;34m.\u001b[0m\u001b[0m_num_events\u001b[0m\u001b[0;34m)\u001b[0m\u001b[0;34m\u001b[0m\u001b[0m\n\u001b[0;32m--> 107\u001b[0;31m         \u001b[0msample_2d\u001b[0m \u001b[0;34m=\u001b[0m \u001b[0mtorch\u001b[0m\u001b[0;34m.\u001b[0m\u001b[0mmultinomial\u001b[0m\u001b[0;34m(\u001b[0m\u001b[0mprobs_2d\u001b[0m\u001b[0;34m,\u001b[0m \u001b[0;36m1\u001b[0m\u001b[0;34m,\u001b[0m \u001b[0;32mTrue\u001b[0m\u001b[0;34m)\u001b[0m\u001b[0;34m\u001b[0m\u001b[0m\n\u001b[0m\u001b[1;32m    108\u001b[0m         \u001b[0;32mreturn\u001b[0m \u001b[0msample_2d\u001b[0m\u001b[0;34m.\u001b[0m\u001b[0mreshape\u001b[0m\u001b[0;34m(\u001b[0m\u001b[0msample_shape\u001b[0m\u001b[0;34m)\u001b[0m\u001b[0;34m\u001b[0m\u001b[0m\n\u001b[1;32m    109\u001b[0m \u001b[0;34m\u001b[0m\u001b[0m\n",
      "\u001b[0;31mRuntimeError\u001b[0m: invalid argument 2: invalid multinomial distribution (encountering probability entry < 0) at /Users/distiller/project/conda/conda-bld/pytorch_1565272679438/work/aten/src/TH/generic/THTensorRandom.cpp:356"
     ]
    }
   ],
   "source": [
    "rv.sample([100])"
   ]
  },
  {
   "cell_type": "code",
   "execution_count": 28,
   "metadata": {},
   "outputs": [],
   "source": [
    "from torch.distributions.utils import probs_to_logits, logits_to_probs, lazy_property\n"
   ]
  },
  {
   "cell_type": "code",
   "execution_count": 31,
   "metadata": {},
   "outputs": [],
   "source": [
    "logits = probs_to_logits(torch.tensor([0.2, 0.8]))"
   ]
  },
  {
   "cell_type": "code",
   "execution_count": 36,
   "metadata": {},
   "outputs": [
    {
     "data": {
      "text/plain": [
       "tensor([-1.6094, -0.2231])"
      ]
     },
     "execution_count": 36,
     "metadata": {},
     "output_type": "execute_result"
    }
   ],
   "source": [
    "logits"
   ]
  },
  {
   "cell_type": "code",
   "execution_count": 38,
   "metadata": {},
   "outputs": [],
   "source": [
    "probs = logits_to_probs(logits=torch.tensor([-12., -33.]))"
   ]
  },
  {
   "cell_type": "code",
   "execution_count": 40,
   "metadata": {},
   "outputs": [
    {
     "data": {
      "text/plain": [
       "Categorical(probs: torch.Size([2]))"
      ]
     },
     "execution_count": 40,
     "metadata": {},
     "output_type": "execute_result"
    }
   ],
   "source": [
    "dist.Categorical(probs=probs)"
   ]
  },
  {
   "cell_type": "code",
   "execution_count": 17,
   "metadata": {},
   "outputs": [
    {
     "data": {
      "text/plain": [
       "\u001b[0;31mInit signature:\u001b[0m \u001b[0mdist\u001b[0m\u001b[0;34m.\u001b[0m\u001b[0mCategorical\u001b[0m\u001b[0;34m(\u001b[0m\u001b[0mprobs\u001b[0m\u001b[0;34m=\u001b[0m\u001b[0;32mNone\u001b[0m\u001b[0;34m,\u001b[0m \u001b[0mlogits\u001b[0m\u001b[0;34m=\u001b[0m\u001b[0;32mNone\u001b[0m\u001b[0;34m,\u001b[0m \u001b[0mvalidate_args\u001b[0m\u001b[0;34m=\u001b[0m\u001b[0;32mNone\u001b[0m\u001b[0;34m)\u001b[0m\u001b[0;34m\u001b[0m\u001b[0m\n",
       "\u001b[0;31mDocstring:\u001b[0m     \n",
       "Wraps :class:`torch.distributions.categorical.Categorical` with\n",
       ":class:`~pyro.distributions.torch_distribution.TorchDistributionMixin`.\n",
       "\u001b[0;31mFile:\u001b[0m           ~/miniconda3/envs/spectrum/lib/python3.6/site-packages/pyro/distributions/torch.py\n",
       "\u001b[0;31mType:\u001b[0m           ABCMeta\n",
       "\u001b[0;31mSubclasses:\u001b[0m     \n"
      ]
     },
     "metadata": {},
     "output_type": "display_data"
    }
   ],
   "source": [
    "dist.Categorical(torch.random)"
   ]
  },
  {
   "cell_type": "code",
   "execution_count": 16,
   "metadata": {},
   "outputs": [
    {
     "ename": "RuntimeError",
     "evalue": "invalid argument 2: invalid multinomial distribution (encountering probability entry < 0) at /Users/distiller/project/conda/conda-bld/pytorch_1565272679438/work/aten/src/TH/generic/THTensorRandom.cpp:356\nTrace Shapes:  \n Param Sites:  \n     beta_s_0  \n     beta_s_1  \n     beta_s_2  \n     beta_s_3  \n     beta_s_4  \n     beta_s_5  \n     beta_s_6  \n     beta_s_7  \n     beta_s_8  \n     beta_s_9  \n    beta_s_10  \n    beta_s_11  \n    beta_s_12  \n    beta_s_13  \n    beta_s_14  \n    beta_s_15  \n    beta_s_16  \n    beta_s_17  \n    beta_s_18  \n    beta_s_19  \n    beta_s_20  \n    beta_s_21  \n    beta_s_22  \n    beta_s_23  \n    beta_s_24  \n    beta_s_25  \n    beta_s_26  \n    beta_s_27  \n    beta_s_28  \n    beta_s_29  \n    beta_s_30  \n    beta_s_31  \n    beta_s_32  \n    beta_s_33  \n    beta_s_34  \n    beta_s_35  \n    beta_s_36  \n    beta_s_37  \n    beta_s_38  \n    beta_s_39  \n    beta_s_40  \n    beta_s_41  \n    beta_s_42  \n    beta_s_43  \n    beta_s_44  \n    beta_s_45  \n    beta_s_46  \n    beta_s_47  \n    beta_s_48  \n    beta_s_49  \n    beta_s_50  \n    beta_s_51  \n    beta_s_52  \n    beta_s_53  \n    beta_s_54  \n    beta_s_55  \n    beta_s_56  \n    beta_s_57  \n    beta_s_58  \n    beta_s_59  \n    beta_s_60  \n    beta_s_61  \n    beta_s_62  \n    beta_s_63  \n    beta_s_64  \n    beta_s_65  \n    beta_s_66  \n    beta_s_67  \n    beta_s_68  \n    beta_s_69  \n    beta_s_70  \n    beta_s_71  \n    beta_s_72  \n    beta_s_73  \n    beta_s_74  \n    beta_s_75  \n    beta_s_76  \n    beta_s_77  \n    beta_s_78  \n    beta_s_79  \n    beta_s_80  \n    beta_s_81  \n    beta_s_82  \n    beta_s_83  \n    beta_s_84  \n    beta_s_85  \n    beta_s_86  \n    beta_s_87  \n    beta_s_88  \n    beta_s_89  \n    beta_s_90  \n    beta_s_91  \n    beta_s_92  \n    beta_s_93  \n    beta_s_94  \n    beta_s_95  \n    beta_s_96  \n    beta_s_97  \n    beta_s_98  \n    beta_s_99  \n   beta_s_100  \n   beta_s_101  \n   beta_s_102  \n   beta_s_103  \n   beta_s_104  \n   beta_s_105  \n   beta_s_106  \n   beta_s_107  \n   beta_s_108  \n   beta_s_109  \n   beta_s_110  \n   beta_s_111  \n   beta_s_112  \n   beta_s_113  \n   beta_s_114  \n   beta_s_115  \n   beta_s_116  \n   beta_s_117  \n   beta_s_118  \n   beta_s_119  \n   beta_s_120  \n   beta_s_121  \n   beta_s_122  \n   beta_s_123  \n   beta_s_124  \n   beta_s_125  \n   beta_s_126  \n   beta_s_127  \n   beta_s_128  \n   beta_s_129  \n   beta_s_130  \n   beta_s_131  \n   beta_s_132  \n   beta_s_133  \n   beta_s_134  \n   beta_s_135  \n   beta_s_136  \n   beta_s_137  \n   beta_s_138  \n   beta_s_139  \n   beta_s_140  \n   beta_s_141  \n   beta_s_142  \n   beta_s_143  \n   beta_s_144  \n   beta_s_145  \n   beta_s_146  \n   beta_s_147  \n   beta_s_148  \n   beta_s_149  \n   beta_s_150  \n   beta_s_151  \n   beta_s_152  \n   beta_s_153  \n   beta_s_154  \n   beta_s_155  \n   beta_s_156  \n   beta_s_157  \n   beta_s_158  \n   beta_s_159  \n   beta_s_160  \n   beta_s_161  \n   beta_s_162  \n   beta_s_163  \n   beta_s_164  \n   beta_s_165  \n   beta_s_166  \n   beta_s_167  \n   beta_s_168  \n   beta_s_169  \n   beta_s_170  \n   beta_s_171  \n   beta_s_172  \n   beta_s_173  \n   beta_s_174  \n   beta_s_175  \n   beta_s_176  \n   beta_s_177  \n   beta_s_178  \n   beta_s_179  \n   beta_s_180  \n   beta_s_181  \n   beta_s_182  \n   beta_s_183  \n   beta_s_184  \n   beta_s_185  \n   beta_s_186  \n   beta_s_187  \n   beta_s_188  \n   beta_s_189  \n   beta_s_190  \n   beta_s_191  \n   beta_s_192  \n   beta_s_193  \n   beta_s_194  \n   beta_s_195  \n   beta_s_196  \n   beta_s_197  \n   beta_s_198  \n   beta_s_199  \n   beta_s_200  \n   beta_s_201  \n   beta_s_202  \n   beta_s_203  \n   beta_s_204  \n   beta_s_205  \n   beta_s_206  \n   beta_s_207  \n   beta_s_208  \n   beta_s_209  \n   beta_s_210  \n   beta_s_211  \n   beta_s_212  \n   beta_s_213  \n   beta_s_214  \n   beta_s_215  \n   beta_s_216  \n   beta_s_217  \n   beta_s_218  \n   beta_s_219  \n   beta_s_220  \n   beta_s_221  \n   beta_s_222  \n   beta_s_223  \n   beta_s_224  \n   beta_s_225  \n   beta_s_226  \n   beta_s_227  \n   beta_s_228  \n   beta_s_229  \n   beta_s_230  \n   beta_s_231  \n   beta_s_232  \n   beta_s_233  \n   beta_s_234  \n   beta_s_235  \n   beta_s_236  \n   beta_s_237  \n   beta_s_238  \n   beta_s_239  \n   beta_s_240  \n   beta_s_241  \n   beta_s_242  \n   beta_s_243  \n   beta_s_244  \n   beta_s_245  \n   beta_s_246  \n   beta_s_247  \n   beta_s_248  \n   beta_s_249  \n   beta_s_250  \n   beta_s_251  \n   beta_s_252  \n   beta_s_253  \n   beta_s_254  \n   beta_s_255  \n   beta_s_256  \n   beta_s_257  \n   beta_s_258  \n   beta_s_259  \n   beta_s_260  \n   beta_s_261  \n   beta_s_262  \n   beta_s_263  \n   beta_s_264  \n   beta_s_265  \n   beta_s_266  \n   beta_s_267  \n   beta_s_268  \n   beta_s_269  \n   beta_s_270  \n   beta_s_271  \n   beta_s_272  \n   beta_s_273  \n   beta_s_274  \n   beta_s_275  \n   beta_s_276  \n   beta_s_277  \n   beta_s_278  \n   beta_s_279  \n   beta_s_280  \n   beta_s_281  \n   beta_s_282  \n   beta_s_283  \n   beta_s_284  \n   beta_s_285  \n   beta_s_286  \n   beta_s_287  \n   beta_s_288  \n   beta_s_289  \n   beta_s_290  \n   beta_s_291  \n   beta_s_292  \n   beta_s_293  \n   beta_s_294  \n   beta_s_295  \n   beta_s_296  \n   beta_s_297  \n   beta_s_298  \n   beta_s_299  \n   beta_s_300  \n   beta_s_301  \n   beta_s_302  \n   beta_s_303  \n   beta_s_304  \n   beta_s_305  \n   beta_s_306  \n   beta_s_307  \n   beta_s_308  \n   beta_s_309  \n   beta_s_310  \n   beta_s_311  \n   beta_s_312  \n   beta_s_313  \n   beta_s_314  \n   beta_s_315  \n   beta_s_316  \n   beta_s_317  \n   beta_s_318  \n   beta_s_319  \n   beta_s_320  \n   beta_s_321  \n   beta_s_322  \n   beta_s_323  \n   beta_s_324  \n   beta_s_325  \n   beta_s_326  \n   beta_s_327  \n   beta_s_328  \n   beta_s_329  \n   beta_s_330  \n   beta_s_331  \n   beta_s_332  \n   beta_s_333  \n   beta_s_334  \n   beta_s_335  \n   beta_s_336  \n   beta_s_337  \n   beta_s_338  \n   beta_s_339  \n   beta_s_340  \n   beta_s_341  \n   beta_s_342  \n   beta_s_343  \n   beta_s_344  \n   beta_s_345  \n   beta_s_346  \n   beta_s_347  \n   beta_s_348  \n   beta_s_349  \n   beta_s_350  \n   beta_s_351  \n   beta_s_352  \n   beta_s_353  \n   beta_s_354  \n   beta_s_355  \n   beta_s_356  \n   beta_s_357  \n   beta_s_358  \n   beta_s_359  \n   beta_s_360  \n   beta_s_361  \n   beta_s_362  \n   beta_s_363  \n   beta_s_364  \n   beta_s_365  \n   beta_s_366  \n   beta_s_367  \n   beta_s_368  \n   beta_s_369  \n   beta_s_370  \n   beta_s_371  \n   beta_s_372  \n   beta_s_373  \n   beta_s_374  \n   beta_s_375  \n   beta_s_376  \n   beta_s_377  \n   beta_s_378  \n   beta_s_379  \n   beta_s_380  \n   beta_s_381  \n   beta_s_382  \n   beta_s_383  \n   beta_s_384  \n   beta_s_385  \n   beta_s_386  \n   beta_s_387  \n   beta_s_388  \n   beta_s_389  \n   beta_s_390  \n   beta_s_391  \n   beta_s_392  \n   beta_s_393  \n   beta_s_394  \n   beta_s_395  \n   beta_s_396  \n   beta_s_397  \n   beta_s_398  \n   beta_s_399  \n   beta_s_400  \n   beta_s_401  \n   beta_s_402  \n   beta_s_403  \n   beta_s_404  \n   beta_s_405  \n   beta_s_406  \n   beta_s_407  \n   beta_s_408  \n   beta_s_409  \n   beta_s_410  \n   beta_s_411  \n   beta_s_412  \n   beta_s_413  \n   beta_s_414  \n   beta_s_415  \n   beta_s_416  \n   beta_s_417  \n   beta_s_418  \n   beta_s_419  \n   beta_s_420  \n   beta_s_421  \n   beta_s_422  \n   beta_s_423  \n   beta_s_424  \n   beta_s_425  \n   beta_s_426  \n   beta_s_427  \n   beta_s_428  \n   beta_s_429  \n   beta_s_430  \n   beta_s_431  \n   beta_s_432  \n   beta_s_433  \n   beta_s_434  \n   beta_s_435  \n   beta_s_436  \n   beta_s_437  \n   beta_s_438  \n   beta_s_439  \n   beta_s_440  \n   beta_s_441  \n   beta_s_442  \n   beta_s_443  \n   beta_s_444  \n   beta_s_445  \n   beta_s_446  \n   beta_s_447  \n   beta_s_448  \n   beta_s_449  \n   beta_s_450  \n   beta_s_451  \n   beta_s_452  \n   beta_s_453  \n   beta_s_454  \n   beta_s_455  \n   beta_s_456  \n   beta_s_457  \n   beta_s_458  \n   beta_s_459  \n   beta_s_460  \n   beta_s_461  \n   beta_s_462  \n   beta_s_463  \n   beta_s_464  \n   beta_s_465  \n   beta_s_466  \n   beta_s_467  \n   beta_s_468  \n   beta_s_469  \n   beta_s_470  \n   beta_s_471  \n   beta_s_472  \n   beta_s_473  \n   beta_s_474  \n   beta_s_475  \n   beta_s_476  \n   beta_s_477  \n   beta_s_478  \n   beta_s_479  \n   beta_s_480  \n   beta_s_481  \n   beta_s_482  \n   beta_s_483  \n   beta_s_484  \n   beta_s_485  \n   beta_s_486  \n   beta_s_487  \n   beta_s_488  \n   beta_s_489  \n   beta_s_490  \n   beta_s_491  \n   beta_s_492  \n   beta_s_493  \n   beta_s_494  \n   beta_s_495  \n   beta_s_496  \n   beta_s_497  \n   beta_s_498  \n   beta_s_499  \n   beta_s_500  \n   beta_s_501  \n   beta_s_502  \n   beta_s_503  \n   beta_s_504  \n   beta_s_505  \n   beta_s_506  \n   beta_s_507  \n   beta_s_508  \n   beta_s_509  \n   beta_s_510  \n   beta_s_511  \n   beta_s_512  \n   beta_s_513  \n   beta_s_514  \n   beta_s_515  \n   beta_s_516  \n   beta_s_517  \n   beta_s_518  \n   beta_s_519  \n   beta_s_520  \n   beta_s_521  \n   beta_s_522  \n   beta_s_523  \n   beta_s_524  \n   beta_s_525  \n   beta_s_526  \n   beta_s_527  \n   beta_s_528  \n   beta_s_529  \n   beta_s_530  \n   beta_s_531  \n   beta_s_532  \n   beta_s_533  \n   beta_s_534  \n   beta_s_535  \n   beta_s_536  \n   beta_s_537  \n   beta_s_538  \n   beta_s_539  \n   beta_s_540  \n   beta_s_541  \n   beta_s_542  \n   beta_s_543  \n   beta_s_544  \n   beta_s_545  \n   beta_s_546  \n   beta_s_547  \n   beta_s_548  \n   beta_s_549  \n   beta_s_550  \n   beta_s_551  \n   beta_s_552  \n   beta_s_553  \n   beta_s_554  \n   beta_s_555  \n   beta_s_556  \n   beta_s_557  \n   beta_s_558  \n   beta_s_559  \n   beta_s_560  \n   beta_s_561  \n   beta_s_562  \n   beta_s_563  \n   beta_s_564  \n   beta_s_565  \n   beta_s_566  \n   beta_s_567  \n   beta_s_568  \n   beta_s_569  \n   beta_s_570  \n   beta_s_571  \n   beta_s_572  \n   beta_s_573  \n   beta_s_574  \n   beta_s_575  \n   beta_s_576  \n   beta_s_577  \n   beta_s_578  \n   beta_s_579  \n   beta_s_580  \n   beta_s_581  \n   beta_s_582  \n   beta_s_583  \n   beta_s_584  \n   beta_s_585  \n   beta_s_586  \n   beta_s_587  \n   beta_s_588  \n   beta_s_589  \n   beta_s_590  \n   beta_s_591  \n   beta_s_592  \n   beta_s_593  \n   beta_s_594  \n   beta_s_595  \n   beta_s_596  \n   beta_s_597  \n   beta_s_598  \n   beta_s_599  \n   beta_s_600  \n   beta_s_601  \n   beta_s_602  \n   beta_s_603  \n   beta_s_604  \n   beta_s_605  \n   beta_s_606  \n   beta_s_607  \n   beta_s_608  \n   beta_s_609  \n   beta_s_610  \n   beta_s_611  \n   beta_s_612  \n   beta_s_613  \n   beta_s_614  \n   beta_s_615  \n   beta_s_616  \n   beta_s_617  \n   beta_s_618  \n   beta_s_619  \n   beta_s_620  \n   beta_s_621  \n   beta_s_622  \n   beta_s_623  \n   beta_s_624  \n   beta_s_625  \n   beta_s_626  \n   beta_s_627  \n   beta_s_628  \n   beta_s_629  \n   beta_s_630  \n   beta_s_631  \n   beta_s_632  \n   beta_s_633  \n   beta_s_634  \n   beta_s_635  \n     beta_m_0 2\nSample Sites:  \n     s_0 dist |\n        value |\n     s_1 dist |\n        value |\n     s_2 dist |\n        value |\n     s_3 dist |\n        value |\n     s_4 dist |\n        value |\n     s_5 dist |\n        value |\n     s_6 dist |\n        value |\n     s_7 dist |\n        value |\n     s_8 dist |\n        value |\n     s_9 dist |\n        value |\n    s_10 dist |\n        value |\n    s_11 dist |\n        value |\n    s_12 dist |\n        value |\n    s_13 dist |\n        value |\n    s_14 dist |\n        value |\n    s_15 dist |\n        value |\n    s_16 dist |\n        value |\n    s_17 dist |\n        value |\n    s_18 dist |\n        value |\n    s_19 dist |\n        value |\n    s_20 dist |\n        value |\n    s_21 dist |\n        value |\n    s_22 dist |\n        value |\n    s_23 dist |\n        value |\n    s_24 dist |\n        value |\n    s_25 dist |\n        value |\n    s_26 dist |\n        value |\n    s_27 dist |\n        value |\n    s_28 dist |\n        value |\n    s_29 dist |\n        value |\n    s_30 dist |\n        value |\n    s_31 dist |\n        value |\n    s_32 dist |\n        value |\n    s_33 dist |\n        value |\n    s_34 dist |\n        value |\n    s_35 dist |\n        value |\n    s_36 dist |\n        value |\n    s_37 dist |\n        value |\n    s_38 dist |\n        value |\n    s_39 dist |\n        value |\n    s_40 dist |\n        value |\n    s_41 dist |\n        value |\n    s_42 dist |\n        value |\n    s_43 dist |\n        value |\n    s_44 dist |\n        value |\n    s_45 dist |\n        value |\n    s_46 dist |\n        value |\n    s_47 dist |\n        value |\n    s_48 dist |\n        value |\n    s_49 dist |\n        value |\n    s_50 dist |\n        value |\n    s_51 dist |\n        value |\n    s_52 dist |\n        value |\n    s_53 dist |\n        value |\n    s_54 dist |\n        value |\n    s_55 dist |\n        value |\n    s_56 dist |\n        value |\n    s_57 dist |\n        value |\n    s_58 dist |\n        value |\n    s_59 dist |\n        value |\n    s_60 dist |\n        value |\n    s_61 dist |\n        value |\n    s_62 dist |\n        value |\n    s_63 dist |\n        value |\n    s_64 dist |\n        value |\n    s_65 dist |\n        value |\n    s_66 dist |\n        value |\n    s_67 dist |\n        value |\n    s_68 dist |\n        value |\n    s_69 dist |\n        value |\n    s_70 dist |\n        value |\n    s_71 dist |\n        value |\n    s_72 dist |\n        value |\n    s_73 dist |\n        value |\n    s_74 dist |\n        value |\n    s_75 dist |\n        value |\n    s_76 dist |\n        value |\n    s_77 dist |\n        value |\n    s_78 dist |\n        value |\n    s_79 dist |\n        value |\n    s_80 dist |\n        value |\n    s_81 dist |\n        value |\n    s_82 dist |\n        value |\n    s_83 dist |\n        value |\n    s_84 dist |\n        value |\n    s_85 dist |\n        value |\n    s_86 dist |\n        value |\n    s_87 dist |\n        value |\n    s_88 dist |\n        value |\n    s_89 dist |\n        value |\n    s_90 dist |\n        value |\n    s_91 dist |\n        value |\n    s_92 dist |\n        value |\n    s_93 dist |\n        value |\n    s_94 dist |\n        value |\n    s_95 dist |\n        value |\n    s_96 dist |\n        value |\n    s_97 dist |\n        value |\n    s_98 dist |\n        value |\n    s_99 dist |\n        value |\n   s_100 dist |\n        value |\n   s_101 dist |\n        value |\n   s_102 dist |\n        value |\n   s_103 dist |\n        value |\n   s_104 dist |\n        value |\n   s_105 dist |\n        value |\n   s_106 dist |\n        value |\n   s_107 dist |\n        value |\n   s_108 dist |\n        value |\n   s_109 dist |\n        value |\n   s_110 dist |\n        value |\n   s_111 dist |\n        value |\n   s_112 dist |\n        value |\n   s_113 dist |\n        value |\n   s_114 dist |\n        value |\n   s_115 dist |\n        value |\n   s_116 dist |\n        value |\n   s_117 dist |\n        value |\n   s_118 dist |\n        value |\n   s_119 dist |\n        value |\n   s_120 dist |\n        value |\n   s_121 dist |\n        value |\n   s_122 dist |\n        value |\n   s_123 dist |\n        value |\n   s_124 dist |\n        value |\n   s_125 dist |\n        value |\n   s_126 dist |\n        value |\n   s_127 dist |\n        value |\n   s_128 dist |\n        value |\n   s_129 dist |\n        value |\n   s_130 dist |\n        value |\n   s_131 dist |\n        value |\n   s_132 dist |\n        value |\n   s_133 dist |\n        value |\n   s_134 dist |\n        value |\n   s_135 dist |\n        value |\n   s_136 dist |\n        value |\n   s_137 dist |\n        value |\n   s_138 dist |\n        value |\n   s_139 dist |\n        value |\n   s_140 dist |\n        value |\n   s_141 dist |\n        value |\n   s_142 dist |\n        value |\n   s_143 dist |\n        value |\n   s_144 dist |\n        value |\n   s_145 dist |\n        value |\n   s_146 dist |\n        value |\n   s_147 dist |\n        value |\n   s_148 dist |\n        value |\n   s_149 dist |\n        value |\n   s_150 dist |\n        value |\n   s_151 dist |\n        value |\n   s_152 dist |\n        value |\n   s_153 dist |\n        value |\n   s_154 dist |\n        value |\n   s_155 dist |\n        value |\n   s_156 dist |\n        value |\n   s_157 dist |\n        value |\n   s_158 dist |\n        value |\n   s_159 dist |\n        value |\n   s_160 dist |\n        value |\n   s_161 dist |\n        value |\n   s_162 dist |\n        value |\n   s_163 dist |\n        value |\n   s_164 dist |\n        value |\n   s_165 dist |\n        value |\n   s_166 dist |\n        value |\n   s_167 dist |\n        value |\n   s_168 dist |\n        value |\n   s_169 dist |\n        value |\n   s_170 dist |\n        value |\n   s_171 dist |\n        value |\n   s_172 dist |\n        value |\n   s_173 dist |\n        value |\n   s_174 dist |\n        value |\n   s_175 dist |\n        value |\n   s_176 dist |\n        value |\n   s_177 dist |\n        value |\n   s_178 dist |\n        value |\n   s_179 dist |\n        value |\n   s_180 dist |\n        value |\n   s_181 dist |\n        value |\n   s_182 dist |\n        value |\n   s_183 dist |\n        value |\n   s_184 dist |\n        value |\n   s_185 dist |\n        value |\n   s_186 dist |\n        value |\n   s_187 dist |\n        value |\n   s_188 dist |\n        value |\n   s_189 dist |\n        value |\n   s_190 dist |\n        value |\n   s_191 dist |\n        value |\n   s_192 dist |\n        value |\n   s_193 dist |\n        value |\n   s_194 dist |\n        value |\n   s_195 dist |\n        value |\n   s_196 dist |\n        value |\n   s_197 dist |\n        value |\n   s_198 dist |\n        value |\n   s_199 dist |\n        value |\n   s_200 dist |\n        value |\n   s_201 dist |\n        value |\n   s_202 dist |\n        value |\n   s_203 dist |\n        value |\n   s_204 dist |\n        value |\n   s_205 dist |\n        value |\n   s_206 dist |\n        value |\n   s_207 dist |\n        value |\n   s_208 dist |\n        value |\n   s_209 dist |\n        value |\n   s_210 dist |\n        value |\n   s_211 dist |\n        value |\n   s_212 dist |\n        value |\n   s_213 dist |\n        value |\n   s_214 dist |\n        value |\n   s_215 dist |\n        value |\n   s_216 dist |\n        value |\n   s_217 dist |\n        value |\n   s_218 dist |\n        value |\n   s_219 dist |\n        value |\n   s_220 dist |\n        value |\n   s_221 dist |\n        value |\n   s_222 dist |\n        value |\n   s_223 dist |\n        value |\n   s_224 dist |\n        value |\n   s_225 dist |\n        value |\n   s_226 dist |\n        value |\n   s_227 dist |\n        value |\n   s_228 dist |\n        value |\n   s_229 dist |\n        value |\n   s_230 dist |\n        value |\n   s_231 dist |\n        value |\n   s_232 dist |\n        value |\n   s_233 dist |\n        value |\n   s_234 dist |\n        value |\n   s_235 dist |\n        value |\n   s_236 dist |\n        value |\n   s_237 dist |\n        value |\n   s_238 dist |\n        value |\n   s_239 dist |\n        value |\n   s_240 dist |\n        value |\n   s_241 dist |\n        value |\n   s_242 dist |\n        value |\n   s_243 dist |\n        value |\n   s_244 dist |\n        value |\n   s_245 dist |\n        value |\n   s_246 dist |\n        value |\n   s_247 dist |\n        value |\n   s_248 dist |\n        value |\n   s_249 dist |\n        value |\n   s_250 dist |\n        value |\n   s_251 dist |\n        value |\n   s_252 dist |\n        value |\n   s_253 dist |\n        value |\n   s_254 dist |\n        value |\n   s_255 dist |\n        value |\n   s_256 dist |\n        value |\n   s_257 dist |\n        value |\n   s_258 dist |\n        value |\n   s_259 dist |\n        value |\n   s_260 dist |\n        value |\n   s_261 dist |\n        value |\n   s_262 dist |\n        value |\n   s_263 dist |\n        value |\n   s_264 dist |\n        value |\n   s_265 dist |\n        value |\n   s_266 dist |\n        value |\n   s_267 dist |\n        value |\n   s_268 dist |\n        value |\n   s_269 dist |\n        value |\n   s_270 dist |\n        value |\n   s_271 dist |\n        value |\n   s_272 dist |\n        value |\n   s_273 dist |\n        value |\n   s_274 dist |\n        value |\n   s_275 dist |\n        value |\n   s_276 dist |\n        value |\n   s_277 dist |\n        value |\n   s_278 dist |\n        value |\n   s_279 dist |\n        value |\n   s_280 dist |\n        value |\n   s_281 dist |\n        value |\n   s_282 dist |\n        value |\n   s_283 dist |\n        value |\n   s_284 dist |\n        value |\n   s_285 dist |\n        value |\n   s_286 dist |\n        value |\n   s_287 dist |\n        value |\n   s_288 dist |\n        value |\n   s_289 dist |\n        value |\n   s_290 dist |\n        value |\n   s_291 dist |\n        value |\n   s_292 dist |\n        value |\n   s_293 dist |\n        value |\n   s_294 dist |\n        value |\n   s_295 dist |\n        value |\n   s_296 dist |\n        value |\n   s_297 dist |\n        value |\n   s_298 dist |\n        value |\n   s_299 dist |\n        value |\n   s_300 dist |\n        value |\n   s_301 dist |\n        value |\n   s_302 dist |\n        value |\n   s_303 dist |\n        value |\n   s_304 dist |\n        value |\n   s_305 dist |\n        value |\n   s_306 dist |\n        value |\n   s_307 dist |\n        value |\n   s_308 dist |\n        value |\n   s_309 dist |\n        value |\n   s_310 dist |\n        value |\n   s_311 dist |\n        value |\n   s_312 dist |\n        value |\n   s_313 dist |\n        value |\n   s_314 dist |\n        value |\n   s_315 dist |\n        value |\n   s_316 dist |\n        value |\n   s_317 dist |\n        value |\n   s_318 dist |\n        value |\n   s_319 dist |\n        value |\n   s_320 dist |\n        value |\n   s_321 dist |\n        value |\n   s_322 dist |\n        value |\n   s_323 dist |\n        value |\n   s_324 dist |\n        value |\n   s_325 dist |\n        value |\n   s_326 dist |\n        value |\n   s_327 dist |\n        value |\n   s_328 dist |\n        value |\n   s_329 dist |\n        value |\n   s_330 dist |\n        value |\n   s_331 dist |\n        value |\n   s_332 dist |\n        value |\n   s_333 dist |\n        value |\n   s_334 dist |\n        value |\n   s_335 dist |\n        value |\n   s_336 dist |\n        value |\n   s_337 dist |\n        value |\n   s_338 dist |\n        value |\n   s_339 dist |\n        value |\n   s_340 dist |\n        value |\n   s_341 dist |\n        value |\n   s_342 dist |\n        value |\n   s_343 dist |\n        value |\n   s_344 dist |\n        value |\n   s_345 dist |\n        value |\n   s_346 dist |\n        value |\n   s_347 dist |\n        value |\n   s_348 dist |\n        value |\n   s_349 dist |\n        value |\n   s_350 dist |\n        value |\n   s_351 dist |\n        value |\n   s_352 dist |\n        value |\n   s_353 dist |\n        value |\n   s_354 dist |\n        value |\n   s_355 dist |\n        value |\n   s_356 dist |\n        value |\n   s_357 dist |\n        value |\n   s_358 dist |\n        value |\n   s_359 dist |\n        value |\n   s_360 dist |\n        value |\n   s_361 dist |\n        value |\n   s_362 dist |\n        value |\n   s_363 dist |\n        value |\n   s_364 dist |\n        value |\n   s_365 dist |\n        value |\n   s_366 dist |\n        value |\n   s_367 dist |\n        value |\n   s_368 dist |\n        value |\n   s_369 dist |\n        value |\n   s_370 dist |\n        value |\n   s_371 dist |\n        value |\n   s_372 dist |\n        value |\n   s_373 dist |\n        value |\n   s_374 dist |\n        value |\n   s_375 dist |\n        value |\n   s_376 dist |\n        value |\n   s_377 dist |\n        value |\n   s_378 dist |\n        value |\n   s_379 dist |\n        value |\n   s_380 dist |\n        value |\n   s_381 dist |\n        value |\n   s_382 dist |\n        value |\n   s_383 dist |\n        value |\n   s_384 dist |\n        value |\n   s_385 dist |\n        value |\n   s_386 dist |\n        value |\n   s_387 dist |\n        value |\n   s_388 dist |\n        value |\n   s_389 dist |\n        value |\n   s_390 dist |\n        value |\n   s_391 dist |\n        value |\n   s_392 dist |\n        value |\n   s_393 dist |\n        value |\n   s_394 dist |\n        value |\n   s_395 dist |\n        value |\n   s_396 dist |\n        value |\n   s_397 dist |\n        value |\n   s_398 dist |\n        value |\n   s_399 dist |\n        value |\n   s_400 dist |\n        value |\n   s_401 dist |\n        value |\n   s_402 dist |\n        value |\n   s_403 dist |\n        value |\n   s_404 dist |\n        value |\n   s_405 dist |\n        value |\n   s_406 dist |\n        value |\n   s_407 dist |\n        value |\n   s_408 dist |\n        value |\n   s_409 dist |\n        value |\n   s_410 dist |\n        value |\n   s_411 dist |\n        value |\n   s_412 dist |\n        value |\n   s_413 dist |\n        value |\n   s_414 dist |\n        value |\n   s_415 dist |\n        value |\n   s_416 dist |\n        value |\n   s_417 dist |\n        value |\n   s_418 dist |\n        value |\n   s_419 dist |\n        value |\n   s_420 dist |\n        value |\n   s_421 dist |\n        value |\n   s_422 dist |\n        value |\n   s_423 dist |\n        value |\n   s_424 dist |\n        value |\n   s_425 dist |\n        value |\n   s_426 dist |\n        value |\n   s_427 dist |\n        value |\n   s_428 dist |\n        value |\n   s_429 dist |\n        value |\n   s_430 dist |\n        value |\n   s_431 dist |\n        value |\n   s_432 dist |\n        value |\n   s_433 dist |\n        value |\n   s_434 dist |\n        value |\n   s_435 dist |\n        value |\n   s_436 dist |\n        value |\n   s_437 dist |\n        value |\n   s_438 dist |\n        value |\n   s_439 dist |\n        value |\n   s_440 dist |\n        value |\n   s_441 dist |\n        value |\n   s_442 dist |\n        value |\n   s_443 dist |\n        value |\n   s_444 dist |\n        value |\n   s_445 dist |\n        value |\n   s_446 dist |\n        value |\n   s_447 dist |\n        value |\n   s_448 dist |\n        value |\n   s_449 dist |\n        value |\n   s_450 dist |\n        value |\n   s_451 dist |\n        value |\n   s_452 dist |\n        value |\n   s_453 dist |\n        value |\n   s_454 dist |\n        value |\n   s_455 dist |\n        value |\n   s_456 dist |\n        value |\n   s_457 dist |\n        value |\n   s_458 dist |\n        value |\n   s_459 dist |\n        value |\n   s_460 dist |\n        value |\n   s_461 dist |\n        value |\n   s_462 dist |\n        value |\n   s_463 dist |\n        value |\n   s_464 dist |\n        value |\n   s_465 dist |\n        value |\n   s_466 dist |\n        value |\n   s_467 dist |\n        value |\n   s_468 dist |\n        value |\n   s_469 dist |\n        value |\n   s_470 dist |\n        value |\n   s_471 dist |\n        value |\n   s_472 dist |\n        value |\n   s_473 dist |\n        value |\n   s_474 dist |\n        value |\n   s_475 dist |\n        value |\n   s_476 dist |\n        value |\n   s_477 dist |\n        value |\n   s_478 dist |\n        value |\n   s_479 dist |\n        value |\n   s_480 dist |\n        value |\n   s_481 dist |\n        value |\n   s_482 dist |\n        value |\n   s_483 dist |\n        value |\n   s_484 dist |\n        value |\n   s_485 dist |\n        value |\n   s_486 dist |\n        value |\n   s_487 dist |\n        value |\n   s_488 dist |\n        value |\n   s_489 dist |\n        value |\n   s_490 dist |\n        value |\n   s_491 dist |\n        value |\n   s_492 dist |\n        value |\n   s_493 dist |\n        value |\n   s_494 dist |\n        value |\n   s_495 dist |\n        value |\n   s_496 dist |\n        value |\n   s_497 dist |\n        value |\n   s_498 dist |\n        value |\n   s_499 dist |\n        value |\n   s_500 dist |\n        value |\n   s_501 dist |\n        value |\n   s_502 dist |\n        value |\n   s_503 dist |\n        value |\n   s_504 dist |\n        value |\n   s_505 dist |\n        value |\n   s_506 dist |\n        value |\n   s_507 dist |\n        value |\n   s_508 dist |\n        value |\n   s_509 dist |\n        value |\n   s_510 dist |\n        value |\n   s_511 dist |\n        value |\n   s_512 dist |\n        value |\n   s_513 dist |\n        value |\n   s_514 dist |\n        value |\n   s_515 dist |\n        value |\n   s_516 dist |\n        value |\n   s_517 dist |\n        value |\n   s_518 dist |\n        value |\n   s_519 dist |\n        value |\n   s_520 dist |\n        value |\n   s_521 dist |\n        value |\n   s_522 dist |\n        value |\n   s_523 dist |\n        value |\n   s_524 dist |\n        value |\n   s_525 dist |\n        value |\n   s_526 dist |\n        value |\n   s_527 dist |\n        value |\n   s_528 dist |\n        value |\n   s_529 dist |\n        value |\n   s_530 dist |\n        value |\n   s_531 dist |\n        value |\n   s_532 dist |\n        value |\n   s_533 dist |\n        value |\n   s_534 dist |\n        value |\n   s_535 dist |\n        value |\n   s_536 dist |\n        value |\n   s_537 dist |\n        value |\n   s_538 dist |\n        value |\n   s_539 dist |\n        value |\n   s_540 dist |\n        value |\n   s_541 dist |\n        value |\n   s_542 dist |\n        value |\n   s_543 dist |\n        value |\n   s_544 dist |\n        value |\n   s_545 dist |\n        value |\n   s_546 dist |\n        value |\n   s_547 dist |\n        value |\n   s_548 dist |\n        value |\n   s_549 dist |\n        value |\n   s_550 dist |\n        value |\n   s_551 dist |\n        value |\n   s_552 dist |\n        value |\n   s_553 dist |\n        value |\n   s_554 dist |\n        value |\n   s_555 dist |\n        value |\n   s_556 dist |\n        value |\n   s_557 dist |\n        value |\n   s_558 dist |\n        value |\n   s_559 dist |\n        value |\n   s_560 dist |\n        value |\n   s_561 dist |\n        value |\n   s_562 dist |\n        value |\n   s_563 dist |\n        value |\n   s_564 dist |\n        value |\n   s_565 dist |\n        value |\n   s_566 dist |\n        value |\n   s_567 dist |\n        value |\n   s_568 dist |\n        value |\n   s_569 dist |\n        value |\n   s_570 dist |\n        value |\n   s_571 dist |\n        value |\n   s_572 dist |\n        value |\n   s_573 dist |\n        value |\n   s_574 dist |\n        value |\n   s_575 dist |\n        value |\n   s_576 dist |\n        value |\n   s_577 dist |\n        value |\n   s_578 dist |\n        value |\n   s_579 dist |\n        value |\n   s_580 dist |\n        value |\n   s_581 dist |\n        value |\n   s_582 dist |\n        value |\n   s_583 dist |\n        value |\n   s_584 dist |\n        value |\n   s_585 dist |\n        value |\n   s_586 dist |\n        value |\n   s_587 dist |\n        value |\n   s_588 dist |\n        value |\n   s_589 dist |\n        value |\n   s_590 dist |\n        value |\n   s_591 dist |\n        value |\n   s_592 dist |\n        value |\n   s_593 dist |\n        value |\n   s_594 dist |\n        value |\n   s_595 dist |\n        value |\n   s_596 dist |\n        value |\n   s_597 dist |\n        value |\n   s_598 dist |\n        value |\n   s_599 dist |\n        value |\n   s_600 dist |\n        value |\n   s_601 dist |\n        value |\n   s_602 dist |\n        value |\n   s_603 dist |\n        value |\n   s_604 dist |\n        value |\n   s_605 dist |\n        value |\n   s_606 dist |\n        value |\n   s_607 dist |\n        value |\n   s_608 dist |\n        value |\n   s_609 dist |\n        value |\n   s_610 dist |\n        value |\n   s_611 dist |\n        value |\n   s_612 dist |\n        value |\n   s_613 dist |\n        value |\n   s_614 dist |\n        value |\n   s_615 dist |\n        value |\n   s_616 dist |\n        value |\n   s_617 dist |\n        value |\n   s_618 dist |\n        value |\n   s_619 dist |\n        value |\n   s_620 dist |\n        value |\n   s_621 dist |\n        value |\n   s_622 dist |\n        value |\n   s_623 dist |\n        value |\n   s_624 dist |\n        value |\n   s_625 dist |\n        value |\n   s_626 dist |\n        value |\n   s_627 dist |\n        value |\n   s_628 dist |\n        value |\n   s_629 dist |\n        value |\n   s_630 dist |\n        value |\n   s_631 dist |\n        value |\n   s_632 dist |\n        value |\n   s_633 dist |\n        value |\n   s_634 dist |\n        value |\n   s_635 dist |\n        value |",
     "output_type": "error",
     "traceback": [
      "\u001b[0;31m---------------------------------------------\u001b[0m",
      "\u001b[0;31mRuntimeError\u001b[0mTraceback (most recent call last)",
      "\u001b[0;32m~/miniconda3/envs/spectrum/lib/python3.6/site-packages/pyro/poutine/trace_messenger.py\u001b[0m in \u001b[0;36m__call__\u001b[0;34m(self, *args, **kwargs)\u001b[0m\n\u001b[1;32m    142\u001b[0m             \u001b[0;32mtry\u001b[0m\u001b[0;34m:\u001b[0m\u001b[0;34m\u001b[0m\u001b[0m\n\u001b[0;32m--> 143\u001b[0;31m                 \u001b[0mret\u001b[0m \u001b[0;34m=\u001b[0m \u001b[0mself\u001b[0m\u001b[0;34m.\u001b[0m\u001b[0mfn\u001b[0m\u001b[0;34m(\u001b[0m\u001b[0;34m*\u001b[0m\u001b[0margs\u001b[0m\u001b[0;34m,\u001b[0m \u001b[0;34m**\u001b[0m\u001b[0mkwargs\u001b[0m\u001b[0;34m)\u001b[0m\u001b[0;34m\u001b[0m\u001b[0m\n\u001b[0m\u001b[1;32m    144\u001b[0m             \u001b[0;32mexcept\u001b[0m \u001b[0;34m(\u001b[0m\u001b[0mValueError\u001b[0m\u001b[0;34m,\u001b[0m \u001b[0mRuntimeError\u001b[0m\u001b[0;34m)\u001b[0m\u001b[0;34m:\u001b[0m\u001b[0;34m\u001b[0m\u001b[0m\n",
      "\u001b[0;32m~/projects/spectrum/spectrum/judge/lca.py\u001b[0m in \u001b[0;36mlca_guide\u001b[0;34m(observation, mask)\u001b[0m\n\u001b[1;32m    193\u001b[0m                                      \u001b[0minit_tensor\u001b[0m\u001b[0;34m=\u001b[0m\u001b[0;36m1\u001b[0m \u001b[0;34m/\u001b[0m \u001b[0mdomain_size\u001b[0m \u001b[0;34m*\u001b[0m\u001b[0;34m\u001b[0m\u001b[0m\n\u001b[0;32m--> 194\u001b[0;31m                                      torch.ones((domain_size, ))))))\n\u001b[0m\u001b[1;32m    195\u001b[0m \u001b[0;34m\u001b[0m\u001b[0m\n",
      "\u001b[0;32m~/miniconda3/envs/spectrum/lib/python3.6/site-packages/pyro/primitives.py\u001b[0m in \u001b[0;36msample\u001b[0;34m(name, fn, *args, **kwargs)\u001b[0m\n\u001b[1;32m    109\u001b[0m         \u001b[0;31m# apply the stack and return its return value\u001b[0m\u001b[0;34m\u001b[0m\u001b[0;34m\u001b[0m\u001b[0m\n\u001b[0;32m--> 110\u001b[0;31m         \u001b[0mapply_stack\u001b[0m\u001b[0;34m(\u001b[0m\u001b[0mmsg\u001b[0m\u001b[0;34m)\u001b[0m\u001b[0;34m\u001b[0m\u001b[0m\n\u001b[0m\u001b[1;32m    111\u001b[0m         \u001b[0;32mreturn\u001b[0m \u001b[0mmsg\u001b[0m\u001b[0;34m[\u001b[0m\u001b[0;34m\"value\"\u001b[0m\u001b[0;34m]\u001b[0m\u001b[0;34m\u001b[0m\u001b[0m\n",
      "\u001b[0;32m~/miniconda3/envs/spectrum/lib/python3.6/site-packages/pyro/poutine/runtime.py\u001b[0m in \u001b[0;36mapply_stack\u001b[0;34m(initial_msg)\u001b[0m\n\u001b[1;32m    194\u001b[0m \u001b[0;34m\u001b[0m\u001b[0m\n\u001b[0;32m--> 195\u001b[0;31m     \u001b[0mdefault_process_message\u001b[0m\u001b[0;34m(\u001b[0m\u001b[0mmsg\u001b[0m\u001b[0;34m)\u001b[0m\u001b[0;34m\u001b[0m\u001b[0m\n\u001b[0m\u001b[1;32m    196\u001b[0m \u001b[0;34m\u001b[0m\u001b[0m\n",
      "\u001b[0;32m~/miniconda3/envs/spectrum/lib/python3.6/site-packages/pyro/poutine/runtime.py\u001b[0m in \u001b[0;36mdefault_process_message\u001b[0;34m(msg)\u001b[0m\n\u001b[1;32m    155\u001b[0m \u001b[0;34m\u001b[0m\u001b[0m\n\u001b[0;32m--> 156\u001b[0;31m     \u001b[0mmsg\u001b[0m\u001b[0;34m[\u001b[0m\u001b[0;34m\"value\"\u001b[0m\u001b[0;34m]\u001b[0m \u001b[0;34m=\u001b[0m \u001b[0mmsg\u001b[0m\u001b[0;34m[\u001b[0m\u001b[0;34m\"fn\"\u001b[0m\u001b[0;34m]\u001b[0m\u001b[0;34m(\u001b[0m\u001b[0;34m*\u001b[0m\u001b[0mmsg\u001b[0m\u001b[0;34m[\u001b[0m\u001b[0;34m\"args\"\u001b[0m\u001b[0;34m]\u001b[0m\u001b[0;34m,\u001b[0m \u001b[0;34m**\u001b[0m\u001b[0mmsg\u001b[0m\u001b[0;34m[\u001b[0m\u001b[0;34m\"kwargs\"\u001b[0m\u001b[0;34m]\u001b[0m\u001b[0;34m)\u001b[0m\u001b[0;34m\u001b[0m\u001b[0m\n\u001b[0m\u001b[1;32m    157\u001b[0m \u001b[0;34m\u001b[0m\u001b[0m\n",
      "\u001b[0;32m~/miniconda3/envs/spectrum/lib/python3.6/site-packages/pyro/distributions/torch_distribution.py\u001b[0m in \u001b[0;36m__call__\u001b[0;34m(self, sample_shape)\u001b[0m\n\u001b[1;32m     39\u001b[0m         \"\"\"\n\u001b[0;32m---> 40\u001b[0;31m         \u001b[0;32mreturn\u001b[0m \u001b[0mself\u001b[0m\u001b[0;34m.\u001b[0m\u001b[0mrsample\u001b[0m\u001b[0;34m(\u001b[0m\u001b[0msample_shape\u001b[0m\u001b[0;34m)\u001b[0m \u001b[0;32mif\u001b[0m \u001b[0mself\u001b[0m\u001b[0;34m.\u001b[0m\u001b[0mhas_rsample\u001b[0m \u001b[0;32melse\u001b[0m \u001b[0mself\u001b[0m\u001b[0;34m.\u001b[0m\u001b[0msample\u001b[0m\u001b[0;34m(\u001b[0m\u001b[0msample_shape\u001b[0m\u001b[0;34m)\u001b[0m\u001b[0;34m\u001b[0m\u001b[0m\n\u001b[0m\u001b[1;32m     41\u001b[0m \u001b[0;34m\u001b[0m\u001b[0m\n",
      "\u001b[0;32m~/miniconda3/envs/spectrum/lib/python3.6/site-packages/torch/distributions/categorical.py\u001b[0m in \u001b[0;36msample\u001b[0;34m(self, sample_shape)\u001b[0m\n\u001b[1;32m    106\u001b[0m         \u001b[0mprobs_2d\u001b[0m \u001b[0;34m=\u001b[0m \u001b[0mprobs\u001b[0m\u001b[0;34m.\u001b[0m\u001b[0mreshape\u001b[0m\u001b[0;34m(\u001b[0m\u001b[0;34m-\u001b[0m\u001b[0;36m1\u001b[0m\u001b[0;34m,\u001b[0m \u001b[0mself\u001b[0m\u001b[0;34m.\u001b[0m\u001b[0m_num_events\u001b[0m\u001b[0;34m)\u001b[0m\u001b[0;34m\u001b[0m\u001b[0m\n\u001b[0;32m--> 107\u001b[0;31m         \u001b[0msample_2d\u001b[0m \u001b[0;34m=\u001b[0m \u001b[0mtorch\u001b[0m\u001b[0;34m.\u001b[0m\u001b[0mmultinomial\u001b[0m\u001b[0;34m(\u001b[0m\u001b[0mprobs_2d\u001b[0m\u001b[0;34m,\u001b[0m \u001b[0;36m1\u001b[0m\u001b[0;34m,\u001b[0m \u001b[0;32mTrue\u001b[0m\u001b[0;34m)\u001b[0m\u001b[0;34m\u001b[0m\u001b[0m\n\u001b[0m\u001b[1;32m    108\u001b[0m         \u001b[0;32mreturn\u001b[0m \u001b[0msample_2d\u001b[0m\u001b[0;34m.\u001b[0m\u001b[0mreshape\u001b[0m\u001b[0;34m(\u001b[0m\u001b[0msample_shape\u001b[0m\u001b[0;34m)\u001b[0m\u001b[0;34m\u001b[0m\u001b[0m\n",
      "\u001b[0;31mRuntimeError\u001b[0m: invalid argument 2: invalid multinomial distribution (encountering probability entry < 0) at /Users/distiller/project/conda/conda-bld/pytorch_1565272679438/work/aten/src/TH/generic/THTensorRandom.cpp:356",
      "\nDuring handling of the above exception, another exception occurred:\n",
      "\u001b[0;31mRuntimeError\u001b[0mTraceback (most recent call last)",
      "\u001b[0;32m<ipython-input-16-5f65e1a99439>\u001b[0m in \u001b[0;36m<module>\u001b[0;34m\u001b[0m\n\u001b[0;32m----> 1\u001b[0;31m \u001b[0msvi\u001b[0m\u001b[0;34m.\u001b[0m\u001b[0mstep\u001b[0m\u001b[0;34m(\u001b[0m\u001b[0mobservation\u001b[0m\u001b[0;34m,\u001b[0m\u001b[0mmask\u001b[0m\u001b[0;34m)\u001b[0m\u001b[0;34m\u001b[0m\u001b[0m\n\u001b[0m",
      "\u001b[0;32m~/miniconda3/envs/spectrum/lib/python3.6/site-packages/pyro/infer/svi.py\u001b[0m in \u001b[0;36mstep\u001b[0;34m(self, *args, **kwargs)\u001b[0m\n\u001b[1;32m     96\u001b[0m         \u001b[0;31m# get loss and compute gradients\u001b[0m\u001b[0;34m\u001b[0m\u001b[0;34m\u001b[0m\u001b[0m\n\u001b[1;32m     97\u001b[0m         \u001b[0;32mwith\u001b[0m \u001b[0mpoutine\u001b[0m\u001b[0;34m.\u001b[0m\u001b[0mtrace\u001b[0m\u001b[0;34m(\u001b[0m\u001b[0mparam_only\u001b[0m\u001b[0;34m=\u001b[0m\u001b[0;32mTrue\u001b[0m\u001b[0;34m)\u001b[0m \u001b[0;32mas\u001b[0m \u001b[0mparam_capture\u001b[0m\u001b[0;34m:\u001b[0m\u001b[0;34m\u001b[0m\u001b[0m\n\u001b[0;32m---> 98\u001b[0;31m             \u001b[0mloss\u001b[0m \u001b[0;34m=\u001b[0m \u001b[0mself\u001b[0m\u001b[0;34m.\u001b[0m\u001b[0mloss_and_grads\u001b[0m\u001b[0;34m(\u001b[0m\u001b[0mself\u001b[0m\u001b[0;34m.\u001b[0m\u001b[0mmodel\u001b[0m\u001b[0;34m,\u001b[0m \u001b[0mself\u001b[0m\u001b[0;34m.\u001b[0m\u001b[0mguide\u001b[0m\u001b[0;34m,\u001b[0m \u001b[0;34m*\u001b[0m\u001b[0margs\u001b[0m\u001b[0;34m,\u001b[0m \u001b[0;34m**\u001b[0m\u001b[0mkwargs\u001b[0m\u001b[0;34m)\u001b[0m\u001b[0;34m\u001b[0m\u001b[0m\n\u001b[0m\u001b[1;32m     99\u001b[0m \u001b[0;34m\u001b[0m\u001b[0m\n\u001b[1;32m    100\u001b[0m         params = set(site[\"value\"].unconstrained()\n",
      "\u001b[0;32m~/miniconda3/envs/spectrum/lib/python3.6/site-packages/pyro/infer/trace_elbo.py\u001b[0m in \u001b[0;36mloss_and_grads\u001b[0;34m(self, model, guide, *args, **kwargs)\u001b[0m\n\u001b[1;32m    121\u001b[0m         \u001b[0mloss\u001b[0m \u001b[0;34m=\u001b[0m \u001b[0;36m0.0\u001b[0m\u001b[0;34m\u001b[0m\u001b[0m\n\u001b[1;32m    122\u001b[0m         \u001b[0;31m# grab a trace from the generator\u001b[0m\u001b[0;34m\u001b[0m\u001b[0;34m\u001b[0m\u001b[0m\n\u001b[0;32m--> 123\u001b[0;31m         \u001b[0;32mfor\u001b[0m \u001b[0mmodel_trace\u001b[0m\u001b[0;34m,\u001b[0m \u001b[0mguide_trace\u001b[0m \u001b[0;32min\u001b[0m \u001b[0mself\u001b[0m\u001b[0;34m.\u001b[0m\u001b[0m_get_traces\u001b[0m\u001b[0;34m(\u001b[0m\u001b[0mmodel\u001b[0m\u001b[0;34m,\u001b[0m \u001b[0mguide\u001b[0m\u001b[0;34m,\u001b[0m \u001b[0;34m*\u001b[0m\u001b[0margs\u001b[0m\u001b[0;34m,\u001b[0m \u001b[0;34m**\u001b[0m\u001b[0mkwargs\u001b[0m\u001b[0;34m)\u001b[0m\u001b[0;34m:\u001b[0m\u001b[0;34m\u001b[0m\u001b[0m\n\u001b[0m\u001b[1;32m    124\u001b[0m             \u001b[0mloss_particle\u001b[0m\u001b[0;34m,\u001b[0m \u001b[0msurrogate_loss_particle\u001b[0m \u001b[0;34m=\u001b[0m \u001b[0mself\u001b[0m\u001b[0;34m.\u001b[0m\u001b[0m_differentiable_loss_particle\u001b[0m\u001b[0;34m(\u001b[0m\u001b[0mmodel_trace\u001b[0m\u001b[0;34m,\u001b[0m \u001b[0mguide_trace\u001b[0m\u001b[0;34m)\u001b[0m\u001b[0;34m\u001b[0m\u001b[0m\n\u001b[1;32m    125\u001b[0m             \u001b[0mloss\u001b[0m \u001b[0;34m+=\u001b[0m \u001b[0mloss_particle\u001b[0m \u001b[0;34m/\u001b[0m \u001b[0mself\u001b[0m\u001b[0;34m.\u001b[0m\u001b[0mnum_particles\u001b[0m\u001b[0;34m\u001b[0m\u001b[0m\n",
      "\u001b[0;32m~/miniconda3/envs/spectrum/lib/python3.6/site-packages/pyro/infer/elbo.py\u001b[0m in \u001b[0;36m_get_traces\u001b[0;34m(self, model, guide, *args, **kwargs)\u001b[0m\n\u001b[1;32m    165\u001b[0m         \u001b[0;32melse\u001b[0m\u001b[0;34m:\u001b[0m\u001b[0;34m\u001b[0m\u001b[0m\n\u001b[1;32m    166\u001b[0m             \u001b[0;32mfor\u001b[0m \u001b[0mi\u001b[0m \u001b[0;32min\u001b[0m \u001b[0mrange\u001b[0m\u001b[0;34m(\u001b[0m\u001b[0mself\u001b[0m\u001b[0;34m.\u001b[0m\u001b[0mnum_particles\u001b[0m\u001b[0;34m)\u001b[0m\u001b[0;34m:\u001b[0m\u001b[0;34m\u001b[0m\u001b[0m\n\u001b[0;32m--> 167\u001b[0;31m                 \u001b[0;32myield\u001b[0m \u001b[0mself\u001b[0m\u001b[0;34m.\u001b[0m\u001b[0m_get_trace\u001b[0m\u001b[0;34m(\u001b[0m\u001b[0mmodel\u001b[0m\u001b[0;34m,\u001b[0m \u001b[0mguide\u001b[0m\u001b[0;34m,\u001b[0m \u001b[0;34m*\u001b[0m\u001b[0margs\u001b[0m\u001b[0;34m,\u001b[0m \u001b[0;34m**\u001b[0m\u001b[0mkwargs\u001b[0m\u001b[0;34m)\u001b[0m\u001b[0;34m\u001b[0m\u001b[0m\n\u001b[0m",
      "\u001b[0;32m~/miniconda3/envs/spectrum/lib/python3.6/site-packages/pyro/infer/trace_elbo.py\u001b[0m in \u001b[0;36m_get_trace\u001b[0;34m(self, model, guide, *args, **kwargs)\u001b[0m\n\u001b[1;32m     48\u001b[0m         \"\"\"\n\u001b[1;32m     49\u001b[0m         model_trace, guide_trace = get_importance_trace(\n\u001b[0;32m---> 50\u001b[0;31m             \"flat\", self.max_plate_nesting, model, guide, *args, **kwargs)\n\u001b[0m\u001b[1;32m     51\u001b[0m         \u001b[0;32mif\u001b[0m \u001b[0mis_validation_enabled\u001b[0m\u001b[0;34m(\u001b[0m\u001b[0;34m)\u001b[0m\u001b[0;34m:\u001b[0m\u001b[0;34m\u001b[0m\u001b[0m\n\u001b[1;32m     52\u001b[0m             \u001b[0mcheck_if_enumerated\u001b[0m\u001b[0;34m(\u001b[0m\u001b[0mguide_trace\u001b[0m\u001b[0;34m)\u001b[0m\u001b[0;34m\u001b[0m\u001b[0m\n",
      "\u001b[0;32m~/miniconda3/envs/spectrum/lib/python3.6/site-packages/pyro/infer/enum.py\u001b[0m in \u001b[0;36mget_importance_trace\u001b[0;34m(graph_type, max_plate_nesting, model, guide, *args, **kwargs)\u001b[0m\n\u001b[1;32m     38\u001b[0m     \u001b[0magainst\u001b[0m \u001b[0mit\u001b[0m\u001b[0;34m.\u001b[0m\u001b[0;34m\u001b[0m\u001b[0m\n\u001b[1;32m     39\u001b[0m     \"\"\"\n\u001b[0;32m---> 40\u001b[0;31m     \u001b[0mguide_trace\u001b[0m \u001b[0;34m=\u001b[0m \u001b[0mpoutine\u001b[0m\u001b[0;34m.\u001b[0m\u001b[0mtrace\u001b[0m\u001b[0;34m(\u001b[0m\u001b[0mguide\u001b[0m\u001b[0;34m,\u001b[0m \u001b[0mgraph_type\u001b[0m\u001b[0;34m=\u001b[0m\u001b[0mgraph_type\u001b[0m\u001b[0;34m)\u001b[0m\u001b[0;34m.\u001b[0m\u001b[0mget_trace\u001b[0m\u001b[0;34m(\u001b[0m\u001b[0;34m*\u001b[0m\u001b[0margs\u001b[0m\u001b[0;34m,\u001b[0m \u001b[0;34m**\u001b[0m\u001b[0mkwargs\u001b[0m\u001b[0;34m)\u001b[0m\u001b[0;34m\u001b[0m\u001b[0m\n\u001b[0m\u001b[1;32m     41\u001b[0m     model_trace = poutine.trace(poutine.replay(model, trace=guide_trace),\n\u001b[1;32m     42\u001b[0m                                 graph_type=graph_type).get_trace(*args, **kwargs)\n",
      "\u001b[0;32m~/miniconda3/envs/spectrum/lib/python3.6/site-packages/pyro/poutine/trace_messenger.py\u001b[0m in \u001b[0;36mget_trace\u001b[0;34m(self, *args, **kwargs)\u001b[0m\n\u001b[1;32m    161\u001b[0m         \u001b[0mCalls\u001b[0m \u001b[0mthis\u001b[0m \u001b[0mpoutine\u001b[0m \u001b[0;32mand\u001b[0m \u001b[0mreturns\u001b[0m \u001b[0mits\u001b[0m \u001b[0mtrace\u001b[0m \u001b[0minstead\u001b[0m \u001b[0mof\u001b[0m \u001b[0mthe\u001b[0m \u001b[0mfunction\u001b[0m\u001b[0;31m'\u001b[0m\u001b[0ms\u001b[0m \u001b[0;32mreturn\u001b[0m \u001b[0mvalue\u001b[0m\u001b[0;34m.\u001b[0m\u001b[0;34m\u001b[0m\u001b[0m\n\u001b[1;32m    162\u001b[0m         \"\"\"\n\u001b[0;32m--> 163\u001b[0;31m         \u001b[0mself\u001b[0m\u001b[0;34m(\u001b[0m\u001b[0;34m*\u001b[0m\u001b[0margs\u001b[0m\u001b[0;34m,\u001b[0m \u001b[0;34m**\u001b[0m\u001b[0mkwargs\u001b[0m\u001b[0;34m)\u001b[0m\u001b[0;34m\u001b[0m\u001b[0m\n\u001b[0m\u001b[1;32m    164\u001b[0m         \u001b[0;32mreturn\u001b[0m \u001b[0mself\u001b[0m\u001b[0;34m.\u001b[0m\u001b[0mmsngr\u001b[0m\u001b[0;34m.\u001b[0m\u001b[0mget_trace\u001b[0m\u001b[0;34m(\u001b[0m\u001b[0;34m)\u001b[0m\u001b[0;34m\u001b[0m\u001b[0m\n",
      "\u001b[0;32m~/miniconda3/envs/spectrum/lib/python3.6/site-packages/pyro/poutine/trace_messenger.py\u001b[0m in \u001b[0;36m__call__\u001b[0;34m(self, *args, **kwargs)\u001b[0m\n\u001b[1;32m    145\u001b[0m                 \u001b[0mexc_type\u001b[0m\u001b[0;34m,\u001b[0m \u001b[0mexc_value\u001b[0m\u001b[0;34m,\u001b[0m \u001b[0mtraceback\u001b[0m \u001b[0;34m=\u001b[0m \u001b[0msys\u001b[0m\u001b[0;34m.\u001b[0m\u001b[0mexc_info\u001b[0m\u001b[0;34m(\u001b[0m\u001b[0;34m)\u001b[0m\u001b[0;34m\u001b[0m\u001b[0m\n\u001b[1;32m    146\u001b[0m                 \u001b[0mshapes\u001b[0m \u001b[0;34m=\u001b[0m \u001b[0mself\u001b[0m\u001b[0;34m.\u001b[0m\u001b[0mmsngr\u001b[0m\u001b[0;34m.\u001b[0m\u001b[0mtrace\u001b[0m\u001b[0;34m.\u001b[0m\u001b[0mformat_shapes\u001b[0m\u001b[0;34m(\u001b[0m\u001b[0;34m)\u001b[0m\u001b[0;34m\u001b[0m\u001b[0m\n\u001b[0;32m--> 147\u001b[0;31m                 \u001b[0;32mraise\u001b[0m \u001b[0mexc_type\u001b[0m\u001b[0;34m(\u001b[0m\u001b[0;34mu\"{}\\n{}\"\u001b[0m\u001b[0;34m.\u001b[0m\u001b[0mformat\u001b[0m\u001b[0;34m(\u001b[0m\u001b[0mexc_value\u001b[0m\u001b[0;34m,\u001b[0m \u001b[0mshapes\u001b[0m\u001b[0;34m)\u001b[0m\u001b[0;34m)\u001b[0m\u001b[0;34m.\u001b[0m\u001b[0mwith_traceback\u001b[0m\u001b[0;34m(\u001b[0m\u001b[0mtraceback\u001b[0m\u001b[0;34m)\u001b[0m\u001b[0;34m\u001b[0m\u001b[0m\n\u001b[0m\u001b[1;32m    148\u001b[0m             \u001b[0mself\u001b[0m\u001b[0;34m.\u001b[0m\u001b[0mmsngr\u001b[0m\u001b[0;34m.\u001b[0m\u001b[0mtrace\u001b[0m\u001b[0;34m.\u001b[0m\u001b[0madd_node\u001b[0m\u001b[0;34m(\u001b[0m\u001b[0;34m\"_RETURN\"\u001b[0m\u001b[0;34m,\u001b[0m \u001b[0mname\u001b[0m\u001b[0;34m=\u001b[0m\u001b[0;34m\"_RETURN\"\u001b[0m\u001b[0;34m,\u001b[0m \u001b[0mtype\u001b[0m\u001b[0;34m=\u001b[0m\u001b[0;34m\"return\"\u001b[0m\u001b[0;34m,\u001b[0m \u001b[0mvalue\u001b[0m\u001b[0;34m=\u001b[0m\u001b[0mret\u001b[0m\u001b[0;34m)\u001b[0m\u001b[0;34m\u001b[0m\u001b[0m\n\u001b[1;32m    149\u001b[0m         \u001b[0;32mreturn\u001b[0m \u001b[0mret\u001b[0m\u001b[0;34m\u001b[0m\u001b[0m\n",
      "\u001b[0;32m~/miniconda3/envs/spectrum/lib/python3.6/site-packages/pyro/poutine/trace_messenger.py\u001b[0m in \u001b[0;36m__call__\u001b[0;34m(self, *args, **kwargs)\u001b[0m\n\u001b[1;32m    141\u001b[0m                                       args=args, kwargs=kwargs)\n\u001b[1;32m    142\u001b[0m             \u001b[0;32mtry\u001b[0m\u001b[0;34m:\u001b[0m\u001b[0;34m\u001b[0m\u001b[0m\n\u001b[0;32m--> 143\u001b[0;31m                 \u001b[0mret\u001b[0m \u001b[0;34m=\u001b[0m \u001b[0mself\u001b[0m\u001b[0;34m.\u001b[0m\u001b[0mfn\u001b[0m\u001b[0;34m(\u001b[0m\u001b[0;34m*\u001b[0m\u001b[0margs\u001b[0m\u001b[0;34m,\u001b[0m \u001b[0;34m**\u001b[0m\u001b[0mkwargs\u001b[0m\u001b[0;34m)\u001b[0m\u001b[0;34m\u001b[0m\u001b[0m\n\u001b[0m\u001b[1;32m    144\u001b[0m             \u001b[0;32mexcept\u001b[0m \u001b[0;34m(\u001b[0m\u001b[0mValueError\u001b[0m\u001b[0;34m,\u001b[0m \u001b[0mRuntimeError\u001b[0m\u001b[0;34m)\u001b[0m\u001b[0;34m:\u001b[0m\u001b[0;34m\u001b[0m\u001b[0m\n\u001b[1;32m    145\u001b[0m                 \u001b[0mexc_type\u001b[0m\u001b[0;34m,\u001b[0m \u001b[0mexc_value\u001b[0m\u001b[0;34m,\u001b[0m \u001b[0mtraceback\u001b[0m \u001b[0;34m=\u001b[0m \u001b[0msys\u001b[0m\u001b[0;34m.\u001b[0m\u001b[0mexc_info\u001b[0m\u001b[0;34m(\u001b[0m\u001b[0;34m)\u001b[0m\u001b[0;34m\u001b[0m\u001b[0m\n",
      "\u001b[0;32m~/projects/spectrum/spectrum/judge/lca.py\u001b[0m in \u001b[0;36mlca_guide\u001b[0;34m(observation, mask)\u001b[0m\n\u001b[1;32m    192\u001b[0m                     probs=pyro.param(f'beta_m_{m}',\n\u001b[1;32m    193\u001b[0m                                      \u001b[0minit_tensor\u001b[0m\u001b[0;34m=\u001b[0m\u001b[0;36m1\u001b[0m \u001b[0;34m/\u001b[0m \u001b[0mdomain_size\u001b[0m \u001b[0;34m*\u001b[0m\u001b[0;34m\u001b[0m\u001b[0m\n\u001b[0;32m--> 194\u001b[0;31m                                      torch.ones((domain_size, ))))))\n\u001b[0m\u001b[1;32m    195\u001b[0m \u001b[0;34m\u001b[0m\u001b[0m\n\u001b[1;32m    196\u001b[0m \u001b[0;34m\u001b[0m\u001b[0m\n",
      "\u001b[0;32m~/miniconda3/envs/spectrum/lib/python3.6/site-packages/pyro/primitives.py\u001b[0m in \u001b[0;36msample\u001b[0;34m(name, fn, *args, **kwargs)\u001b[0m\n\u001b[1;32m    108\u001b[0m             \u001b[0mmsg\u001b[0m\u001b[0;34m[\u001b[0m\u001b[0;34m\"is_observed\"\u001b[0m\u001b[0;34m]\u001b[0m \u001b[0;34m=\u001b[0m \u001b[0;32mTrue\u001b[0m\u001b[0;34m\u001b[0m\u001b[0m\n\u001b[1;32m    109\u001b[0m         \u001b[0;31m# apply the stack and return its return value\u001b[0m\u001b[0;34m\u001b[0m\u001b[0;34m\u001b[0m\u001b[0m\n\u001b[0;32m--> 110\u001b[0;31m         \u001b[0mapply_stack\u001b[0m\u001b[0;34m(\u001b[0m\u001b[0mmsg\u001b[0m\u001b[0;34m)\u001b[0m\u001b[0;34m\u001b[0m\u001b[0m\n\u001b[0m\u001b[1;32m    111\u001b[0m         \u001b[0;32mreturn\u001b[0m \u001b[0mmsg\u001b[0m\u001b[0;34m[\u001b[0m\u001b[0;34m\"value\"\u001b[0m\u001b[0;34m]\u001b[0m\u001b[0;34m\u001b[0m\u001b[0m\n\u001b[1;32m    112\u001b[0m \u001b[0;34m\u001b[0m\u001b[0m\n",
      "\u001b[0;32m~/miniconda3/envs/spectrum/lib/python3.6/site-packages/pyro/poutine/runtime.py\u001b[0m in \u001b[0;36mapply_stack\u001b[0;34m(initial_msg)\u001b[0m\n\u001b[1;32m    193\u001b[0m             \u001b[0;32mbreak\u001b[0m\u001b[0;34m\u001b[0m\u001b[0m\n\u001b[1;32m    194\u001b[0m \u001b[0;34m\u001b[0m\u001b[0m\n\u001b[0;32m--> 195\u001b[0;31m     \u001b[0mdefault_process_message\u001b[0m\u001b[0;34m(\u001b[0m\u001b[0mmsg\u001b[0m\u001b[0;34m)\u001b[0m\u001b[0;34m\u001b[0m\u001b[0m\n\u001b[0m\u001b[1;32m    196\u001b[0m \u001b[0;34m\u001b[0m\u001b[0m\n\u001b[1;32m    197\u001b[0m     \u001b[0;32mfor\u001b[0m \u001b[0mframe\u001b[0m \u001b[0;32min\u001b[0m \u001b[0mstack\u001b[0m\u001b[0;34m[\u001b[0m\u001b[0;34m-\u001b[0m\u001b[0mpointer\u001b[0m\u001b[0;34m:\u001b[0m\u001b[0;34m]\u001b[0m\u001b[0;34m:\u001b[0m\u001b[0;34m\u001b[0m\u001b[0m\n",
      "\u001b[0;32m~/miniconda3/envs/spectrum/lib/python3.6/site-packages/pyro/poutine/runtime.py\u001b[0m in \u001b[0;36mdefault_process_message\u001b[0;34m(msg)\u001b[0m\n\u001b[1;32m    154\u001b[0m         \u001b[0;32mreturn\u001b[0m \u001b[0mmsg\u001b[0m\u001b[0;34m\u001b[0m\u001b[0m\n\u001b[1;32m    155\u001b[0m \u001b[0;34m\u001b[0m\u001b[0m\n\u001b[0;32m--> 156\u001b[0;31m     \u001b[0mmsg\u001b[0m\u001b[0;34m[\u001b[0m\u001b[0;34m\"value\"\u001b[0m\u001b[0;34m]\u001b[0m \u001b[0;34m=\u001b[0m \u001b[0mmsg\u001b[0m\u001b[0;34m[\u001b[0m\u001b[0;34m\"fn\"\u001b[0m\u001b[0;34m]\u001b[0m\u001b[0;34m(\u001b[0m\u001b[0;34m*\u001b[0m\u001b[0mmsg\u001b[0m\u001b[0;34m[\u001b[0m\u001b[0;34m\"args\"\u001b[0m\u001b[0;34m]\u001b[0m\u001b[0;34m,\u001b[0m \u001b[0;34m**\u001b[0m\u001b[0mmsg\u001b[0m\u001b[0;34m[\u001b[0m\u001b[0;34m\"kwargs\"\u001b[0m\u001b[0;34m]\u001b[0m\u001b[0;34m)\u001b[0m\u001b[0;34m\u001b[0m\u001b[0m\n\u001b[0m\u001b[1;32m    157\u001b[0m \u001b[0;34m\u001b[0m\u001b[0m\n\u001b[1;32m    158\u001b[0m     \u001b[0;31m# after fn has been called, update msg to prevent it from being called again.\u001b[0m\u001b[0;34m\u001b[0m\u001b[0;34m\u001b[0m\u001b[0m\n",
      "\u001b[0;32m~/miniconda3/envs/spectrum/lib/python3.6/site-packages/pyro/distributions/torch_distribution.py\u001b[0m in \u001b[0;36m__call__\u001b[0;34m(self, sample_shape)\u001b[0m\n\u001b[1;32m     38\u001b[0m         \u001b[0;34m:\u001b[0m\u001b[0mrtype\u001b[0m\u001b[0;34m:\u001b[0m \u001b[0mtorch\u001b[0m\u001b[0;34m.\u001b[0m\u001b[0mTensor\u001b[0m\u001b[0;34m\u001b[0m\u001b[0m\n\u001b[1;32m     39\u001b[0m         \"\"\"\n\u001b[0;32m---> 40\u001b[0;31m         \u001b[0;32mreturn\u001b[0m \u001b[0mself\u001b[0m\u001b[0;34m.\u001b[0m\u001b[0mrsample\u001b[0m\u001b[0;34m(\u001b[0m\u001b[0msample_shape\u001b[0m\u001b[0;34m)\u001b[0m \u001b[0;32mif\u001b[0m \u001b[0mself\u001b[0m\u001b[0;34m.\u001b[0m\u001b[0mhas_rsample\u001b[0m \u001b[0;32melse\u001b[0m \u001b[0mself\u001b[0m\u001b[0;34m.\u001b[0m\u001b[0msample\u001b[0m\u001b[0;34m(\u001b[0m\u001b[0msample_shape\u001b[0m\u001b[0;34m)\u001b[0m\u001b[0;34m\u001b[0m\u001b[0m\n\u001b[0m\u001b[1;32m     41\u001b[0m \u001b[0;34m\u001b[0m\u001b[0m\n\u001b[1;32m     42\u001b[0m     \u001b[0;34m@\u001b[0m\u001b[0mproperty\u001b[0m\u001b[0;34m\u001b[0m\u001b[0m\n",
      "\u001b[0;32m~/miniconda3/envs/spectrum/lib/python3.6/site-packages/torch/distributions/categorical.py\u001b[0m in \u001b[0;36msample\u001b[0;34m(self, sample_shape)\u001b[0m\n\u001b[1;32m    105\u001b[0m         \u001b[0mprobs\u001b[0m \u001b[0;34m=\u001b[0m \u001b[0mself\u001b[0m\u001b[0;34m.\u001b[0m\u001b[0mprobs\u001b[0m\u001b[0;34m.\u001b[0m\u001b[0mexpand\u001b[0m\u001b[0;34m(\u001b[0m\u001b[0mparam_shape\u001b[0m\u001b[0;34m)\u001b[0m\u001b[0;34m\u001b[0m\u001b[0m\n\u001b[1;32m    106\u001b[0m         \u001b[0mprobs_2d\u001b[0m \u001b[0;34m=\u001b[0m \u001b[0mprobs\u001b[0m\u001b[0;34m.\u001b[0m\u001b[0mreshape\u001b[0m\u001b[0;34m(\u001b[0m\u001b[0;34m-\u001b[0m\u001b[0;36m1\u001b[0m\u001b[0;34m,\u001b[0m \u001b[0mself\u001b[0m\u001b[0;34m.\u001b[0m\u001b[0m_num_events\u001b[0m\u001b[0;34m)\u001b[0m\u001b[0;34m\u001b[0m\u001b[0m\n\u001b[0;32m--> 107\u001b[0;31m         \u001b[0msample_2d\u001b[0m \u001b[0;34m=\u001b[0m \u001b[0mtorch\u001b[0m\u001b[0;34m.\u001b[0m\u001b[0mmultinomial\u001b[0m\u001b[0;34m(\u001b[0m\u001b[0mprobs_2d\u001b[0m\u001b[0;34m,\u001b[0m \u001b[0;36m1\u001b[0m\u001b[0;34m,\u001b[0m \u001b[0;32mTrue\u001b[0m\u001b[0;34m)\u001b[0m\u001b[0;34m\u001b[0m\u001b[0m\n\u001b[0m\u001b[1;32m    108\u001b[0m         \u001b[0;32mreturn\u001b[0m \u001b[0msample_2d\u001b[0m\u001b[0;34m.\u001b[0m\u001b[0mreshape\u001b[0m\u001b[0;34m(\u001b[0m\u001b[0msample_shape\u001b[0m\u001b[0;34m)\u001b[0m\u001b[0;34m\u001b[0m\u001b[0m\n\u001b[1;32m    109\u001b[0m \u001b[0;34m\u001b[0m\u001b[0m\n",
      "\u001b[0;31mRuntimeError\u001b[0m: invalid argument 2: invalid multinomial distribution (encountering probability entry < 0) at /Users/distiller/project/conda/conda-bld/pytorch_1565272679438/work/aten/src/TH/generic/THTensorRandom.cpp:356\nTrace Shapes:  \n Param Sites:  \n     beta_s_0  \n     beta_s_1  \n     beta_s_2  \n     beta_s_3  \n     beta_s_4  \n     beta_s_5  \n     beta_s_6  \n     beta_s_7  \n     beta_s_8  \n     beta_s_9  \n    beta_s_10  \n    beta_s_11  \n    beta_s_12  \n    beta_s_13  \n    beta_s_14  \n    beta_s_15  \n    beta_s_16  \n    beta_s_17  \n    beta_s_18  \n    beta_s_19  \n    beta_s_20  \n    beta_s_21  \n    beta_s_22  \n    beta_s_23  \n    beta_s_24  \n    beta_s_25  \n    beta_s_26  \n    beta_s_27  \n    beta_s_28  \n    beta_s_29  \n    beta_s_30  \n    beta_s_31  \n    beta_s_32  \n    beta_s_33  \n    beta_s_34  \n    beta_s_35  \n    beta_s_36  \n    beta_s_37  \n    beta_s_38  \n    beta_s_39  \n    beta_s_40  \n    beta_s_41  \n    beta_s_42  \n    beta_s_43  \n    beta_s_44  \n    beta_s_45  \n    beta_s_46  \n    beta_s_47  \n    beta_s_48  \n    beta_s_49  \n    beta_s_50  \n    beta_s_51  \n    beta_s_52  \n    beta_s_53  \n    beta_s_54  \n    beta_s_55  \n    beta_s_56  \n    beta_s_57  \n    beta_s_58  \n    beta_s_59  \n    beta_s_60  \n    beta_s_61  \n    beta_s_62  \n    beta_s_63  \n    beta_s_64  \n    beta_s_65  \n    beta_s_66  \n    beta_s_67  \n    beta_s_68  \n    beta_s_69  \n    beta_s_70  \n    beta_s_71  \n    beta_s_72  \n    beta_s_73  \n    beta_s_74  \n    beta_s_75  \n    beta_s_76  \n    beta_s_77  \n    beta_s_78  \n    beta_s_79  \n    beta_s_80  \n    beta_s_81  \n    beta_s_82  \n    beta_s_83  \n    beta_s_84  \n    beta_s_85  \n    beta_s_86  \n    beta_s_87  \n    beta_s_88  \n    beta_s_89  \n    beta_s_90  \n    beta_s_91  \n    beta_s_92  \n    beta_s_93  \n    beta_s_94  \n    beta_s_95  \n    beta_s_96  \n    beta_s_97  \n    beta_s_98  \n    beta_s_99  \n   beta_s_100  \n   beta_s_101  \n   beta_s_102  \n   beta_s_103  \n   beta_s_104  \n   beta_s_105  \n   beta_s_106  \n   beta_s_107  \n   beta_s_108  \n   beta_s_109  \n   beta_s_110  \n   beta_s_111  \n   beta_s_112  \n   beta_s_113  \n   beta_s_114  \n   beta_s_115  \n   beta_s_116  \n   beta_s_117  \n   beta_s_118  \n   beta_s_119  \n   beta_s_120  \n   beta_s_121  \n   beta_s_122  \n   beta_s_123  \n   beta_s_124  \n   beta_s_125  \n   beta_s_126  \n   beta_s_127  \n   beta_s_128  \n   beta_s_129  \n   beta_s_130  \n   beta_s_131  \n   beta_s_132  \n   beta_s_133  \n   beta_s_134  \n   beta_s_135  \n   beta_s_136  \n   beta_s_137  \n   beta_s_138  \n   beta_s_139  \n   beta_s_140  \n   beta_s_141  \n   beta_s_142  \n   beta_s_143  \n   beta_s_144  \n   beta_s_145  \n   beta_s_146  \n   beta_s_147  \n   beta_s_148  \n   beta_s_149  \n   beta_s_150  \n   beta_s_151  \n   beta_s_152  \n   beta_s_153  \n   beta_s_154  \n   beta_s_155  \n   beta_s_156  \n   beta_s_157  \n   beta_s_158  \n   beta_s_159  \n   beta_s_160  \n   beta_s_161  \n   beta_s_162  \n   beta_s_163  \n   beta_s_164  \n   beta_s_165  \n   beta_s_166  \n   beta_s_167  \n   beta_s_168  \n   beta_s_169  \n   beta_s_170  \n   beta_s_171  \n   beta_s_172  \n   beta_s_173  \n   beta_s_174  \n   beta_s_175  \n   beta_s_176  \n   beta_s_177  \n   beta_s_178  \n   beta_s_179  \n   beta_s_180  \n   beta_s_181  \n   beta_s_182  \n   beta_s_183  \n   beta_s_184  \n   beta_s_185  \n   beta_s_186  \n   beta_s_187  \n   beta_s_188  \n   beta_s_189  \n   beta_s_190  \n   beta_s_191  \n   beta_s_192  \n   beta_s_193  \n   beta_s_194  \n   beta_s_195  \n   beta_s_196  \n   beta_s_197  \n   beta_s_198  \n   beta_s_199  \n   beta_s_200  \n   beta_s_201  \n   beta_s_202  \n   beta_s_203  \n   beta_s_204  \n   beta_s_205  \n   beta_s_206  \n   beta_s_207  \n   beta_s_208  \n   beta_s_209  \n   beta_s_210  \n   beta_s_211  \n   beta_s_212  \n   beta_s_213  \n   beta_s_214  \n   beta_s_215  \n   beta_s_216  \n   beta_s_217  \n   beta_s_218  \n   beta_s_219  \n   beta_s_220  \n   beta_s_221  \n   beta_s_222  \n   beta_s_223  \n   beta_s_224  \n   beta_s_225  \n   beta_s_226  \n   beta_s_227  \n   beta_s_228  \n   beta_s_229  \n   beta_s_230  \n   beta_s_231  \n   beta_s_232  \n   beta_s_233  \n   beta_s_234  \n   beta_s_235  \n   beta_s_236  \n   beta_s_237  \n   beta_s_238  \n   beta_s_239  \n   beta_s_240  \n   beta_s_241  \n   beta_s_242  \n   beta_s_243  \n   beta_s_244  \n   beta_s_245  \n   beta_s_246  \n   beta_s_247  \n   beta_s_248  \n   beta_s_249  \n   beta_s_250  \n   beta_s_251  \n   beta_s_252  \n   beta_s_253  \n   beta_s_254  \n   beta_s_255  \n   beta_s_256  \n   beta_s_257  \n   beta_s_258  \n   beta_s_259  \n   beta_s_260  \n   beta_s_261  \n   beta_s_262  \n   beta_s_263  \n   beta_s_264  \n   beta_s_265  \n   beta_s_266  \n   beta_s_267  \n   beta_s_268  \n   beta_s_269  \n   beta_s_270  \n   beta_s_271  \n   beta_s_272  \n   beta_s_273  \n   beta_s_274  \n   beta_s_275  \n   beta_s_276  \n   beta_s_277  \n   beta_s_278  \n   beta_s_279  \n   beta_s_280  \n   beta_s_281  \n   beta_s_282  \n   beta_s_283  \n   beta_s_284  \n   beta_s_285  \n   beta_s_286  \n   beta_s_287  \n   beta_s_288  \n   beta_s_289  \n   beta_s_290  \n   beta_s_291  \n   beta_s_292  \n   beta_s_293  \n   beta_s_294  \n   beta_s_295  \n   beta_s_296  \n   beta_s_297  \n   beta_s_298  \n   beta_s_299  \n   beta_s_300  \n   beta_s_301  \n   beta_s_302  \n   beta_s_303  \n   beta_s_304  \n   beta_s_305  \n   beta_s_306  \n   beta_s_307  \n   beta_s_308  \n   beta_s_309  \n   beta_s_310  \n   beta_s_311  \n   beta_s_312  \n   beta_s_313  \n   beta_s_314  \n   beta_s_315  \n   beta_s_316  \n   beta_s_317  \n   beta_s_318  \n   beta_s_319  \n   beta_s_320  \n   beta_s_321  \n   beta_s_322  \n   beta_s_323  \n   beta_s_324  \n   beta_s_325  \n   beta_s_326  \n   beta_s_327  \n   beta_s_328  \n   beta_s_329  \n   beta_s_330  \n   beta_s_331  \n   beta_s_332  \n   beta_s_333  \n   beta_s_334  \n   beta_s_335  \n   beta_s_336  \n   beta_s_337  \n   beta_s_338  \n   beta_s_339  \n   beta_s_340  \n   beta_s_341  \n   beta_s_342  \n   beta_s_343  \n   beta_s_344  \n   beta_s_345  \n   beta_s_346  \n   beta_s_347  \n   beta_s_348  \n   beta_s_349  \n   beta_s_350  \n   beta_s_351  \n   beta_s_352  \n   beta_s_353  \n   beta_s_354  \n   beta_s_355  \n   beta_s_356  \n   beta_s_357  \n   beta_s_358  \n   beta_s_359  \n   beta_s_360  \n   beta_s_361  \n   beta_s_362  \n   beta_s_363  \n   beta_s_364  \n   beta_s_365  \n   beta_s_366  \n   beta_s_367  \n   beta_s_368  \n   beta_s_369  \n   beta_s_370  \n   beta_s_371  \n   beta_s_372  \n   beta_s_373  \n   beta_s_374  \n   beta_s_375  \n   beta_s_376  \n   beta_s_377  \n   beta_s_378  \n   beta_s_379  \n   beta_s_380  \n   beta_s_381  \n   beta_s_382  \n   beta_s_383  \n   beta_s_384  \n   beta_s_385  \n   beta_s_386  \n   beta_s_387  \n   beta_s_388  \n   beta_s_389  \n   beta_s_390  \n   beta_s_391  \n   beta_s_392  \n   beta_s_393  \n   beta_s_394  \n   beta_s_395  \n   beta_s_396  \n   beta_s_397  \n   beta_s_398  \n   beta_s_399  \n   beta_s_400  \n   beta_s_401  \n   beta_s_402  \n   beta_s_403  \n   beta_s_404  \n   beta_s_405  \n   beta_s_406  \n   beta_s_407  \n   beta_s_408  \n   beta_s_409  \n   beta_s_410  \n   beta_s_411  \n   beta_s_412  \n   beta_s_413  \n   beta_s_414  \n   beta_s_415  \n   beta_s_416  \n   beta_s_417  \n   beta_s_418  \n   beta_s_419  \n   beta_s_420  \n   beta_s_421  \n   beta_s_422  \n   beta_s_423  \n   beta_s_424  \n   beta_s_425  \n   beta_s_426  \n   beta_s_427  \n   beta_s_428  \n   beta_s_429  \n   beta_s_430  \n   beta_s_431  \n   beta_s_432  \n   beta_s_433  \n   beta_s_434  \n   beta_s_435  \n   beta_s_436  \n   beta_s_437  \n   beta_s_438  \n   beta_s_439  \n   beta_s_440  \n   beta_s_441  \n   beta_s_442  \n   beta_s_443  \n   beta_s_444  \n   beta_s_445  \n   beta_s_446  \n   beta_s_447  \n   beta_s_448  \n   beta_s_449  \n   beta_s_450  \n   beta_s_451  \n   beta_s_452  \n   beta_s_453  \n   beta_s_454  \n   beta_s_455  \n   beta_s_456  \n   beta_s_457  \n   beta_s_458  \n   beta_s_459  \n   beta_s_460  \n   beta_s_461  \n   beta_s_462  \n   beta_s_463  \n   beta_s_464  \n   beta_s_465  \n   beta_s_466  \n   beta_s_467  \n   beta_s_468  \n   beta_s_469  \n   beta_s_470  \n   beta_s_471  \n   beta_s_472  \n   beta_s_473  \n   beta_s_474  \n   beta_s_475  \n   beta_s_476  \n   beta_s_477  \n   beta_s_478  \n   beta_s_479  \n   beta_s_480  \n   beta_s_481  \n   beta_s_482  \n   beta_s_483  \n   beta_s_484  \n   beta_s_485  \n   beta_s_486  \n   beta_s_487  \n   beta_s_488  \n   beta_s_489  \n   beta_s_490  \n   beta_s_491  \n   beta_s_492  \n   beta_s_493  \n   beta_s_494  \n   beta_s_495  \n   beta_s_496  \n   beta_s_497  \n   beta_s_498  \n   beta_s_499  \n   beta_s_500  \n   beta_s_501  \n   beta_s_502  \n   beta_s_503  \n   beta_s_504  \n   beta_s_505  \n   beta_s_506  \n   beta_s_507  \n   beta_s_508  \n   beta_s_509  \n   beta_s_510  \n   beta_s_511  \n   beta_s_512  \n   beta_s_513  \n   beta_s_514  \n   beta_s_515  \n   beta_s_516  \n   beta_s_517  \n   beta_s_518  \n   beta_s_519  \n   beta_s_520  \n   beta_s_521  \n   beta_s_522  \n   beta_s_523  \n   beta_s_524  \n   beta_s_525  \n   beta_s_526  \n   beta_s_527  \n   beta_s_528  \n   beta_s_529  \n   beta_s_530  \n   beta_s_531  \n   beta_s_532  \n   beta_s_533  \n   beta_s_534  \n   beta_s_535  \n   beta_s_536  \n   beta_s_537  \n   beta_s_538  \n   beta_s_539  \n   beta_s_540  \n   beta_s_541  \n   beta_s_542  \n   beta_s_543  \n   beta_s_544  \n   beta_s_545  \n   beta_s_546  \n   beta_s_547  \n   beta_s_548  \n   beta_s_549  \n   beta_s_550  \n   beta_s_551  \n   beta_s_552  \n   beta_s_553  \n   beta_s_554  \n   beta_s_555  \n   beta_s_556  \n   beta_s_557  \n   beta_s_558  \n   beta_s_559  \n   beta_s_560  \n   beta_s_561  \n   beta_s_562  \n   beta_s_563  \n   beta_s_564  \n   beta_s_565  \n   beta_s_566  \n   beta_s_567  \n   beta_s_568  \n   beta_s_569  \n   beta_s_570  \n   beta_s_571  \n   beta_s_572  \n   beta_s_573  \n   beta_s_574  \n   beta_s_575  \n   beta_s_576  \n   beta_s_577  \n   beta_s_578  \n   beta_s_579  \n   beta_s_580  \n   beta_s_581  \n   beta_s_582  \n   beta_s_583  \n   beta_s_584  \n   beta_s_585  \n   beta_s_586  \n   beta_s_587  \n   beta_s_588  \n   beta_s_589  \n   beta_s_590  \n   beta_s_591  \n   beta_s_592  \n   beta_s_593  \n   beta_s_594  \n   beta_s_595  \n   beta_s_596  \n   beta_s_597  \n   beta_s_598  \n   beta_s_599  \n   beta_s_600  \n   beta_s_601  \n   beta_s_602  \n   beta_s_603  \n   beta_s_604  \n   beta_s_605  \n   beta_s_606  \n   beta_s_607  \n   beta_s_608  \n   beta_s_609  \n   beta_s_610  \n   beta_s_611  \n   beta_s_612  \n   beta_s_613  \n   beta_s_614  \n   beta_s_615  \n   beta_s_616  \n   beta_s_617  \n   beta_s_618  \n   beta_s_619  \n   beta_s_620  \n   beta_s_621  \n   beta_s_622  \n   beta_s_623  \n   beta_s_624  \n   beta_s_625  \n   beta_s_626  \n   beta_s_627  \n   beta_s_628  \n   beta_s_629  \n   beta_s_630  \n   beta_s_631  \n   beta_s_632  \n   beta_s_633  \n   beta_s_634  \n   beta_s_635  \n     beta_m_0 2\nSample Sites:  \n     s_0 dist |\n        value |\n     s_1 dist |\n        value |\n     s_2 dist |\n        value |\n     s_3 dist |\n        value |\n     s_4 dist |\n        value |\n     s_5 dist |\n        value |\n     s_6 dist |\n        value |\n     s_7 dist |\n        value |\n     s_8 dist |\n        value |\n     s_9 dist |\n        value |\n    s_10 dist |\n        value |\n    s_11 dist |\n        value |\n    s_12 dist |\n        value |\n    s_13 dist |\n        value |\n    s_14 dist |\n        value |\n    s_15 dist |\n        value |\n    s_16 dist |\n        value |\n    s_17 dist |\n        value |\n    s_18 dist |\n        value |\n    s_19 dist |\n        value |\n    s_20 dist |\n        value |\n    s_21 dist |\n        value |\n    s_22 dist |\n        value |\n    s_23 dist |\n        value |\n    s_24 dist |\n        value |\n    s_25 dist |\n        value |\n    s_26 dist |\n        value |\n    s_27 dist |\n        value |\n    s_28 dist |\n        value |\n    s_29 dist |\n        value |\n    s_30 dist |\n        value |\n    s_31 dist |\n        value |\n    s_32 dist |\n        value |\n    s_33 dist |\n        value |\n    s_34 dist |\n        value |\n    s_35 dist |\n        value |\n    s_36 dist |\n        value |\n    s_37 dist |\n        value |\n    s_38 dist |\n        value |\n    s_39 dist |\n        value |\n    s_40 dist |\n        value |\n    s_41 dist |\n        value |\n    s_42 dist |\n        value |\n    s_43 dist |\n        value |\n    s_44 dist |\n        value |\n    s_45 dist |\n        value |\n    s_46 dist |\n        value |\n    s_47 dist |\n        value |\n    s_48 dist |\n        value |\n    s_49 dist |\n        value |\n    s_50 dist |\n        value |\n    s_51 dist |\n        value |\n    s_52 dist |\n        value |\n    s_53 dist |\n        value |\n    s_54 dist |\n        value |\n    s_55 dist |\n        value |\n    s_56 dist |\n        value |\n    s_57 dist |\n        value |\n    s_58 dist |\n        value |\n    s_59 dist |\n        value |\n    s_60 dist |\n        value |\n    s_61 dist |\n        value |\n    s_62 dist |\n        value |\n    s_63 dist |\n        value |\n    s_64 dist |\n        value |\n    s_65 dist |\n        value |\n    s_66 dist |\n        value |\n    s_67 dist |\n        value |\n    s_68 dist |\n        value |\n    s_69 dist |\n        value |\n    s_70 dist |\n        value |\n    s_71 dist |\n        value |\n    s_72 dist |\n        value |\n    s_73 dist |\n        value |\n    s_74 dist |\n        value |\n    s_75 dist |\n        value |\n    s_76 dist |\n        value |\n    s_77 dist |\n        value |\n    s_78 dist |\n        value |\n    s_79 dist |\n        value |\n    s_80 dist |\n        value |\n    s_81 dist |\n        value |\n    s_82 dist |\n        value |\n    s_83 dist |\n        value |\n    s_84 dist |\n        value |\n    s_85 dist |\n        value |\n    s_86 dist |\n        value |\n    s_87 dist |\n        value |\n    s_88 dist |\n        value |\n    s_89 dist |\n        value |\n    s_90 dist |\n        value |\n    s_91 dist |\n        value |\n    s_92 dist |\n        value |\n    s_93 dist |\n        value |\n    s_94 dist |\n        value |\n    s_95 dist |\n        value |\n    s_96 dist |\n        value |\n    s_97 dist |\n        value |\n    s_98 dist |\n        value |\n    s_99 dist |\n        value |\n   s_100 dist |\n        value |\n   s_101 dist |\n        value |\n   s_102 dist |\n        value |\n   s_103 dist |\n        value |\n   s_104 dist |\n        value |\n   s_105 dist |\n        value |\n   s_106 dist |\n        value |\n   s_107 dist |\n        value |\n   s_108 dist |\n        value |\n   s_109 dist |\n        value |\n   s_110 dist |\n        value |\n   s_111 dist |\n        value |\n   s_112 dist |\n        value |\n   s_113 dist |\n        value |\n   s_114 dist |\n        value |\n   s_115 dist |\n        value |\n   s_116 dist |\n        value |\n   s_117 dist |\n        value |\n   s_118 dist |\n        value |\n   s_119 dist |\n        value |\n   s_120 dist |\n        value |\n   s_121 dist |\n        value |\n   s_122 dist |\n        value |\n   s_123 dist |\n        value |\n   s_124 dist |\n        value |\n   s_125 dist |\n        value |\n   s_126 dist |\n        value |\n   s_127 dist |\n        value |\n   s_128 dist |\n        value |\n   s_129 dist |\n        value |\n   s_130 dist |\n        value |\n   s_131 dist |\n        value |\n   s_132 dist |\n        value |\n   s_133 dist |\n        value |\n   s_134 dist |\n        value |\n   s_135 dist |\n        value |\n   s_136 dist |\n        value |\n   s_137 dist |\n        value |\n   s_138 dist |\n        value |\n   s_139 dist |\n        value |\n   s_140 dist |\n        value |\n   s_141 dist |\n        value |\n   s_142 dist |\n        value |\n   s_143 dist |\n        value |\n   s_144 dist |\n        value |\n   s_145 dist |\n        value |\n   s_146 dist |\n        value |\n   s_147 dist |\n        value |\n   s_148 dist |\n        value |\n   s_149 dist |\n        value |\n   s_150 dist |\n        value |\n   s_151 dist |\n        value |\n   s_152 dist |\n        value |\n   s_153 dist |\n        value |\n   s_154 dist |\n        value |\n   s_155 dist |\n        value |\n   s_156 dist |\n        value |\n   s_157 dist |\n        value |\n   s_158 dist |\n        value |\n   s_159 dist |\n        value |\n   s_160 dist |\n        value |\n   s_161 dist |\n        value |\n   s_162 dist |\n        value |\n   s_163 dist |\n        value |\n   s_164 dist |\n        value |\n   s_165 dist |\n        value |\n   s_166 dist |\n        value |\n   s_167 dist |\n        value |\n   s_168 dist |\n        value |\n   s_169 dist |\n        value |\n   s_170 dist |\n        value |\n   s_171 dist |\n        value |\n   s_172 dist |\n        value |\n   s_173 dist |\n        value |\n   s_174 dist |\n        value |\n   s_175 dist |\n        value |\n   s_176 dist |\n        value |\n   s_177 dist |\n        value |\n   s_178 dist |\n        value |\n   s_179 dist |\n        value |\n   s_180 dist |\n        value |\n   s_181 dist |\n        value |\n   s_182 dist |\n        value |\n   s_183 dist |\n        value |\n   s_184 dist |\n        value |\n   s_185 dist |\n        value |\n   s_186 dist |\n        value |\n   s_187 dist |\n        value |\n   s_188 dist |\n        value |\n   s_189 dist |\n        value |\n   s_190 dist |\n        value |\n   s_191 dist |\n        value |\n   s_192 dist |\n        value |\n   s_193 dist |\n        value |\n   s_194 dist |\n        value |\n   s_195 dist |\n        value |\n   s_196 dist |\n        value |\n   s_197 dist |\n        value |\n   s_198 dist |\n        value |\n   s_199 dist |\n        value |\n   s_200 dist |\n        value |\n   s_201 dist |\n        value |\n   s_202 dist |\n        value |\n   s_203 dist |\n        value |\n   s_204 dist |\n        value |\n   s_205 dist |\n        value |\n   s_206 dist |\n        value |\n   s_207 dist |\n        value |\n   s_208 dist |\n        value |\n   s_209 dist |\n        value |\n   s_210 dist |\n        value |\n   s_211 dist |\n        value |\n   s_212 dist |\n        value |\n   s_213 dist |\n        value |\n   s_214 dist |\n        value |\n   s_215 dist |\n        value |\n   s_216 dist |\n        value |\n   s_217 dist |\n        value |\n   s_218 dist |\n        value |\n   s_219 dist |\n        value |\n   s_220 dist |\n        value |\n   s_221 dist |\n        value |\n   s_222 dist |\n        value |\n   s_223 dist |\n        value |\n   s_224 dist |\n        value |\n   s_225 dist |\n        value |\n   s_226 dist |\n        value |\n   s_227 dist |\n        value |\n   s_228 dist |\n        value |\n   s_229 dist |\n        value |\n   s_230 dist |\n        value |\n   s_231 dist |\n        value |\n   s_232 dist |\n        value |\n   s_233 dist |\n        value |\n   s_234 dist |\n        value |\n   s_235 dist |\n        value |\n   s_236 dist |\n        value |\n   s_237 dist |\n        value |\n   s_238 dist |\n        value |\n   s_239 dist |\n        value |\n   s_240 dist |\n        value |\n   s_241 dist |\n        value |\n   s_242 dist |\n        value |\n   s_243 dist |\n        value |\n   s_244 dist |\n        value |\n   s_245 dist |\n        value |\n   s_246 dist |\n        value |\n   s_247 dist |\n        value |\n   s_248 dist |\n        value |\n   s_249 dist |\n        value |\n   s_250 dist |\n        value |\n   s_251 dist |\n        value |\n   s_252 dist |\n        value |\n   s_253 dist |\n        value |\n   s_254 dist |\n        value |\n   s_255 dist |\n        value |\n   s_256 dist |\n        value |\n   s_257 dist |\n        value |\n   s_258 dist |\n        value |\n   s_259 dist |\n        value |\n   s_260 dist |\n        value |\n   s_261 dist |\n        value |\n   s_262 dist |\n        value |\n   s_263 dist |\n        value |\n   s_264 dist |\n        value |\n   s_265 dist |\n        value |\n   s_266 dist |\n        value |\n   s_267 dist |\n        value |\n   s_268 dist |\n        value |\n   s_269 dist |\n        value |\n   s_270 dist |\n        value |\n   s_271 dist |\n        value |\n   s_272 dist |\n        value |\n   s_273 dist |\n        value |\n   s_274 dist |\n        value |\n   s_275 dist |\n        value |\n   s_276 dist |\n        value |\n   s_277 dist |\n        value |\n   s_278 dist |\n        value |\n   s_279 dist |\n        value |\n   s_280 dist |\n        value |\n   s_281 dist |\n        value |\n   s_282 dist |\n        value |\n   s_283 dist |\n        value |\n   s_284 dist |\n        value |\n   s_285 dist |\n        value |\n   s_286 dist |\n        value |\n   s_287 dist |\n        value |\n   s_288 dist |\n        value |\n   s_289 dist |\n        value |\n   s_290 dist |\n        value |\n   s_291 dist |\n        value |\n   s_292 dist |\n        value |\n   s_293 dist |\n        value |\n   s_294 dist |\n        value |\n   s_295 dist |\n        value |\n   s_296 dist |\n        value |\n   s_297 dist |\n        value |\n   s_298 dist |\n        value |\n   s_299 dist |\n        value |\n   s_300 dist |\n        value |\n   s_301 dist |\n        value |\n   s_302 dist |\n        value |\n   s_303 dist |\n        value |\n   s_304 dist |\n        value |\n   s_305 dist |\n        value |\n   s_306 dist |\n        value |\n   s_307 dist |\n        value |\n   s_308 dist |\n        value |\n   s_309 dist |\n        value |\n   s_310 dist |\n        value |\n   s_311 dist |\n        value |\n   s_312 dist |\n        value |\n   s_313 dist |\n        value |\n   s_314 dist |\n        value |\n   s_315 dist |\n        value |\n   s_316 dist |\n        value |\n   s_317 dist |\n        value |\n   s_318 dist |\n        value |\n   s_319 dist |\n        value |\n   s_320 dist |\n        value |\n   s_321 dist |\n        value |\n   s_322 dist |\n        value |\n   s_323 dist |\n        value |\n   s_324 dist |\n        value |\n   s_325 dist |\n        value |\n   s_326 dist |\n        value |\n   s_327 dist |\n        value |\n   s_328 dist |\n        value |\n   s_329 dist |\n        value |\n   s_330 dist |\n        value |\n   s_331 dist |\n        value |\n   s_332 dist |\n        value |\n   s_333 dist |\n        value |\n   s_334 dist |\n        value |\n   s_335 dist |\n        value |\n   s_336 dist |\n        value |\n   s_337 dist |\n        value |\n   s_338 dist |\n        value |\n   s_339 dist |\n        value |\n   s_340 dist |\n        value |\n   s_341 dist |\n        value |\n   s_342 dist |\n        value |\n   s_343 dist |\n        value |\n   s_344 dist |\n        value |\n   s_345 dist |\n        value |\n   s_346 dist |\n        value |\n   s_347 dist |\n        value |\n   s_348 dist |\n        value |\n   s_349 dist |\n        value |\n   s_350 dist |\n        value |\n   s_351 dist |\n        value |\n   s_352 dist |\n        value |\n   s_353 dist |\n        value |\n   s_354 dist |\n        value |\n   s_355 dist |\n        value |\n   s_356 dist |\n        value |\n   s_357 dist |\n        value |\n   s_358 dist |\n        value |\n   s_359 dist |\n        value |\n   s_360 dist |\n        value |\n   s_361 dist |\n        value |\n   s_362 dist |\n        value |\n   s_363 dist |\n        value |\n   s_364 dist |\n        value |\n   s_365 dist |\n        value |\n   s_366 dist |\n        value |\n   s_367 dist |\n        value |\n   s_368 dist |\n        value |\n   s_369 dist |\n        value |\n   s_370 dist |\n        value |\n   s_371 dist |\n        value |\n   s_372 dist |\n        value |\n   s_373 dist |\n        value |\n   s_374 dist |\n        value |\n   s_375 dist |\n        value |\n   s_376 dist |\n        value |\n   s_377 dist |\n        value |\n   s_378 dist |\n        value |\n   s_379 dist |\n        value |\n   s_380 dist |\n        value |\n   s_381 dist |\n        value |\n   s_382 dist |\n        value |\n   s_383 dist |\n        value |\n   s_384 dist |\n        value |\n   s_385 dist |\n        value |\n   s_386 dist |\n        value |\n   s_387 dist |\n        value |\n   s_388 dist |\n        value |\n   s_389 dist |\n        value |\n   s_390 dist |\n        value |\n   s_391 dist |\n        value |\n   s_392 dist |\n        value |\n   s_393 dist |\n        value |\n   s_394 dist |\n        value |\n   s_395 dist |\n        value |\n   s_396 dist |\n        value |\n   s_397 dist |\n        value |\n   s_398 dist |\n        value |\n   s_399 dist |\n        value |\n   s_400 dist |\n        value |\n   s_401 dist |\n        value |\n   s_402 dist |\n        value |\n   s_403 dist |\n        value |\n   s_404 dist |\n        value |\n   s_405 dist |\n        value |\n   s_406 dist |\n        value |\n   s_407 dist |\n        value |\n   s_408 dist |\n        value |\n   s_409 dist |\n        value |\n   s_410 dist |\n        value |\n   s_411 dist |\n        value |\n   s_412 dist |\n        value |\n   s_413 dist |\n        value |\n   s_414 dist |\n        value |\n   s_415 dist |\n        value |\n   s_416 dist |\n        value |\n   s_417 dist |\n        value |\n   s_418 dist |\n        value |\n   s_419 dist |\n        value |\n   s_420 dist |\n        value |\n   s_421 dist |\n        value |\n   s_422 dist |\n        value |\n   s_423 dist |\n        value |\n   s_424 dist |\n        value |\n   s_425 dist |\n        value |\n   s_426 dist |\n        value |\n   s_427 dist |\n        value |\n   s_428 dist |\n        value |\n   s_429 dist |\n        value |\n   s_430 dist |\n        value |\n   s_431 dist |\n        value |\n   s_432 dist |\n        value |\n   s_433 dist |\n        value |\n   s_434 dist |\n        value |\n   s_435 dist |\n        value |\n   s_436 dist |\n        value |\n   s_437 dist |\n        value |\n   s_438 dist |\n        value |\n   s_439 dist |\n        value |\n   s_440 dist |\n        value |\n   s_441 dist |\n        value |\n   s_442 dist |\n        value |\n   s_443 dist |\n        value |\n   s_444 dist |\n        value |\n   s_445 dist |\n        value |\n   s_446 dist |\n        value |\n   s_447 dist |\n        value |\n   s_448 dist |\n        value |\n   s_449 dist |\n        value |\n   s_450 dist |\n        value |\n   s_451 dist |\n        value |\n   s_452 dist |\n        value |\n   s_453 dist |\n        value |\n   s_454 dist |\n        value |\n   s_455 dist |\n        value |\n   s_456 dist |\n        value |\n   s_457 dist |\n        value |\n   s_458 dist |\n        value |\n   s_459 dist |\n        value |\n   s_460 dist |\n        value |\n   s_461 dist |\n        value |\n   s_462 dist |\n        value |\n   s_463 dist |\n        value |\n   s_464 dist |\n        value |\n   s_465 dist |\n        value |\n   s_466 dist |\n        value |\n   s_467 dist |\n        value |\n   s_468 dist |\n        value |\n   s_469 dist |\n        value |\n   s_470 dist |\n        value |\n   s_471 dist |\n        value |\n   s_472 dist |\n        value |\n   s_473 dist |\n        value |\n   s_474 dist |\n        value |\n   s_475 dist |\n        value |\n   s_476 dist |\n        value |\n   s_477 dist |\n        value |\n   s_478 dist |\n        value |\n   s_479 dist |\n        value |\n   s_480 dist |\n        value |\n   s_481 dist |\n        value |\n   s_482 dist |\n        value |\n   s_483 dist |\n        value |\n   s_484 dist |\n        value |\n   s_485 dist |\n        value |\n   s_486 dist |\n        value |\n   s_487 dist |\n        value |\n   s_488 dist |\n        value |\n   s_489 dist |\n        value |\n   s_490 dist |\n        value |\n   s_491 dist |\n        value |\n   s_492 dist |\n        value |\n   s_493 dist |\n        value |\n   s_494 dist |\n        value |\n   s_495 dist |\n        value |\n   s_496 dist |\n        value |\n   s_497 dist |\n        value |\n   s_498 dist |\n        value |\n   s_499 dist |\n        value |\n   s_500 dist |\n        value |\n   s_501 dist |\n        value |\n   s_502 dist |\n        value |\n   s_503 dist |\n        value |\n   s_504 dist |\n        value |\n   s_505 dist |\n        value |\n   s_506 dist |\n        value |\n   s_507 dist |\n        value |\n   s_508 dist |\n        value |\n   s_509 dist |\n        value |\n   s_510 dist |\n        value |\n   s_511 dist |\n        value |\n   s_512 dist |\n        value |\n   s_513 dist |\n        value |\n   s_514 dist |\n        value |\n   s_515 dist |\n        value |\n   s_516 dist |\n        value |\n   s_517 dist |\n        value |\n   s_518 dist |\n        value |\n   s_519 dist |\n        value |\n   s_520 dist |\n        value |\n   s_521 dist |\n        value |\n   s_522 dist |\n        value |\n   s_523 dist |\n        value |\n   s_524 dist |\n        value |\n   s_525 dist |\n        value |\n   s_526 dist |\n        value |\n   s_527 dist |\n        value |\n   s_528 dist |\n        value |\n   s_529 dist |\n        value |\n   s_530 dist |\n        value |\n   s_531 dist |\n        value |\n   s_532 dist |\n        value |\n   s_533 dist |\n        value |\n   s_534 dist |\n        value |\n   s_535 dist |\n        value |\n   s_536 dist |\n        value |\n   s_537 dist |\n        value |\n   s_538 dist |\n        value |\n   s_539 dist |\n        value |\n   s_540 dist |\n        value |\n   s_541 dist |\n        value |\n   s_542 dist |\n        value |\n   s_543 dist |\n        value |\n   s_544 dist |\n        value |\n   s_545 dist |\n        value |\n   s_546 dist |\n        value |\n   s_547 dist |\n        value |\n   s_548 dist |\n        value |\n   s_549 dist |\n        value |\n   s_550 dist |\n        value |\n   s_551 dist |\n        value |\n   s_552 dist |\n        value |\n   s_553 dist |\n        value |\n   s_554 dist |\n        value |\n   s_555 dist |\n        value |\n   s_556 dist |\n        value |\n   s_557 dist |\n        value |\n   s_558 dist |\n        value |\n   s_559 dist |\n        value |\n   s_560 dist |\n        value |\n   s_561 dist |\n        value |\n   s_562 dist |\n        value |\n   s_563 dist |\n        value |\n   s_564 dist |\n        value |\n   s_565 dist |\n        value |\n   s_566 dist |\n        value |\n   s_567 dist |\n        value |\n   s_568 dist |\n        value |\n   s_569 dist |\n        value |\n   s_570 dist |\n        value |\n   s_571 dist |\n        value |\n   s_572 dist |\n        value |\n   s_573 dist |\n        value |\n   s_574 dist |\n        value |\n   s_575 dist |\n        value |\n   s_576 dist |\n        value |\n   s_577 dist |\n        value |\n   s_578 dist |\n        value |\n   s_579 dist |\n        value |\n   s_580 dist |\n        value |\n   s_581 dist |\n        value |\n   s_582 dist |\n        value |\n   s_583 dist |\n        value |\n   s_584 dist |\n        value |\n   s_585 dist |\n        value |\n   s_586 dist |\n        value |\n   s_587 dist |\n        value |\n   s_588 dist |\n        value |\n   s_589 dist |\n        value |\n   s_590 dist |\n        value |\n   s_591 dist |\n        value |\n   s_592 dist |\n        value |\n   s_593 dist |\n        value |\n   s_594 dist |\n        value |\n   s_595 dist |\n        value |\n   s_596 dist |\n        value |\n   s_597 dist |\n        value |\n   s_598 dist |\n        value |\n   s_599 dist |\n        value |\n   s_600 dist |\n        value |\n   s_601 dist |\n        value |\n   s_602 dist |\n        value |\n   s_603 dist |\n        value |\n   s_604 dist |\n        value |\n   s_605 dist |\n        value |\n   s_606 dist |\n        value |\n   s_607 dist |\n        value |\n   s_608 dist |\n        value |\n   s_609 dist |\n        value |\n   s_610 dist |\n        value |\n   s_611 dist |\n        value |\n   s_612 dist |\n        value |\n   s_613 dist |\n        value |\n   s_614 dist |\n        value |\n   s_615 dist |\n        value |\n   s_616 dist |\n        value |\n   s_617 dist |\n        value |\n   s_618 dist |\n        value |\n   s_619 dist |\n        value |\n   s_620 dist |\n        value |\n   s_621 dist |\n        value |\n   s_622 dist |\n        value |\n   s_623 dist |\n        value |\n   s_624 dist |\n        value |\n   s_625 dist |\n        value |\n   s_626 dist |\n        value |\n   s_627 dist |\n        value |\n   s_628 dist |\n        value |\n   s_629 dist |\n        value |\n   s_630 dist |\n        value |\n   s_631 dist |\n        value |\n   s_632 dist |\n        value |\n   s_633 dist |\n        value |\n   s_634 dist |\n        value |\n   s_635 dist |\n        value |"
     ]
    }
   ],
   "source": [
    "svi.step(observation,mask)"
   ]
  },
  {
   "cell_type": "code",
   "execution_count": 18,
   "metadata": {},
   "outputs": [
    {
     "ename": "RuntimeError",
     "evalue": "Expected p_in >= 0 && p_in <= 1 to be true, but got false.  (Could this error message be improved?  If so, please report an enhancement request to PyTorch.)\nTrace Shapes:\n Param Sites:\n     beta_s_0\nSample Sites:",
     "output_type": "error",
     "traceback": [
      "\u001b[0;31m---------------------------------------------\u001b[0m",
      "\u001b[0;31mRuntimeError\u001b[0mTraceback (most recent call last)",
      "\u001b[0;32m~/miniconda3/envs/spectrum/lib/python3.6/site-packages/pyro/poutine/trace_messenger.py\u001b[0m in \u001b[0;36m__call__\u001b[0;34m(self, *args, **kwargs)\u001b[0m\n\u001b[1;32m    142\u001b[0m             \u001b[0;32mtry\u001b[0m\u001b[0;34m:\u001b[0m\u001b[0;34m\u001b[0m\u001b[0m\n\u001b[0;32m--> 143\u001b[0;31m                 \u001b[0mret\u001b[0m \u001b[0;34m=\u001b[0m \u001b[0mself\u001b[0m\u001b[0;34m.\u001b[0m\u001b[0mfn\u001b[0m\u001b[0;34m(\u001b[0m\u001b[0;34m*\u001b[0m\u001b[0margs\u001b[0m\u001b[0;34m,\u001b[0m \u001b[0;34m**\u001b[0m\u001b[0mkwargs\u001b[0m\u001b[0;34m)\u001b[0m\u001b[0;34m\u001b[0m\u001b[0m\n\u001b[0m\u001b[1;32m    144\u001b[0m             \u001b[0;32mexcept\u001b[0m \u001b[0;34m(\u001b[0m\u001b[0mValueError\u001b[0m\u001b[0;34m,\u001b[0m \u001b[0mRuntimeError\u001b[0m\u001b[0;34m)\u001b[0m\u001b[0;34m:\u001b[0m\u001b[0;34m\u001b[0m\u001b[0m\n",
      "\u001b[0;32m~/projects/spectrum/spectrum/judge/lca.py\u001b[0m in \u001b[0;36mlca_guide\u001b[0;34m(observation, mask)\u001b[0m\n\u001b[1;32m    179\u001b[0m                 \u001b[0;34mf's_{s}'\u001b[0m\u001b[0;34m,\u001b[0m\u001b[0;34m\u001b[0m\u001b[0m\n\u001b[0;32m--> 180\u001b[0;31m                 dist.Bernoulli(probs=pyro.param(f'beta_s_{s}', init_tensor=torch.tensor(0.5)))))\n\u001b[0m\u001b[1;32m    181\u001b[0m     \u001b[0;31m# creat hidden truth rv for each object m\u001b[0m\u001b[0;34m\u001b[0m\u001b[0;34m\u001b[0m\u001b[0m\n",
      "\u001b[0;32m~/miniconda3/envs/spectrum/lib/python3.6/site-packages/pyro/primitives.py\u001b[0m in \u001b[0;36msample\u001b[0;34m(name, fn, *args, **kwargs)\u001b[0m\n\u001b[1;32m    109\u001b[0m         \u001b[0;31m# apply the stack and return its return value\u001b[0m\u001b[0;34m\u001b[0m\u001b[0;34m\u001b[0m\u001b[0m\n\u001b[0;32m--> 110\u001b[0;31m         \u001b[0mapply_stack\u001b[0m\u001b[0;34m(\u001b[0m\u001b[0mmsg\u001b[0m\u001b[0;34m)\u001b[0m\u001b[0;34m\u001b[0m\u001b[0m\n\u001b[0m\u001b[1;32m    111\u001b[0m         \u001b[0;32mreturn\u001b[0m \u001b[0mmsg\u001b[0m\u001b[0;34m[\u001b[0m\u001b[0;34m\"value\"\u001b[0m\u001b[0;34m]\u001b[0m\u001b[0;34m\u001b[0m\u001b[0m\n",
      "\u001b[0;32m~/miniconda3/envs/spectrum/lib/python3.6/site-packages/pyro/poutine/runtime.py\u001b[0m in \u001b[0;36mapply_stack\u001b[0;34m(initial_msg)\u001b[0m\n\u001b[1;32m    194\u001b[0m \u001b[0;34m\u001b[0m\u001b[0m\n\u001b[0;32m--> 195\u001b[0;31m     \u001b[0mdefault_process_message\u001b[0m\u001b[0;34m(\u001b[0m\u001b[0mmsg\u001b[0m\u001b[0;34m)\u001b[0m\u001b[0;34m\u001b[0m\u001b[0m\n\u001b[0m\u001b[1;32m    196\u001b[0m \u001b[0;34m\u001b[0m\u001b[0m\n",
      "\u001b[0;32m~/miniconda3/envs/spectrum/lib/python3.6/site-packages/pyro/poutine/runtime.py\u001b[0m in \u001b[0;36mdefault_process_message\u001b[0;34m(msg)\u001b[0m\n\u001b[1;32m    155\u001b[0m \u001b[0;34m\u001b[0m\u001b[0m\n\u001b[0;32m--> 156\u001b[0;31m     \u001b[0mmsg\u001b[0m\u001b[0;34m[\u001b[0m\u001b[0;34m\"value\"\u001b[0m\u001b[0;34m]\u001b[0m \u001b[0;34m=\u001b[0m \u001b[0mmsg\u001b[0m\u001b[0;34m[\u001b[0m\u001b[0;34m\"fn\"\u001b[0m\u001b[0;34m]\u001b[0m\u001b[0;34m(\u001b[0m\u001b[0;34m*\u001b[0m\u001b[0mmsg\u001b[0m\u001b[0;34m[\u001b[0m\u001b[0;34m\"args\"\u001b[0m\u001b[0;34m]\u001b[0m\u001b[0;34m,\u001b[0m \u001b[0;34m**\u001b[0m\u001b[0mmsg\u001b[0m\u001b[0;34m[\u001b[0m\u001b[0;34m\"kwargs\"\u001b[0m\u001b[0;34m]\u001b[0m\u001b[0;34m)\u001b[0m\u001b[0;34m\u001b[0m\u001b[0m\n\u001b[0m\u001b[1;32m    157\u001b[0m \u001b[0;34m\u001b[0m\u001b[0m\n",
      "\u001b[0;32m~/miniconda3/envs/spectrum/lib/python3.6/site-packages/pyro/distributions/torch_distribution.py\u001b[0m in \u001b[0;36m__call__\u001b[0;34m(self, sample_shape)\u001b[0m\n\u001b[1;32m     39\u001b[0m         \"\"\"\n\u001b[0;32m---> 40\u001b[0;31m         \u001b[0;32mreturn\u001b[0m \u001b[0mself\u001b[0m\u001b[0;34m.\u001b[0m\u001b[0mrsample\u001b[0m\u001b[0;34m(\u001b[0m\u001b[0msample_shape\u001b[0m\u001b[0;34m)\u001b[0m \u001b[0;32mif\u001b[0m \u001b[0mself\u001b[0m\u001b[0;34m.\u001b[0m\u001b[0mhas_rsample\u001b[0m \u001b[0;32melse\u001b[0m \u001b[0mself\u001b[0m\u001b[0;34m.\u001b[0m\u001b[0msample\u001b[0m\u001b[0;34m(\u001b[0m\u001b[0msample_shape\u001b[0m\u001b[0;34m)\u001b[0m\u001b[0;34m\u001b[0m\u001b[0m\n\u001b[0m\u001b[1;32m     41\u001b[0m \u001b[0;34m\u001b[0m\u001b[0m\n",
      "\u001b[0;32m~/miniconda3/envs/spectrum/lib/python3.6/site-packages/torch/distributions/bernoulli.py\u001b[0m in \u001b[0;36msample\u001b[0;34m(self, sample_shape)\u001b[0m\n\u001b[1;32m     88\u001b[0m         \u001b[0;32mwith\u001b[0m \u001b[0mtorch\u001b[0m\u001b[0;34m.\u001b[0m\u001b[0mno_grad\u001b[0m\u001b[0;34m(\u001b[0m\u001b[0;34m)\u001b[0m\u001b[0;34m:\u001b[0m\u001b[0;34m\u001b[0m\u001b[0m\n\u001b[0;32m---> 89\u001b[0;31m             \u001b[0;32mreturn\u001b[0m \u001b[0mtorch\u001b[0m\u001b[0;34m.\u001b[0m\u001b[0mbernoulli\u001b[0m\u001b[0;34m(\u001b[0m\u001b[0mself\u001b[0m\u001b[0;34m.\u001b[0m\u001b[0mprobs\u001b[0m\u001b[0;34m.\u001b[0m\u001b[0mexpand\u001b[0m\u001b[0;34m(\u001b[0m\u001b[0mshape\u001b[0m\u001b[0;34m)\u001b[0m\u001b[0;34m)\u001b[0m\u001b[0;34m\u001b[0m\u001b[0m\n\u001b[0m\u001b[1;32m     90\u001b[0m \u001b[0;34m\u001b[0m\u001b[0m\n",
      "\u001b[0;31mRuntimeError\u001b[0m: Expected p_in >= 0 && p_in <= 1 to be true, but got false.  (Could this error message be improved?  If so, please report an enhancement request to PyTorch.)",
      "\nDuring handling of the above exception, another exception occurred:\n",
      "\u001b[0;31mRuntimeError\u001b[0mTraceback (most recent call last)",
      "\u001b[0;32m<ipython-input-18-c983d695d327>\u001b[0m in \u001b[0;36m<module>\u001b[0;34m\u001b[0m\n\u001b[1;32m      2\u001b[0m \u001b[0mnum_steps\u001b[0m \u001b[0;34m=\u001b[0m \u001b[0;36m100\u001b[0m\u001b[0;34m\u001b[0m\u001b[0m\n\u001b[1;32m      3\u001b[0m \u001b[0;32mfor\u001b[0m \u001b[0mt\u001b[0m \u001b[0;32min\u001b[0m \u001b[0mrange\u001b[0m\u001b[0;34m(\u001b[0m\u001b[0mnum_steps\u001b[0m\u001b[0;34m)\u001b[0m\u001b[0;34m:\u001b[0m\u001b[0;34m\u001b[0m\u001b[0m\n\u001b[0;32m----> 4\u001b[0;31m     \u001b[0mlosses\u001b[0m\u001b[0;34m.\u001b[0m\u001b[0mappend\u001b[0m\u001b[0;34m(\u001b[0m\u001b[0msvi\u001b[0m\u001b[0;34m.\u001b[0m\u001b[0mstep\u001b[0m\u001b[0;34m(\u001b[0m\u001b[0mobservation\u001b[0m\u001b[0;34m,\u001b[0m \u001b[0mmask\u001b[0m\u001b[0;34m)\u001b[0m\u001b[0;34m)\u001b[0m\u001b[0;34m\u001b[0m\u001b[0m\n\u001b[0m",
      "\u001b[0;32m~/miniconda3/envs/spectrum/lib/python3.6/site-packages/pyro/infer/svi.py\u001b[0m in \u001b[0;36mstep\u001b[0;34m(self, *args, **kwargs)\u001b[0m\n\u001b[1;32m     96\u001b[0m         \u001b[0;31m# get loss and compute gradients\u001b[0m\u001b[0;34m\u001b[0m\u001b[0;34m\u001b[0m\u001b[0m\n\u001b[1;32m     97\u001b[0m         \u001b[0;32mwith\u001b[0m \u001b[0mpoutine\u001b[0m\u001b[0;34m.\u001b[0m\u001b[0mtrace\u001b[0m\u001b[0;34m(\u001b[0m\u001b[0mparam_only\u001b[0m\u001b[0;34m=\u001b[0m\u001b[0;32mTrue\u001b[0m\u001b[0;34m)\u001b[0m \u001b[0;32mas\u001b[0m \u001b[0mparam_capture\u001b[0m\u001b[0;34m:\u001b[0m\u001b[0;34m\u001b[0m\u001b[0m\n\u001b[0;32m---> 98\u001b[0;31m             \u001b[0mloss\u001b[0m \u001b[0;34m=\u001b[0m \u001b[0mself\u001b[0m\u001b[0;34m.\u001b[0m\u001b[0mloss_and_grads\u001b[0m\u001b[0;34m(\u001b[0m\u001b[0mself\u001b[0m\u001b[0;34m.\u001b[0m\u001b[0mmodel\u001b[0m\u001b[0;34m,\u001b[0m \u001b[0mself\u001b[0m\u001b[0;34m.\u001b[0m\u001b[0mguide\u001b[0m\u001b[0;34m,\u001b[0m \u001b[0;34m*\u001b[0m\u001b[0margs\u001b[0m\u001b[0;34m,\u001b[0m \u001b[0;34m**\u001b[0m\u001b[0mkwargs\u001b[0m\u001b[0;34m)\u001b[0m\u001b[0;34m\u001b[0m\u001b[0m\n\u001b[0m\u001b[1;32m     99\u001b[0m \u001b[0;34m\u001b[0m\u001b[0m\n\u001b[1;32m    100\u001b[0m         params = set(site[\"value\"].unconstrained()\n",
      "\u001b[0;32m~/miniconda3/envs/spectrum/lib/python3.6/site-packages/pyro/infer/trace_elbo.py\u001b[0m in \u001b[0;36mloss_and_grads\u001b[0;34m(self, model, guide, *args, **kwargs)\u001b[0m\n\u001b[1;32m    121\u001b[0m         \u001b[0mloss\u001b[0m \u001b[0;34m=\u001b[0m \u001b[0;36m0.0\u001b[0m\u001b[0;34m\u001b[0m\u001b[0m\n\u001b[1;32m    122\u001b[0m         \u001b[0;31m# grab a trace from the generator\u001b[0m\u001b[0;34m\u001b[0m\u001b[0;34m\u001b[0m\u001b[0m\n\u001b[0;32m--> 123\u001b[0;31m         \u001b[0;32mfor\u001b[0m \u001b[0mmodel_trace\u001b[0m\u001b[0;34m,\u001b[0m \u001b[0mguide_trace\u001b[0m \u001b[0;32min\u001b[0m \u001b[0mself\u001b[0m\u001b[0;34m.\u001b[0m\u001b[0m_get_traces\u001b[0m\u001b[0;34m(\u001b[0m\u001b[0mmodel\u001b[0m\u001b[0;34m,\u001b[0m \u001b[0mguide\u001b[0m\u001b[0;34m,\u001b[0m \u001b[0;34m*\u001b[0m\u001b[0margs\u001b[0m\u001b[0;34m,\u001b[0m \u001b[0;34m**\u001b[0m\u001b[0mkwargs\u001b[0m\u001b[0;34m)\u001b[0m\u001b[0;34m:\u001b[0m\u001b[0;34m\u001b[0m\u001b[0m\n\u001b[0m\u001b[1;32m    124\u001b[0m             \u001b[0mloss_particle\u001b[0m\u001b[0;34m,\u001b[0m \u001b[0msurrogate_loss_particle\u001b[0m \u001b[0;34m=\u001b[0m \u001b[0mself\u001b[0m\u001b[0;34m.\u001b[0m\u001b[0m_differentiable_loss_particle\u001b[0m\u001b[0;34m(\u001b[0m\u001b[0mmodel_trace\u001b[0m\u001b[0;34m,\u001b[0m \u001b[0mguide_trace\u001b[0m\u001b[0;34m)\u001b[0m\u001b[0;34m\u001b[0m\u001b[0m\n\u001b[1;32m    125\u001b[0m             \u001b[0mloss\u001b[0m \u001b[0;34m+=\u001b[0m \u001b[0mloss_particle\u001b[0m \u001b[0;34m/\u001b[0m \u001b[0mself\u001b[0m\u001b[0;34m.\u001b[0m\u001b[0mnum_particles\u001b[0m\u001b[0;34m\u001b[0m\u001b[0m\n",
      "\u001b[0;32m~/miniconda3/envs/spectrum/lib/python3.6/site-packages/pyro/infer/elbo.py\u001b[0m in \u001b[0;36m_get_traces\u001b[0;34m(self, model, guide, *args, **kwargs)\u001b[0m\n\u001b[1;32m    165\u001b[0m         \u001b[0;32melse\u001b[0m\u001b[0;34m:\u001b[0m\u001b[0;34m\u001b[0m\u001b[0m\n\u001b[1;32m    166\u001b[0m             \u001b[0;32mfor\u001b[0m \u001b[0mi\u001b[0m \u001b[0;32min\u001b[0m \u001b[0mrange\u001b[0m\u001b[0;34m(\u001b[0m\u001b[0mself\u001b[0m\u001b[0;34m.\u001b[0m\u001b[0mnum_particles\u001b[0m\u001b[0;34m)\u001b[0m\u001b[0;34m:\u001b[0m\u001b[0;34m\u001b[0m\u001b[0m\n\u001b[0;32m--> 167\u001b[0;31m                 \u001b[0;32myield\u001b[0m \u001b[0mself\u001b[0m\u001b[0;34m.\u001b[0m\u001b[0m_get_trace\u001b[0m\u001b[0;34m(\u001b[0m\u001b[0mmodel\u001b[0m\u001b[0;34m,\u001b[0m \u001b[0mguide\u001b[0m\u001b[0;34m,\u001b[0m \u001b[0;34m*\u001b[0m\u001b[0margs\u001b[0m\u001b[0;34m,\u001b[0m \u001b[0;34m**\u001b[0m\u001b[0mkwargs\u001b[0m\u001b[0;34m)\u001b[0m\u001b[0;34m\u001b[0m\u001b[0m\n\u001b[0m",
      "\u001b[0;32m~/miniconda3/envs/spectrum/lib/python3.6/site-packages/pyro/infer/trace_elbo.py\u001b[0m in \u001b[0;36m_get_trace\u001b[0;34m(self, model, guide, *args, **kwargs)\u001b[0m\n\u001b[1;32m     48\u001b[0m         \"\"\"\n\u001b[1;32m     49\u001b[0m         model_trace, guide_trace = get_importance_trace(\n\u001b[0;32m---> 50\u001b[0;31m             \"flat\", self.max_plate_nesting, model, guide, *args, **kwargs)\n\u001b[0m\u001b[1;32m     51\u001b[0m         \u001b[0;32mif\u001b[0m \u001b[0mis_validation_enabled\u001b[0m\u001b[0;34m(\u001b[0m\u001b[0;34m)\u001b[0m\u001b[0;34m:\u001b[0m\u001b[0;34m\u001b[0m\u001b[0m\n\u001b[1;32m     52\u001b[0m             \u001b[0mcheck_if_enumerated\u001b[0m\u001b[0;34m(\u001b[0m\u001b[0mguide_trace\u001b[0m\u001b[0;34m)\u001b[0m\u001b[0;34m\u001b[0m\u001b[0m\n",
      "\u001b[0;32m~/miniconda3/envs/spectrum/lib/python3.6/site-packages/pyro/infer/enum.py\u001b[0m in \u001b[0;36mget_importance_trace\u001b[0;34m(graph_type, max_plate_nesting, model, guide, *args, **kwargs)\u001b[0m\n\u001b[1;32m     38\u001b[0m     \u001b[0magainst\u001b[0m \u001b[0mit\u001b[0m\u001b[0;34m.\u001b[0m\u001b[0;34m\u001b[0m\u001b[0m\n\u001b[1;32m     39\u001b[0m     \"\"\"\n\u001b[0;32m---> 40\u001b[0;31m     \u001b[0mguide_trace\u001b[0m \u001b[0;34m=\u001b[0m \u001b[0mpoutine\u001b[0m\u001b[0;34m.\u001b[0m\u001b[0mtrace\u001b[0m\u001b[0;34m(\u001b[0m\u001b[0mguide\u001b[0m\u001b[0;34m,\u001b[0m \u001b[0mgraph_type\u001b[0m\u001b[0;34m=\u001b[0m\u001b[0mgraph_type\u001b[0m\u001b[0;34m)\u001b[0m\u001b[0;34m.\u001b[0m\u001b[0mget_trace\u001b[0m\u001b[0;34m(\u001b[0m\u001b[0;34m*\u001b[0m\u001b[0margs\u001b[0m\u001b[0;34m,\u001b[0m \u001b[0;34m**\u001b[0m\u001b[0mkwargs\u001b[0m\u001b[0;34m)\u001b[0m\u001b[0;34m\u001b[0m\u001b[0m\n\u001b[0m\u001b[1;32m     41\u001b[0m     model_trace = poutine.trace(poutine.replay(model, trace=guide_trace),\n\u001b[1;32m     42\u001b[0m                                 graph_type=graph_type).get_trace(*args, **kwargs)\n",
      "\u001b[0;32m~/miniconda3/envs/spectrum/lib/python3.6/site-packages/pyro/poutine/trace_messenger.py\u001b[0m in \u001b[0;36mget_trace\u001b[0;34m(self, *args, **kwargs)\u001b[0m\n\u001b[1;32m    161\u001b[0m         \u001b[0mCalls\u001b[0m \u001b[0mthis\u001b[0m \u001b[0mpoutine\u001b[0m \u001b[0;32mand\u001b[0m \u001b[0mreturns\u001b[0m \u001b[0mits\u001b[0m \u001b[0mtrace\u001b[0m \u001b[0minstead\u001b[0m \u001b[0mof\u001b[0m \u001b[0mthe\u001b[0m \u001b[0mfunction\u001b[0m\u001b[0;31m'\u001b[0m\u001b[0ms\u001b[0m \u001b[0;32mreturn\u001b[0m \u001b[0mvalue\u001b[0m\u001b[0;34m.\u001b[0m\u001b[0;34m\u001b[0m\u001b[0m\n\u001b[1;32m    162\u001b[0m         \"\"\"\n\u001b[0;32m--> 163\u001b[0;31m         \u001b[0mself\u001b[0m\u001b[0;34m(\u001b[0m\u001b[0;34m*\u001b[0m\u001b[0margs\u001b[0m\u001b[0;34m,\u001b[0m \u001b[0;34m**\u001b[0m\u001b[0mkwargs\u001b[0m\u001b[0;34m)\u001b[0m\u001b[0;34m\u001b[0m\u001b[0m\n\u001b[0m\u001b[1;32m    164\u001b[0m         \u001b[0;32mreturn\u001b[0m \u001b[0mself\u001b[0m\u001b[0;34m.\u001b[0m\u001b[0mmsngr\u001b[0m\u001b[0;34m.\u001b[0m\u001b[0mget_trace\u001b[0m\u001b[0;34m(\u001b[0m\u001b[0;34m)\u001b[0m\u001b[0;34m\u001b[0m\u001b[0m\n",
      "\u001b[0;32m~/miniconda3/envs/spectrum/lib/python3.6/site-packages/pyro/poutine/trace_messenger.py\u001b[0m in \u001b[0;36m__call__\u001b[0;34m(self, *args, **kwargs)\u001b[0m\n\u001b[1;32m    145\u001b[0m                 \u001b[0mexc_type\u001b[0m\u001b[0;34m,\u001b[0m \u001b[0mexc_value\u001b[0m\u001b[0;34m,\u001b[0m \u001b[0mtraceback\u001b[0m \u001b[0;34m=\u001b[0m \u001b[0msys\u001b[0m\u001b[0;34m.\u001b[0m\u001b[0mexc_info\u001b[0m\u001b[0;34m(\u001b[0m\u001b[0;34m)\u001b[0m\u001b[0;34m\u001b[0m\u001b[0m\n\u001b[1;32m    146\u001b[0m                 \u001b[0mshapes\u001b[0m \u001b[0;34m=\u001b[0m \u001b[0mself\u001b[0m\u001b[0;34m.\u001b[0m\u001b[0mmsngr\u001b[0m\u001b[0;34m.\u001b[0m\u001b[0mtrace\u001b[0m\u001b[0;34m.\u001b[0m\u001b[0mformat_shapes\u001b[0m\u001b[0;34m(\u001b[0m\u001b[0;34m)\u001b[0m\u001b[0;34m\u001b[0m\u001b[0m\n\u001b[0;32m--> 147\u001b[0;31m                 \u001b[0;32mraise\u001b[0m \u001b[0mexc_type\u001b[0m\u001b[0;34m(\u001b[0m\u001b[0;34mu\"{}\\n{}\"\u001b[0m\u001b[0;34m.\u001b[0m\u001b[0mformat\u001b[0m\u001b[0;34m(\u001b[0m\u001b[0mexc_value\u001b[0m\u001b[0;34m,\u001b[0m \u001b[0mshapes\u001b[0m\u001b[0;34m)\u001b[0m\u001b[0;34m)\u001b[0m\u001b[0;34m.\u001b[0m\u001b[0mwith_traceback\u001b[0m\u001b[0;34m(\u001b[0m\u001b[0mtraceback\u001b[0m\u001b[0;34m)\u001b[0m\u001b[0;34m\u001b[0m\u001b[0m\n\u001b[0m\u001b[1;32m    148\u001b[0m             \u001b[0mself\u001b[0m\u001b[0;34m.\u001b[0m\u001b[0mmsngr\u001b[0m\u001b[0;34m.\u001b[0m\u001b[0mtrace\u001b[0m\u001b[0;34m.\u001b[0m\u001b[0madd_node\u001b[0m\u001b[0;34m(\u001b[0m\u001b[0;34m\"_RETURN\"\u001b[0m\u001b[0;34m,\u001b[0m \u001b[0mname\u001b[0m\u001b[0;34m=\u001b[0m\u001b[0;34m\"_RETURN\"\u001b[0m\u001b[0;34m,\u001b[0m \u001b[0mtype\u001b[0m\u001b[0;34m=\u001b[0m\u001b[0;34m\"return\"\u001b[0m\u001b[0;34m,\u001b[0m \u001b[0mvalue\u001b[0m\u001b[0;34m=\u001b[0m\u001b[0mret\u001b[0m\u001b[0;34m)\u001b[0m\u001b[0;34m\u001b[0m\u001b[0m\n\u001b[1;32m    149\u001b[0m         \u001b[0;32mreturn\u001b[0m \u001b[0mret\u001b[0m\u001b[0;34m\u001b[0m\u001b[0m\n",
      "\u001b[0;32m~/miniconda3/envs/spectrum/lib/python3.6/site-packages/pyro/poutine/trace_messenger.py\u001b[0m in \u001b[0;36m__call__\u001b[0;34m(self, *args, **kwargs)\u001b[0m\n\u001b[1;32m    141\u001b[0m                                       args=args, kwargs=kwargs)\n\u001b[1;32m    142\u001b[0m             \u001b[0;32mtry\u001b[0m\u001b[0;34m:\u001b[0m\u001b[0;34m\u001b[0m\u001b[0m\n\u001b[0;32m--> 143\u001b[0;31m                 \u001b[0mret\u001b[0m \u001b[0;34m=\u001b[0m \u001b[0mself\u001b[0m\u001b[0;34m.\u001b[0m\u001b[0mfn\u001b[0m\u001b[0;34m(\u001b[0m\u001b[0;34m*\u001b[0m\u001b[0margs\u001b[0m\u001b[0;34m,\u001b[0m \u001b[0;34m**\u001b[0m\u001b[0mkwargs\u001b[0m\u001b[0;34m)\u001b[0m\u001b[0;34m\u001b[0m\u001b[0m\n\u001b[0m\u001b[1;32m    144\u001b[0m             \u001b[0;32mexcept\u001b[0m \u001b[0;34m(\u001b[0m\u001b[0mValueError\u001b[0m\u001b[0;34m,\u001b[0m \u001b[0mRuntimeError\u001b[0m\u001b[0;34m)\u001b[0m\u001b[0;34m:\u001b[0m\u001b[0;34m\u001b[0m\u001b[0m\n\u001b[1;32m    145\u001b[0m                 \u001b[0mexc_type\u001b[0m\u001b[0;34m,\u001b[0m \u001b[0mexc_value\u001b[0m\u001b[0;34m,\u001b[0m \u001b[0mtraceback\u001b[0m \u001b[0;34m=\u001b[0m \u001b[0msys\u001b[0m\u001b[0;34m.\u001b[0m\u001b[0mexc_info\u001b[0m\u001b[0;34m(\u001b[0m\u001b[0;34m)\u001b[0m\u001b[0;34m\u001b[0m\u001b[0m\n",
      "\u001b[0;32m~/projects/spectrum/spectrum/judge/lca.py\u001b[0m in \u001b[0;36mlca_guide\u001b[0;34m(observation, mask)\u001b[0m\n\u001b[1;32m    178\u001b[0m             pyro.sample(\n\u001b[1;32m    179\u001b[0m                 \u001b[0;34mf's_{s}'\u001b[0m\u001b[0;34m,\u001b[0m\u001b[0;34m\u001b[0m\u001b[0m\n\u001b[0;32m--> 180\u001b[0;31m                 dist.Bernoulli(probs=pyro.param(f'beta_s_{s}', init_tensor=torch.tensor(0.5)))))\n\u001b[0m\u001b[1;32m    181\u001b[0m     \u001b[0;31m# creat hidden truth rv for each object m\u001b[0m\u001b[0;34m\u001b[0m\u001b[0;34m\u001b[0m\u001b[0m\n\u001b[1;32m    182\u001b[0m     \u001b[0mhidden_truth\u001b[0m \u001b[0;34m=\u001b[0m \u001b[0;34m[\u001b[0m\u001b[0;34m]\u001b[0m\u001b[0;34m\u001b[0m\u001b[0m\n",
      "\u001b[0;32m~/miniconda3/envs/spectrum/lib/python3.6/site-packages/pyro/primitives.py\u001b[0m in \u001b[0;36msample\u001b[0;34m(name, fn, *args, **kwargs)\u001b[0m\n\u001b[1;32m    108\u001b[0m             \u001b[0mmsg\u001b[0m\u001b[0;34m[\u001b[0m\u001b[0;34m\"is_observed\"\u001b[0m\u001b[0;34m]\u001b[0m \u001b[0;34m=\u001b[0m \u001b[0;32mTrue\u001b[0m\u001b[0;34m\u001b[0m\u001b[0m\n\u001b[1;32m    109\u001b[0m         \u001b[0;31m# apply the stack and return its return value\u001b[0m\u001b[0;34m\u001b[0m\u001b[0;34m\u001b[0m\u001b[0m\n\u001b[0;32m--> 110\u001b[0;31m         \u001b[0mapply_stack\u001b[0m\u001b[0;34m(\u001b[0m\u001b[0mmsg\u001b[0m\u001b[0;34m)\u001b[0m\u001b[0;34m\u001b[0m\u001b[0m\n\u001b[0m\u001b[1;32m    111\u001b[0m         \u001b[0;32mreturn\u001b[0m \u001b[0mmsg\u001b[0m\u001b[0;34m[\u001b[0m\u001b[0;34m\"value\"\u001b[0m\u001b[0;34m]\u001b[0m\u001b[0;34m\u001b[0m\u001b[0m\n\u001b[1;32m    112\u001b[0m \u001b[0;34m\u001b[0m\u001b[0m\n",
      "\u001b[0;32m~/miniconda3/envs/spectrum/lib/python3.6/site-packages/pyro/poutine/runtime.py\u001b[0m in \u001b[0;36mapply_stack\u001b[0;34m(initial_msg)\u001b[0m\n\u001b[1;32m    193\u001b[0m             \u001b[0;32mbreak\u001b[0m\u001b[0;34m\u001b[0m\u001b[0m\n\u001b[1;32m    194\u001b[0m \u001b[0;34m\u001b[0m\u001b[0m\n\u001b[0;32m--> 195\u001b[0;31m     \u001b[0mdefault_process_message\u001b[0m\u001b[0;34m(\u001b[0m\u001b[0mmsg\u001b[0m\u001b[0;34m)\u001b[0m\u001b[0;34m\u001b[0m\u001b[0m\n\u001b[0m\u001b[1;32m    196\u001b[0m \u001b[0;34m\u001b[0m\u001b[0m\n\u001b[1;32m    197\u001b[0m     \u001b[0;32mfor\u001b[0m \u001b[0mframe\u001b[0m \u001b[0;32min\u001b[0m \u001b[0mstack\u001b[0m\u001b[0;34m[\u001b[0m\u001b[0;34m-\u001b[0m\u001b[0mpointer\u001b[0m\u001b[0;34m:\u001b[0m\u001b[0;34m]\u001b[0m\u001b[0;34m:\u001b[0m\u001b[0;34m\u001b[0m\u001b[0m\n",
      "\u001b[0;32m~/miniconda3/envs/spectrum/lib/python3.6/site-packages/pyro/poutine/runtime.py\u001b[0m in \u001b[0;36mdefault_process_message\u001b[0;34m(msg)\u001b[0m\n\u001b[1;32m    154\u001b[0m         \u001b[0;32mreturn\u001b[0m \u001b[0mmsg\u001b[0m\u001b[0;34m\u001b[0m\u001b[0m\n\u001b[1;32m    155\u001b[0m \u001b[0;34m\u001b[0m\u001b[0m\n\u001b[0;32m--> 156\u001b[0;31m     \u001b[0mmsg\u001b[0m\u001b[0;34m[\u001b[0m\u001b[0;34m\"value\"\u001b[0m\u001b[0;34m]\u001b[0m \u001b[0;34m=\u001b[0m \u001b[0mmsg\u001b[0m\u001b[0;34m[\u001b[0m\u001b[0;34m\"fn\"\u001b[0m\u001b[0;34m]\u001b[0m\u001b[0;34m(\u001b[0m\u001b[0;34m*\u001b[0m\u001b[0mmsg\u001b[0m\u001b[0;34m[\u001b[0m\u001b[0;34m\"args\"\u001b[0m\u001b[0;34m]\u001b[0m\u001b[0;34m,\u001b[0m \u001b[0;34m**\u001b[0m\u001b[0mmsg\u001b[0m\u001b[0;34m[\u001b[0m\u001b[0;34m\"kwargs\"\u001b[0m\u001b[0;34m]\u001b[0m\u001b[0;34m)\u001b[0m\u001b[0;34m\u001b[0m\u001b[0m\n\u001b[0m\u001b[1;32m    157\u001b[0m \u001b[0;34m\u001b[0m\u001b[0m\n\u001b[1;32m    158\u001b[0m     \u001b[0;31m# after fn has been called, update msg to prevent it from being called again.\u001b[0m\u001b[0;34m\u001b[0m\u001b[0;34m\u001b[0m\u001b[0m\n",
      "\u001b[0;32m~/miniconda3/envs/spectrum/lib/python3.6/site-packages/pyro/distributions/torch_distribution.py\u001b[0m in \u001b[0;36m__call__\u001b[0;34m(self, sample_shape)\u001b[0m\n\u001b[1;32m     38\u001b[0m         \u001b[0;34m:\u001b[0m\u001b[0mrtype\u001b[0m\u001b[0;34m:\u001b[0m \u001b[0mtorch\u001b[0m\u001b[0;34m.\u001b[0m\u001b[0mTensor\u001b[0m\u001b[0;34m\u001b[0m\u001b[0m\n\u001b[1;32m     39\u001b[0m         \"\"\"\n\u001b[0;32m---> 40\u001b[0;31m         \u001b[0;32mreturn\u001b[0m \u001b[0mself\u001b[0m\u001b[0;34m.\u001b[0m\u001b[0mrsample\u001b[0m\u001b[0;34m(\u001b[0m\u001b[0msample_shape\u001b[0m\u001b[0;34m)\u001b[0m \u001b[0;32mif\u001b[0m \u001b[0mself\u001b[0m\u001b[0;34m.\u001b[0m\u001b[0mhas_rsample\u001b[0m \u001b[0;32melse\u001b[0m \u001b[0mself\u001b[0m\u001b[0;34m.\u001b[0m\u001b[0msample\u001b[0m\u001b[0;34m(\u001b[0m\u001b[0msample_shape\u001b[0m\u001b[0;34m)\u001b[0m\u001b[0;34m\u001b[0m\u001b[0m\n\u001b[0m\u001b[1;32m     41\u001b[0m \u001b[0;34m\u001b[0m\u001b[0m\n\u001b[1;32m     42\u001b[0m     \u001b[0;34m@\u001b[0m\u001b[0mproperty\u001b[0m\u001b[0;34m\u001b[0m\u001b[0m\n",
      "\u001b[0;32m~/miniconda3/envs/spectrum/lib/python3.6/site-packages/torch/distributions/bernoulli.py\u001b[0m in \u001b[0;36msample\u001b[0;34m(self, sample_shape)\u001b[0m\n\u001b[1;32m     87\u001b[0m         \u001b[0mshape\u001b[0m \u001b[0;34m=\u001b[0m \u001b[0mself\u001b[0m\u001b[0;34m.\u001b[0m\u001b[0m_extended_shape\u001b[0m\u001b[0;34m(\u001b[0m\u001b[0msample_shape\u001b[0m\u001b[0;34m)\u001b[0m\u001b[0;34m\u001b[0m\u001b[0m\n\u001b[1;32m     88\u001b[0m         \u001b[0;32mwith\u001b[0m \u001b[0mtorch\u001b[0m\u001b[0;34m.\u001b[0m\u001b[0mno_grad\u001b[0m\u001b[0;34m(\u001b[0m\u001b[0;34m)\u001b[0m\u001b[0;34m:\u001b[0m\u001b[0;34m\u001b[0m\u001b[0m\n\u001b[0;32m---> 89\u001b[0;31m             \u001b[0;32mreturn\u001b[0m \u001b[0mtorch\u001b[0m\u001b[0;34m.\u001b[0m\u001b[0mbernoulli\u001b[0m\u001b[0;34m(\u001b[0m\u001b[0mself\u001b[0m\u001b[0;34m.\u001b[0m\u001b[0mprobs\u001b[0m\u001b[0;34m.\u001b[0m\u001b[0mexpand\u001b[0m\u001b[0;34m(\u001b[0m\u001b[0mshape\u001b[0m\u001b[0;34m)\u001b[0m\u001b[0;34m)\u001b[0m\u001b[0;34m\u001b[0m\u001b[0m\n\u001b[0m\u001b[1;32m     90\u001b[0m \u001b[0;34m\u001b[0m\u001b[0m\n\u001b[1;32m     91\u001b[0m     \u001b[0;32mdef\u001b[0m \u001b[0mlog_prob\u001b[0m\u001b[0;34m(\u001b[0m\u001b[0mself\u001b[0m\u001b[0;34m,\u001b[0m \u001b[0mvalue\u001b[0m\u001b[0;34m)\u001b[0m\u001b[0;34m:\u001b[0m\u001b[0;34m\u001b[0m\u001b[0m\n",
      "\u001b[0;31mRuntimeError\u001b[0m: Expected p_in >= 0 && p_in <= 1 to be true, but got false.  (Could this error message be improved?  If so, please report an enhancement request to PyTorch.)\nTrace Shapes:\n Param Sites:\n     beta_s_0\nSample Sites:"
     ]
    },
    {
     "name": "stdout",
     "output_type": "stream",
     "text": [
      "> \u001b[0;32m/Users/totucuong/miniconda3/envs/spectrum/lib/python3.6/site-packages/torch/distributions/bernoulli.py\u001b[0m(89)\u001b[0;36msample\u001b[0;34m()\u001b[0m\n",
      "\u001b[0;32m     87 \u001b[0;31m        \u001b[0mshape\u001b[0m \u001b[0;34m=\u001b[0m \u001b[0mself\u001b[0m\u001b[0;34m.\u001b[0m\u001b[0m_extended_shape\u001b[0m\u001b[0;34m(\u001b[0m\u001b[0msample_shape\u001b[0m\u001b[0;34m)\u001b[0m\u001b[0;34m\u001b[0m\u001b[0m\n",
      "\u001b[0m\u001b[0;32m     88 \u001b[0;31m        \u001b[0;32mwith\u001b[0m \u001b[0mtorch\u001b[0m\u001b[0;34m.\u001b[0m\u001b[0mno_grad\u001b[0m\u001b[0;34m(\u001b[0m\u001b[0;34m)\u001b[0m\u001b[0;34m:\u001b[0m\u001b[0;34m\u001b[0m\u001b[0m\n",
      "\u001b[0m\u001b[0;32m---> 89 \u001b[0;31m            \u001b[0;32mreturn\u001b[0m \u001b[0mtorch\u001b[0m\u001b[0;34m.\u001b[0m\u001b[0mbernoulli\u001b[0m\u001b[0;34m(\u001b[0m\u001b[0mself\u001b[0m\u001b[0;34m.\u001b[0m\u001b[0mprobs\u001b[0m\u001b[0;34m.\u001b[0m\u001b[0mexpand\u001b[0m\u001b[0;34m(\u001b[0m\u001b[0mshape\u001b[0m\u001b[0;34m)\u001b[0m\u001b[0;34m)\u001b[0m\u001b[0;34m\u001b[0m\u001b[0m\n",
      "\u001b[0m\u001b[0;32m     90 \u001b[0;31m\u001b[0;34m\u001b[0m\u001b[0m\n",
      "\u001b[0m\u001b[0;32m     91 \u001b[0;31m    \u001b[0;32mdef\u001b[0m \u001b[0mlog_prob\u001b[0m\u001b[0;34m(\u001b[0m\u001b[0mself\u001b[0m\u001b[0;34m,\u001b[0m \u001b[0mvalue\u001b[0m\u001b[0;34m)\u001b[0m\u001b[0;34m:\u001b[0m\u001b[0;34m\u001b[0m\u001b[0m\n",
      "\u001b[0m\n"
     ]
    },
    {
     "name": "stdin",
     "output_type": "stream",
     "text": [
      "ipdb>  shape\n"
     ]
    },
    {
     "name": "stdout",
     "output_type": "stream",
     "text": [
      "torch.Size([])\n"
     ]
    },
    {
     "name": "stdin",
     "output_type": "stream",
     "text": [
      "ipdb>  u\n"
     ]
    },
    {
     "name": "stdout",
     "output_type": "stream",
     "text": [
      "> \u001b[0;32m/Users/totucuong/miniconda3/envs/spectrum/lib/python3.6/site-packages/pyro/distributions/torch_distribution.py\u001b[0m(40)\u001b[0;36m__call__\u001b[0;34m()\u001b[0m\n",
      "\u001b[0;32m     38 \u001b[0;31m        \u001b[0;34m:\u001b[0m\u001b[0mrtype\u001b[0m\u001b[0;34m:\u001b[0m \u001b[0mtorch\u001b[0m\u001b[0;34m.\u001b[0m\u001b[0mTensor\u001b[0m\u001b[0;34m\u001b[0m\u001b[0m\n",
      "\u001b[0m\u001b[0;32m     39 \u001b[0;31m        \"\"\"\n",
      "\u001b[0m\u001b[0;32m---> 40 \u001b[0;31m        \u001b[0;32mreturn\u001b[0m \u001b[0mself\u001b[0m\u001b[0;34m.\u001b[0m\u001b[0mrsample\u001b[0m\u001b[0;34m(\u001b[0m\u001b[0msample_shape\u001b[0m\u001b[0;34m)\u001b[0m \u001b[0;32mif\u001b[0m \u001b[0mself\u001b[0m\u001b[0;34m.\u001b[0m\u001b[0mhas_rsample\u001b[0m \u001b[0;32melse\u001b[0m \u001b[0mself\u001b[0m\u001b[0;34m.\u001b[0m\u001b[0msample\u001b[0m\u001b[0;34m(\u001b[0m\u001b[0msample_shape\u001b[0m\u001b[0;34m)\u001b[0m\u001b[0;34m\u001b[0m\u001b[0m\n",
      "\u001b[0m\u001b[0;32m     41 \u001b[0;31m\u001b[0;34m\u001b[0m\u001b[0m\n",
      "\u001b[0m\u001b[0;32m     42 \u001b[0;31m    \u001b[0;34m@\u001b[0m\u001b[0mproperty\u001b[0m\u001b[0;34m\u001b[0m\u001b[0m\n",
      "\u001b[0m\n"
     ]
    },
    {
     "name": "stdin",
     "output_type": "stream",
     "text": [
      "ipdb>  u\n"
     ]
    },
    {
     "name": "stdout",
     "output_type": "stream",
     "text": [
      "> \u001b[0;32m/Users/totucuong/miniconda3/envs/spectrum/lib/python3.6/site-packages/pyro/poutine/runtime.py\u001b[0m(156)\u001b[0;36mdefault_process_message\u001b[0;34m()\u001b[0m\n",
      "\u001b[0;32m    154 \u001b[0;31m        \u001b[0;32mreturn\u001b[0m \u001b[0mmsg\u001b[0m\u001b[0;34m\u001b[0m\u001b[0m\n",
      "\u001b[0m\u001b[0;32m    155 \u001b[0;31m\u001b[0;34m\u001b[0m\u001b[0m\n",
      "\u001b[0m\u001b[0;32m--> 156 \u001b[0;31m    \u001b[0mmsg\u001b[0m\u001b[0;34m[\u001b[0m\u001b[0;34m\"value\"\u001b[0m\u001b[0;34m]\u001b[0m \u001b[0;34m=\u001b[0m \u001b[0mmsg\u001b[0m\u001b[0;34m[\u001b[0m\u001b[0;34m\"fn\"\u001b[0m\u001b[0;34m]\u001b[0m\u001b[0;34m(\u001b[0m\u001b[0;34m*\u001b[0m\u001b[0mmsg\u001b[0m\u001b[0;34m[\u001b[0m\u001b[0;34m\"args\"\u001b[0m\u001b[0;34m]\u001b[0m\u001b[0;34m,\u001b[0m \u001b[0;34m**\u001b[0m\u001b[0mmsg\u001b[0m\u001b[0;34m[\u001b[0m\u001b[0;34m\"kwargs\"\u001b[0m\u001b[0;34m]\u001b[0m\u001b[0;34m)\u001b[0m\u001b[0;34m\u001b[0m\u001b[0m\n",
      "\u001b[0m\u001b[0;32m    157 \u001b[0;31m\u001b[0;34m\u001b[0m\u001b[0m\n",
      "\u001b[0m\u001b[0;32m    158 \u001b[0;31m    \u001b[0;31m# after fn has been called, update msg to prevent it from being called again.\u001b[0m\u001b[0;34m\u001b[0m\u001b[0;34m\u001b[0m\u001b[0m\n",
      "\u001b[0m\n"
     ]
    },
    {
     "name": "stdin",
     "output_type": "stream",
     "text": [
      "ipdb>  msg\n"
     ]
    },
    {
     "name": "stdout",
     "output_type": "stream",
     "text": [
      "{'type': 'sample', 'name': 's_0', 'fn': Bernoulli(probs: -0.1197311282157898), 'is_observed': False, 'args': (), 'kwargs': {}, 'value': None, 'infer': {}, 'scale': 1.0, 'mask': None, 'cond_indep_stack': (), 'done': False, 'stop': False, 'continuation': None}\n"
     ]
    },
    {
     "name": "stdin",
     "output_type": "stream",
     "text": [
      "ipdb>  d\n"
     ]
    },
    {
     "name": "stdout",
     "output_type": "stream",
     "text": [
      "> \u001b[0;32m/Users/totucuong/miniconda3/envs/spectrum/lib/python3.6/site-packages/pyro/distributions/torch_distribution.py\u001b[0m(40)\u001b[0;36m__call__\u001b[0;34m()\u001b[0m\n",
      "\u001b[0;32m     38 \u001b[0;31m        \u001b[0;34m:\u001b[0m\u001b[0mrtype\u001b[0m\u001b[0;34m:\u001b[0m \u001b[0mtorch\u001b[0m\u001b[0;34m.\u001b[0m\u001b[0mTensor\u001b[0m\u001b[0;34m\u001b[0m\u001b[0m\n",
      "\u001b[0m\u001b[0;32m     39 \u001b[0;31m        \"\"\"\n",
      "\u001b[0m\u001b[0;32m---> 40 \u001b[0;31m        \u001b[0;32mreturn\u001b[0m \u001b[0mself\u001b[0m\u001b[0;34m.\u001b[0m\u001b[0mrsample\u001b[0m\u001b[0;34m(\u001b[0m\u001b[0msample_shape\u001b[0m\u001b[0;34m)\u001b[0m \u001b[0;32mif\u001b[0m \u001b[0mself\u001b[0m\u001b[0;34m.\u001b[0m\u001b[0mhas_rsample\u001b[0m \u001b[0;32melse\u001b[0m \u001b[0mself\u001b[0m\u001b[0;34m.\u001b[0m\u001b[0msample\u001b[0m\u001b[0;34m(\u001b[0m\u001b[0msample_shape\u001b[0m\u001b[0;34m)\u001b[0m\u001b[0;34m\u001b[0m\u001b[0m\n",
      "\u001b[0m\u001b[0;32m     41 \u001b[0;31m\u001b[0;34m\u001b[0m\u001b[0m\n",
      "\u001b[0m\u001b[0;32m     42 \u001b[0;31m    \u001b[0;34m@\u001b[0m\u001b[0mproperty\u001b[0m\u001b[0;34m\u001b[0m\u001b[0m\n",
      "\u001b[0m\n"
     ]
    },
    {
     "name": "stdin",
     "output_type": "stream",
     "text": [
      "ipdb>  d\n"
     ]
    },
    {
     "name": "stdout",
     "output_type": "stream",
     "text": [
      "> \u001b[0;32m/Users/totucuong/miniconda3/envs/spectrum/lib/python3.6/site-packages/torch/distributions/bernoulli.py\u001b[0m(89)\u001b[0;36msample\u001b[0;34m()\u001b[0m\n",
      "\u001b[0;32m     87 \u001b[0;31m        \u001b[0mshape\u001b[0m \u001b[0;34m=\u001b[0m \u001b[0mself\u001b[0m\u001b[0;34m.\u001b[0m\u001b[0m_extended_shape\u001b[0m\u001b[0;34m(\u001b[0m\u001b[0msample_shape\u001b[0m\u001b[0;34m)\u001b[0m\u001b[0;34m\u001b[0m\u001b[0m\n",
      "\u001b[0m\u001b[0;32m     88 \u001b[0;31m        \u001b[0;32mwith\u001b[0m \u001b[0mtorch\u001b[0m\u001b[0;34m.\u001b[0m\u001b[0mno_grad\u001b[0m\u001b[0;34m(\u001b[0m\u001b[0;34m)\u001b[0m\u001b[0;34m:\u001b[0m\u001b[0;34m\u001b[0m\u001b[0m\n",
      "\u001b[0m\u001b[0;32m---> 89 \u001b[0;31m            \u001b[0;32mreturn\u001b[0m \u001b[0mtorch\u001b[0m\u001b[0;34m.\u001b[0m\u001b[0mbernoulli\u001b[0m\u001b[0;34m(\u001b[0m\u001b[0mself\u001b[0m\u001b[0;34m.\u001b[0m\u001b[0mprobs\u001b[0m\u001b[0;34m.\u001b[0m\u001b[0mexpand\u001b[0m\u001b[0;34m(\u001b[0m\u001b[0mshape\u001b[0m\u001b[0;34m)\u001b[0m\u001b[0;34m)\u001b[0m\u001b[0;34m\u001b[0m\u001b[0m\n",
      "\u001b[0m\u001b[0;32m     90 \u001b[0;31m\u001b[0;34m\u001b[0m\u001b[0m\n",
      "\u001b[0m\u001b[0;32m     91 \u001b[0;31m    \u001b[0;32mdef\u001b[0m \u001b[0mlog_prob\u001b[0m\u001b[0;34m(\u001b[0m\u001b[0mself\u001b[0m\u001b[0;34m,\u001b[0m \u001b[0mvalue\u001b[0m\u001b[0;34m)\u001b[0m\u001b[0;34m:\u001b[0m\u001b[0;34m\u001b[0m\u001b[0m\n",
      "\u001b[0m\n"
     ]
    },
    {
     "name": "stdin",
     "output_type": "stream",
     "text": [
      "ipdb>  self.probs\n"
     ]
    },
    {
     "name": "stdout",
     "output_type": "stream",
     "text": [
      "tensor(-0.1197, requires_grad=True)\n"
     ]
    },
    {
     "name": "stdin",
     "output_type": "stream",
     "text": [
      "ipdb>  shape\n"
     ]
    },
    {
     "name": "stdout",
     "output_type": "stream",
     "text": [
      "torch.Size([])\n"
     ]
    },
    {
     "name": "stdin",
     "output_type": "stream",
     "text": [
      "ipdb>  torch.bernoulli(self.probs.expand(shape))\n"
     ]
    },
    {
     "name": "stdout",
     "output_type": "stream",
     "text": [
      "*** RuntimeError: Expected p_in >= 0 && p_in <= 1 to be true, but got false.  (Could this error message be improved?  If so, please report an enhancement request to PyTorch.)\n"
     ]
    },
    {
     "name": "stdin",
     "output_type": "stream",
     "text": [
      "ipdb>  exit\n"
     ]
    }
   ],
   "source": [
    "losses = []\n",
    "num_steps = 100\n",
    "for t in range(num_steps):\n",
    "    losses.append(svi.step(observation, mask))"
   ]
  },
  {
   "cell_type": "code",
   "execution_count": null,
   "metadata": {},
   "outputs": [],
   "source": [
    "sns.tsplot(losses)"
   ]
  },
  {
   "cell_type": "markdown",
   "metadata": {},
   "source": [
    "# Appendix"
   ]
  },
  {
   "cell_type": "code",
   "execution_count": null,
   "metadata": {},
   "outputs": [],
   "source": [
    "def generate_one_simpleLCA_sample(observation, mask):\n",
    "    tracer = pyro.poutine.trace(lca.lca_model)\n",
    "    trace = tracer.get_trace(observation, mask)\n",
    "\n",
    "    for name, node in trace.nodes.items():\n",
    "        if node['type'] == 'sample':\n",
    "            print(f'{node[\"name\"]} - sampled value {node[\"value\"]} ')\n",
    "    return trace\n",
    "\n",
    "# for i in range(3):\n",
    "#     generate_one_simpleLCA_sample(observation, mask)\n",
    "#     print('-'*10)"
   ]
  }
 ],
 "metadata": {
  "kernelspec": {
   "display_name": "Python 3",
   "language": "python",
   "name": "python3"
  },
  "language_info": {
   "codemirror_mode": {
    "name": "ipython",
    "version": 3
   },
   "file_extension": ".py",
   "mimetype": "text/x-python",
   "name": "python",
   "nbconvert_exporter": "python",
   "pygments_lexer": "ipython3",
   "version": "3.6.1"
  }
 },
 "nbformat": 4,
 "nbformat_minor": 4
}
