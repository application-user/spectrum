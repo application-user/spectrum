{
 "cells": [
  {
   "cell_type": "markdown",
   "metadata": {},
   "source": [
    "# Introduction \n",
    "\n",
    "In this notebook, we will implement [*Latent Credible Analysis*](https://research.fb.com/publications/latent-credibility-analysis/) models. These are latent probablistic models that use hidden (latent) variables to represents the unknown data source reliabilities and underlying truth values. \n",
    "\n",
    "We implement only simpleLCA for now as extension to other models are relatively straight forward."
   ]
  },
  {
   "cell_type": "markdown",
   "metadata": {},
   "source": [
    "# SimpleLCA\n",
    "\n",
    "Here is the plate model of simpleLCA. \n",
    "\n",
    "![simpleLCA](./gfx/simpleLCA.png)"
   ]
  },
  {
   "cell_type": "markdown",
   "metadata": {},
   "source": [
    "# Data "
   ]
  },
  {
   "cell_type": "code",
   "execution_count": 1,
   "metadata": {},
   "outputs": [],
   "source": [
    "import pandas as pd\n",
    "import os.path as op\n",
    "import numpy as np\n",
    "import seaborn as sns"
   ]
  },
  {
   "cell_type": "code",
   "execution_count": 2,
   "metadata": {},
   "outputs": [],
   "source": [
    "import sys\n",
    "sys.path.insert(0, '../')"
   ]
  },
  {
   "cell_type": "code",
   "execution_count": 3,
   "metadata": {},
   "outputs": [],
   "source": [
    "from spectrum import utils\n",
    "from spectrum.truthfinder import truthfinder"
   ]
  },
  {
   "cell_type": "code",
   "execution_count": 4,
   "metadata": {},
   "outputs": [],
   "source": [
    "DATA_DIR = '../data'\n",
    "DATA_SET = 'population'"
   ]
  },
  {
   "cell_type": "code",
   "execution_count": 5,
   "metadata": {},
   "outputs": [],
   "source": [
    "truths = pd.read_csv(op.join(DATA_DIR, DATA_SET, 'truths.csv'))\n",
    "claims = pd.read_csv(op.join(DATA_DIR, DATA_SET, 'claims.csv'))"
   ]
  },
  {
   "cell_type": "code",
   "execution_count": 6,
   "metadata": {},
   "outputs": [
    {
     "data": {
      "text/html": [
       "<div>\n",
       "<style scoped>\n",
       "    .dataframe tbody tr th:only-of-type {\n",
       "        vertical-align: middle;\n",
       "    }\n",
       "\n",
       "    .dataframe tbody tr th {\n",
       "        vertical-align: top;\n",
       "    }\n",
       "\n",
       "    .dataframe thead th {\n",
       "        text-align: right;\n",
       "    }\n",
       "</style>\n",
       "<table border=\"1\" class=\"dataframe\">\n",
       "  <thead>\n",
       "    <tr style=\"text-align: right;\">\n",
       "      <th></th>\n",
       "      <th>object</th>\n",
       "      <th>value</th>\n",
       "      <th>object_id</th>\n",
       "    </tr>\n",
       "  </thead>\n",
       "  <tbody>\n",
       "    <tr>\n",
       "      <th>0</th>\n",
       "      <td>milton_newhampshire_Population2000</td>\n",
       "      <td>3910</td>\n",
       "      <td>157</td>\n",
       "    </tr>\n",
       "    <tr>\n",
       "      <th>1</th>\n",
       "      <td>omaha_nebraska_Population2000</td>\n",
       "      <td>390007</td>\n",
       "      <td>189</td>\n",
       "    </tr>\n",
       "    <tr>\n",
       "      <th>2</th>\n",
       "      <td>schaumburg_illinois_Population2000</td>\n",
       "      <td>75386</td>\n",
       "      <td>240</td>\n",
       "    </tr>\n",
       "    <tr>\n",
       "      <th>3</th>\n",
       "      <td>lakeoswego_oregon_Population2000</td>\n",
       "      <td>35278</td>\n",
       "      <td>127</td>\n",
       "    </tr>\n",
       "    <tr>\n",
       "      <th>4</th>\n",
       "      <td>culver_oregon_Population2000</td>\n",
       "      <td>802</td>\n",
       "      <td>53</td>\n",
       "    </tr>\n",
       "  </tbody>\n",
       "</table>\n",
       "</div>"
      ],
      "text/plain": [
       "                               object   value  object_id\n",
       "0  milton_newhampshire_Population2000    3910        157\n",
       "1       omaha_nebraska_Population2000  390007        189\n",
       "2  schaumburg_illinois_Population2000   75386        240\n",
       "3    lakeoswego_oregon_Population2000   35278        127\n",
       "4        culver_oregon_Population2000     802         53"
      ]
     },
     "execution_count": 6,
     "metadata": {},
     "output_type": "execute_result"
    }
   ],
   "source": [
    "truths.head()"
   ]
  },
  {
   "cell_type": "code",
   "execution_count": 7,
   "metadata": {},
   "outputs": [
    {
     "data": {
      "text/html": [
       "<div>\n",
       "<style scoped>\n",
       "    .dataframe tbody tr th:only-of-type {\n",
       "        vertical-align: middle;\n",
       "    }\n",
       "\n",
       "    .dataframe tbody tr th {\n",
       "        vertical-align: top;\n",
       "    }\n",
       "\n",
       "    .dataframe thead th {\n",
       "        text-align: right;\n",
       "    }\n",
       "</style>\n",
       "<table border=\"1\" class=\"dataframe\">\n",
       "  <thead>\n",
       "    <tr style=\"text-align: right;\">\n",
       "      <th></th>\n",
       "      <th>object</th>\n",
       "      <th>SourceID</th>\n",
       "      <th>value</th>\n",
       "      <th>object_id</th>\n",
       "      <th>source_id</th>\n",
       "    </tr>\n",
       "  </thead>\n",
       "  <tbody>\n",
       "    <tr>\n",
       "      <th>0</th>\n",
       "      <td>milton_newhampshire_Population2000</td>\n",
       "      <td>16168: SatyrTN</td>\n",
       "      <td>3910</td>\n",
       "      <td>157</td>\n",
       "      <td>352</td>\n",
       "    </tr>\n",
       "    <tr>\n",
       "      <th>1</th>\n",
       "      <td>milton_newhampshire_Population2000</td>\n",
       "      <td>0 (76.19.53.22)</td>\n",
       "      <td>23910</td>\n",
       "      <td>157</td>\n",
       "      <td>274</td>\n",
       "    </tr>\n",
       "    <tr>\n",
       "      <th>2</th>\n",
       "      <td>milton_newhampshire_Population2000</td>\n",
       "      <td>5512121: CapitalBot</td>\n",
       "      <td>3910</td>\n",
       "      <td>157</td>\n",
       "      <td>561</td>\n",
       "    </tr>\n",
       "    <tr>\n",
       "      <th>3</th>\n",
       "      <td>omaha_nebraska_Population2000</td>\n",
       "      <td>201610: Pentawing</td>\n",
       "      <td>390007</td>\n",
       "      <td>189</td>\n",
       "      <td>401</td>\n",
       "    </tr>\n",
       "    <tr>\n",
       "      <th>4</th>\n",
       "      <td>omaha_nebraska_Population2000</td>\n",
       "      <td>89326: Swid</td>\n",
       "      <td>390007</td>\n",
       "      <td>189</td>\n",
       "      <td>630</td>\n",
       "    </tr>\n",
       "  </tbody>\n",
       "</table>\n",
       "</div>"
      ],
      "text/plain": [
       "                               object             SourceID   value  object_id  \\\n",
       "0  milton_newhampshire_Population2000       16168: SatyrTN    3910        157   \n",
       "1  milton_newhampshire_Population2000      0 (76.19.53.22)   23910        157   \n",
       "2  milton_newhampshire_Population2000  5512121: CapitalBot    3910        157   \n",
       "3       omaha_nebraska_Population2000    201610: Pentawing  390007        189   \n",
       "4       omaha_nebraska_Population2000          89326: Swid  390007        189   \n",
       "\n",
       "   source_id  \n",
       "0        352  \n",
       "1        274  \n",
       "2        561  \n",
       "3        401  \n",
       "4        630  "
      ]
     },
     "execution_count": 7,
     "metadata": {},
     "output_type": "execute_result"
    }
   ],
   "source": [
    "claims.head()"
   ]
  },
  {
   "cell_type": "code",
   "execution_count": 8,
   "metadata": {},
   "outputs": [
    {
     "data": {
      "text/plain": [
       "((301, 3), (1046, 5))"
      ]
     },
     "execution_count": 8,
     "metadata": {},
     "output_type": "execute_result"
    }
   ],
   "source": [
    "truths.shape, claims.shape"
   ]
  },
  {
   "cell_type": "markdown",
   "metadata": {},
   "source": [
    "# Implementation"
   ]
  },
  {
   "cell_type": "code",
   "execution_count": 9,
   "metadata": {},
   "outputs": [],
   "source": [
    "def simpleLCA(claims):\n",
    "    \"\"\"implement simpleLCA generative model.\n",
    "    \n",
    "    A claim is modeled as triple (source_id, object_id, value). This means the ``source_id`` asserts\n",
    "    that the ``object_id`` takes on value ``value``.\n",
    "    \n",
    "    Parameters\n",
    "    ----------\n",
    "    claims: pandas.DataFrame\n",
    "        a data frame that has columns [source_id, object_id, value]\n",
    "    \n",
    "    \"\"\"\n",
    "    pass\n"
   ]
  },
  {
   "cell_type": "code",
   "execution_count": 10,
   "metadata": {},
   "outputs": [],
   "source": [
    "def bvi(simpleLCA_fn):\n",
    "    \"\"\"perform blackbox mean field variational inference on simpleLCA.\n",
    "    \n",
    "    This methods take a simpleLCA model as input and perform blackbox variational\n",
    "    inference, and returns a list of posterior distributions of hidden truth and source\n",
    "    reliability. \n",
    "    \n",
    "    Concretely, if s is a source then posterior(s) is the probability of s being honest.\n",
    "    And if o is an object, or more correctly, is a random variable that has the support as\n",
    "    the domain of an object, then posterior(o) is the distribution over these support.\n",
    "    The underlying truth value of an object could be computed as the mode of this\n",
    "    distribution.\n",
    "    \n",
    "    Parameters\n",
    "    ----------\n",
    "    simpleLCA_fn: function\n",
    "        a function that represents the simpleLCA generative models.\n",
    "        \n",
    "    Returns\n",
    "    -------\n",
    "    posteriors: list\n",
    "        a list of posterior distributions of hidden truths and source reliability.\n",
    "    \"\"\"\n",
    "    pass"
   ]
  },
  {
   "cell_type": "code",
   "execution_count": 12,
   "metadata": {},
   "outputs": [
    {
     "data": {
      "text/plain": [
       "(1046, 5)"
      ]
     },
     "execution_count": 12,
     "metadata": {},
     "output_type": "execute_result"
    }
   ],
   "source": [
    "claims.shape"
   ]
  },
  {
   "cell_type": "markdown",
   "metadata": {},
   "source": [
    "# Draft "
   ]
  },
  {
   "cell_type": "code",
   "execution_count": null,
   "metadata": {},
   "outputs": [],
   "source": []
  }
 ],
 "metadata": {
  "kernelspec": {
   "display_name": "Python 3",
   "language": "python",
   "name": "python3"
  },
  "language_info": {
   "codemirror_mode": {
    "name": "ipython",
    "version": 3
   },
   "file_extension": ".py",
   "mimetype": "text/x-python",
   "name": "python",
   "nbconvert_exporter": "python",
   "pygments_lexer": "ipython3",
   "version": "3.6.0"
  }
 },
 "nbformat": 4,
 "nbformat_minor": 4
}
