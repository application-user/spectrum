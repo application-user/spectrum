{
 "cells": [
  {
   "cell_type": "markdown",
   "metadata": {},
   "source": [
    "# Introduction \n",
    "\n",
    "In this notebook, we will implement [*Latent Credible Analysis*](https://research.fb.com/publications/latent-credibility-analysis/) models. These are latent probablistic models that use hidden (latent) variables to represents the unknown data source reliabilities and underlying truth values. \n",
    "\n",
    "We implement only simpleLCA for now as extension to other models are relatively straight forward."
   ]
  },
  {
   "cell_type": "markdown",
   "metadata": {},
   "source": [
    "\n",
    "\n",
    "# SimpleLCA\n",
    "\n",
    "Here is the plate model of simpleLCA. \n",
    "\n",
    "![simpleLCA](./gfx/simpleLCA.png)"
   ]
  },
  {
   "cell_type": "markdown",
   "metadata": {},
   "source": [
    "### Data "
   ]
  },
  {
   "cell_type": "code",
   "execution_count": 1,
   "metadata": {},
   "outputs": [],
   "source": [
    "%load_ext autoreload\n",
    "%autoreload 2"
   ]
  },
  {
   "cell_type": "code",
   "execution_count": 2,
   "metadata": {},
   "outputs": [],
   "source": [
    "import pandas as pd\n",
    "import os.path as op\n",
    "import numpy as np\n",
    "import seaborn as sns\n",
    "import pyro\n",
    "\n",
    "import sys\n",
    "sys.path.insert(0, '../')\n",
    "\n",
    "from spectrum.preprocessing import encoders\n",
    "from spectrum.judge import lca, utils\n",
    "from spectrum import evaluator"
   ]
  },
  {
   "cell_type": "code",
   "execution_count": 3,
   "metadata": {},
   "outputs": [],
   "source": [
    "DATA_DIR = '../data'\n",
    "DATA_SET = 'population'"
   ]
  },
  {
   "cell_type": "code",
   "execution_count": 4,
   "metadata": {},
   "outputs": [],
   "source": [
    "truths = pd.read_csv(op.join(DATA_DIR, DATA_SET, 'truths.csv'))\n",
    "claims = pd.read_csv(op.join(DATA_DIR, DATA_SET, 'claims.csv'))"
   ]
  },
  {
   "cell_type": "code",
   "execution_count": 5,
   "metadata": {},
   "outputs": [
    {
     "data": {
      "text/plain": [
       "((293, 3), (1035, 5))"
      ]
     },
     "execution_count": 5,
     "metadata": {},
     "output_type": "execute_result"
    }
   ],
   "source": [
    "truths.shape, claims.shape"
   ]
  },
  {
   "cell_type": "markdown",
   "metadata": {},
   "source": [
    "We decide to model city population as discrete value. Moreover we consider the hidden truth value is only from the set of available assertions. Thus we need to label encode `value` of claims data frame."
   ]
  },
  {
   "cell_type": "markdown",
   "metadata": {},
   "source": [
    "### Data Preprocessing "
   ]
  },
  {
   "cell_type": "markdown",
   "metadata": {},
   "source": [
    "We need to label encode values of objects in order to feed them to our simpleLCA model"
   ]
  },
  {
   "cell_type": "code",
   "execution_count": 6,
   "metadata": {},
   "outputs": [],
   "source": [
    "claims_enc, le_dict = encoders.transform(claims)"
   ]
  },
  {
   "cell_type": "code",
   "execution_count": 7,
   "metadata": {},
   "outputs": [
    {
     "data": {
      "text/html": [
       "<div>\n",
       "<style scoped>\n",
       "    .dataframe tbody tr th:only-of-type {\n",
       "        vertical-align: middle;\n",
       "    }\n",
       "\n",
       "    .dataframe tbody tr th {\n",
       "        vertical-align: top;\n",
       "    }\n",
       "\n",
       "    .dataframe thead th {\n",
       "        text-align: right;\n",
       "    }\n",
       "</style>\n",
       "<table border=\"1\" class=\"dataframe\">\n",
       "  <thead>\n",
       "    <tr style=\"text-align: right;\">\n",
       "      <th></th>\n",
       "      <th>object</th>\n",
       "      <th>SourceID</th>\n",
       "      <th>value</th>\n",
       "      <th>object_id</th>\n",
       "      <th>source_id</th>\n",
       "    </tr>\n",
       "  </thead>\n",
       "  <tbody>\n",
       "    <tr>\n",
       "      <td>0</td>\n",
       "      <td>pepin_wisconsin_Population2000</td>\n",
       "      <td>5512121: CapitalBot</td>\n",
       "      <td>0</td>\n",
       "      <td>197</td>\n",
       "      <td>555</td>\n",
       "    </tr>\n",
       "    <tr>\n",
       "      <td>1</td>\n",
       "      <td>pepin_wisconsin_Population2000</td>\n",
       "      <td>1960810: Nyttend</td>\n",
       "      <td>1</td>\n",
       "      <td>197</td>\n",
       "      <td>393</td>\n",
       "    </tr>\n",
       "    <tr>\n",
       "      <td>2</td>\n",
       "      <td>tupelo_mississippi_Population2000</td>\n",
       "      <td>104574: ArkansasTraveler</td>\n",
       "      <td>0</td>\n",
       "      <td>266</td>\n",
       "      <td>294</td>\n",
       "    </tr>\n",
       "    <tr>\n",
       "      <td>3</td>\n",
       "      <td>tupelo_mississippi_Population2000</td>\n",
       "      <td>0 (74.227.33.192)</td>\n",
       "      <td>1</td>\n",
       "      <td>266</td>\n",
       "      <td>252</td>\n",
       "    </tr>\n",
       "    <tr>\n",
       "      <td>4</td>\n",
       "      <td>tupelo_mississippi_Population2000</td>\n",
       "      <td>0 (72.147.247.16)</td>\n",
       "      <td>2</td>\n",
       "      <td>266</td>\n",
       "      <td>231</td>\n",
       "    </tr>\n",
       "    <tr>\n",
       "      <td>...</td>\n",
       "      <td>...</td>\n",
       "      <td>...</td>\n",
       "      <td>...</td>\n",
       "      <td>...</td>\n",
       "      <td>...</td>\n",
       "    </tr>\n",
       "    <tr>\n",
       "      <td>1030</td>\n",
       "      <td>onslow_iowa_Population2000</td>\n",
       "      <td>0 (216.159.16.2)</td>\n",
       "      <td>1</td>\n",
       "      <td>188</td>\n",
       "      <td>86</td>\n",
       "    </tr>\n",
       "    <tr>\n",
       "      <td>1031</td>\n",
       "      <td>onslow_iowa_Population2000</td>\n",
       "      <td>1960810: Nyttend</td>\n",
       "      <td>0</td>\n",
       "      <td>188</td>\n",
       "      <td>393</td>\n",
       "    </tr>\n",
       "    <tr>\n",
       "      <td>1032</td>\n",
       "      <td>onslow_iowa_Population2000</td>\n",
       "      <td>5967546: Tom hanks rox</td>\n",
       "      <td>2</td>\n",
       "      <td>188</td>\n",
       "      <td>574</td>\n",
       "    </tr>\n",
       "    <tr>\n",
       "      <td>1033</td>\n",
       "      <td>raleigh_northcarolina_Population2000</td>\n",
       "      <td>5512121: CapitalBot</td>\n",
       "      <td>0</td>\n",
       "      <td>208</td>\n",
       "      <td>555</td>\n",
       "    </tr>\n",
       "    <tr>\n",
       "      <td>1034</td>\n",
       "      <td>raleigh_northcarolina_Population2000</td>\n",
       "      <td>3352258: Aaronbrown0</td>\n",
       "      <td>1</td>\n",
       "      <td>208</td>\n",
       "      <td>478</td>\n",
       "    </tr>\n",
       "  </tbody>\n",
       "</table>\n",
       "<p>1035 rows × 5 columns</p>\n",
       "</div>"
      ],
      "text/plain": [
       "                                    object                  SourceID  value  \\\n",
       "0           pepin_wisconsin_Population2000       5512121: CapitalBot      0   \n",
       "1           pepin_wisconsin_Population2000          1960810: Nyttend      1   \n",
       "2        tupelo_mississippi_Population2000  104574: ArkansasTraveler      0   \n",
       "3        tupelo_mississippi_Population2000         0 (74.227.33.192)      1   \n",
       "4        tupelo_mississippi_Population2000         0 (72.147.247.16)      2   \n",
       "...                                    ...                       ...    ...   \n",
       "1030            onslow_iowa_Population2000          0 (216.159.16.2)      1   \n",
       "1031            onslow_iowa_Population2000          1960810: Nyttend      0   \n",
       "1032            onslow_iowa_Population2000    5967546: Tom hanks rox      2   \n",
       "1033  raleigh_northcarolina_Population2000       5512121: CapitalBot      0   \n",
       "1034  raleigh_northcarolina_Population2000      3352258: Aaronbrown0      1   \n",
       "\n",
       "      object_id  source_id  \n",
       "0           197        555  \n",
       "1           197        393  \n",
       "2           266        294  \n",
       "3           266        252  \n",
       "4           266        231  \n",
       "...         ...        ...  \n",
       "1030        188         86  \n",
       "1031        188        393  \n",
       "1032        188        574  \n",
       "1033        208        555  \n",
       "1034        208        478  \n",
       "\n",
       "[1035 rows x 5 columns]"
      ]
     },
     "execution_count": 7,
     "metadata": {},
     "output_type": "execute_result"
    }
   ],
   "source": [
    "claims_enc"
   ]
  },
  {
   "cell_type": "markdown",
   "metadata": {},
   "source": [
    "### Model"
   ]
  },
  {
   "cell_type": "markdown",
   "metadata": {},
   "source": [
    "# Inference "
   ]
  },
  {
   "cell_type": "code",
   "execution_count": 8,
   "metadata": {},
   "outputs": [],
   "source": [
    "import matplotlib.pyplot as plt\n",
    "import numpy as np\n",
    "import torch\n",
    "\n",
    "import pyro\n",
    "import pyro.infer\n",
    "import pyro.optim\n",
    "import pyro.distributions as dist\n",
    "\n",
    "pyro.set_rng_seed(101)"
   ]
  },
  {
   "cell_type": "code",
   "execution_count": 9,
   "metadata": {},
   "outputs": [],
   "source": [
    "# svi = lca.bvi(lca.lca_model, lca.lca_guide, claims_enc, epochs=20, num_samples=1, learning_rate=1e-5)\n",
    "svi = lca.bvi(lca.lca_model, lca.lca_guide, claims_enc, learning_rate=0.1, num_samples=1)"
   ]
  },
  {
   "cell_type": "code",
   "execution_count": 10,
   "metadata": {},
   "outputs": [],
   "source": [
    "losses = []"
   ]
  },
  {
   "cell_type": "code",
   "execution_count": 11,
   "metadata": {},
   "outputs": [
    {
     "name": "stdout",
     "output_type": "stream",
     "text": [
      "current loss - 9581.3154296875\n",
      "current loss - 9330.923828125\n",
      "current loss - 9390.5263671875\n",
      "current loss - 9604.5693359375\n",
      "current loss - 9418.4306640625\n"
     ]
    }
   ],
   "source": [
    "losses.extend(lca.fit(svi, claims_enc, epochs=5))"
   ]
  },
  {
   "cell_type": "code",
   "execution_count": 12,
   "metadata": {},
   "outputs": [
    {
     "name": "stderr",
     "output_type": "stream",
     "text": [
      "/Users/totucuong/miniconda3/envs/spectrum-dev/lib/python3.7/site-packages/seaborn/timeseries.py:183: UserWarning: The `tsplot` function is deprecated and will be removed in a future release. Please update your code to use the new `lineplot` function.\n",
      "  warnings.warn(msg, UserWarning)\n"
     ]
    },
    {
     "data": {
      "text/plain": [
       "<matplotlib.axes._subplots.AxesSubplot at 0x1c23be6750>"
      ]
     },
     "execution_count": 12,
     "metadata": {},
     "output_type": "execute_result"
    },
    {
     "data": {
      "image/png": "[encoded data removed]",
      "text/plain": [
       "<Figure size 432x288 with 1 Axes>"
      ]
     },
     "metadata": {
      "needs_background": "light"
     },
     "output_type": "display_data"
    }
   ],
   "source": [
    "sns.tsplot(losses)"
   ]
  },
  {
   "cell_type": "markdown",
   "metadata": {},
   "source": [
    "# Evaluation "
   ]
  },
  {
   "cell_type": "code",
   "execution_count": 13,
   "metadata": {},
   "outputs": [],
   "source": [
    "discovered_truths = lca.discover_truths(posteriors=pyro.get_param_store())"
   ]
  },
  {
   "cell_type": "markdown",
   "metadata": {},
   "source": [
    "We need to inverse transform the discovered truth value of each object into their original space."
   ]
  },
  {
   "cell_type": "code",
   "execution_count": 14,
   "metadata": {},
   "outputs": [],
   "source": [
    "discovered_truths['value'] = discovered_truths.apply(lambda x: le_dict[x['object_id']].inverse_transform([x['value']])[0], axis=1)"
   ]
  },
  {
   "cell_type": "code",
   "execution_count": 15,
   "metadata": {},
   "outputs": [
    {
     "data": {
      "text/plain": [
       "0.47440273037542663"
      ]
     },
     "execution_count": 15,
     "metadata": {},
     "output_type": "execute_result"
    }
   ],
   "source": [
    "evaluator.accuracy(truths, discovered_truths)"
   ]
  },
  {
   "cell_type": "markdown",
   "metadata": {},
   "source": [
    "The result is bad. This is expected if we look at the plot of loss values during training. They did not converge! The following can be reasons:\n",
    "    1. Since SVI estimate gradients at each training step by performing sampling of `guide()`. The default number of is 1. We may increase the estimation accuracy by increasing the number of training.\n",
    "    2. Our `guide()` model is just not good enough or `model()"
   ]
  },
  {
   "cell_type": "markdown",
   "metadata": {},
   "source": [
    "# Appendix"
   ]
  },
  {
   "cell_type": "raw",
   "metadata": {},
   "source": [
    "def generate_one_simpleLCA_sample(observation, mask):\n",
    "    tracer = pyro.poutine.trace(lca.lca_model)\n",
    "    trace = tracer.get_trace(observation, mask)\n",
    "\n",
    "    for name, node in trace.nodes.items():\n",
    "        if node['type'] == 'sample':\n",
    "            print(f'{node[\"name\"]} - sampled value {node[\"value\"]} ')\n",
    "    return trace\n",
    "\n",
    "# for i in range(3):\n",
    "#     generate_one_simpleLCA_sample(observation, mask)\n",
    "#     print('-'*10)"
   ]
  }
 ],
 "metadata": {
  "kernelspec": {
   "display_name": "Python 3",
   "language": "python",
   "name": "python3"
  },
  "language_info": {
   "codemirror_mode": {
    "name": "ipython",
    "version": 3
   },
   "file_extension": ".py",
   "mimetype": "text/x-python",
   "name": "python",
   "nbconvert_exporter": "python",
   "pygments_lexer": "ipython3",
   "version": "3.7.4"
  }
 },
 "nbformat": 4,
 "nbformat_minor": 4
}
