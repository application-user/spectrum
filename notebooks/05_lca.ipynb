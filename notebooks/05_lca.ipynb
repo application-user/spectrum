{
 "cells": [
  {
   "cell_type": "markdown",
   "metadata": {},
   "source": [
    "# Introduction \n",
    "\n",
    "In this notebook, we will implement [*Latent Credible Analysis*](https://research.fb.com/publications/latent-credibility-analysis/) models. These are latent probablistic models that use hidden (latent) variables to represents the unknown data source reliabilities and underlying truth values. \n",
    "\n",
    "We implement only simpleLCA for now as extension to other models are relatively straight forward."
   ]
  },
  {
   "cell_type": "markdown",
   "metadata": {},
   "source": [
    "# SimpleLCA\n",
    "\n",
    "Here is the plate model of simpleLCA. \n",
    "\n",
    "![simpleLCA](./gfx/simpleLCA.png)"
   ]
  },
  {
   "cell_type": "markdown",
   "metadata": {},
   "source": [
    "### Data "
   ]
  },
  {
   "cell_type": "code",
   "execution_count": 101,
   "metadata": {},
   "outputs": [
    {
     "name": "stdout",
     "output_type": "stream",
     "text": [
      "The autoreload extension is already loaded. To reload it, use:\n",
      "  %reload_ext autoreload\n"
     ]
    }
   ],
   "source": [
    "%load_ext autoreload\n",
    "%autoreload 2"
   ]
  },
  {
   "cell_type": "code",
   "execution_count": 102,
   "metadata": {},
   "outputs": [],
   "source": [
    "import pandas as pd\n",
    "import os.path as op\n",
    "import numpy as np\n",
    "import seaborn as sns\n",
    "import pyro"
   ]
  },
  {
   "cell_type": "code",
   "execution_count": 103,
   "metadata": {},
   "outputs": [],
   "source": [
    "import sys\n",
    "sys.path.insert(0, '../')"
   ]
  },
  {
   "cell_type": "code",
   "execution_count": 104,
   "metadata": {},
   "outputs": [],
   "source": [
    "from spectrum.preprocessing import encoders\n",
    "from spectrum.discovers import lca\n",
    "from spectrum.discovers import utils"
   ]
  },
  {
   "cell_type": "code",
   "execution_count": 105,
   "metadata": {},
   "outputs": [],
   "source": [
    "DATA_DIR = '../data'\n",
    "DATA_SET = 'population'"
   ]
  },
  {
   "cell_type": "code",
   "execution_count": 106,
   "metadata": {},
   "outputs": [],
   "source": [
    "truths = pd.read_csv(op.join(DATA_DIR, DATA_SET, 'truths.csv'))\n",
    "claims = pd.read_csv(op.join(DATA_DIR, DATA_SET, 'claims.csv'))"
   ]
  },
  {
   "cell_type": "code",
   "execution_count": 107,
   "metadata": {},
   "outputs": [
    {
     "data": {
      "text/html": [
       "<div>\n",
       "<style scoped>\n",
       "    .dataframe tbody tr th:only-of-type {\n",
       "        vertical-align: middle;\n",
       "    }\n",
       "\n",
       "    .dataframe tbody tr th {\n",
       "        vertical-align: top;\n",
       "    }\n",
       "\n",
       "    .dataframe thead th {\n",
       "        text-align: right;\n",
       "    }\n",
       "</style>\n",
       "<table border=\"1\" class=\"dataframe\">\n",
       "  <thead>\n",
       "    <tr style=\"text-align: right;\">\n",
       "      <th></th>\n",
       "      <th>object</th>\n",
       "      <th>value</th>\n",
       "      <th>object_id</th>\n",
       "    </tr>\n",
       "  </thead>\n",
       "  <tbody>\n",
       "    <tr>\n",
       "      <td>0</td>\n",
       "      <td>milton_newhampshire_Population2000</td>\n",
       "      <td>3910</td>\n",
       "      <td>157</td>\n",
       "    </tr>\n",
       "    <tr>\n",
       "      <td>1</td>\n",
       "      <td>omaha_nebraska_Population2000</td>\n",
       "      <td>390007</td>\n",
       "      <td>189</td>\n",
       "    </tr>\n",
       "    <tr>\n",
       "      <td>2</td>\n",
       "      <td>schaumburg_illinois_Population2000</td>\n",
       "      <td>75386</td>\n",
       "      <td>240</td>\n",
       "    </tr>\n",
       "    <tr>\n",
       "      <td>3</td>\n",
       "      <td>lakeoswego_oregon_Population2000</td>\n",
       "      <td>35278</td>\n",
       "      <td>127</td>\n",
       "    </tr>\n",
       "    <tr>\n",
       "      <td>4</td>\n",
       "      <td>culver_oregon_Population2000</td>\n",
       "      <td>802</td>\n",
       "      <td>53</td>\n",
       "    </tr>\n",
       "  </tbody>\n",
       "</table>\n",
       "</div>"
      ],
      "text/plain": [
       "                               object   value  object_id\n",
       "0  milton_newhampshire_Population2000    3910        157\n",
       "1       omaha_nebraska_Population2000  390007        189\n",
       "2  schaumburg_illinois_Population2000   75386        240\n",
       "3    lakeoswego_oregon_Population2000   35278        127\n",
       "4        culver_oregon_Population2000     802         53"
      ]
     },
     "execution_count": 107,
     "metadata": {},
     "output_type": "execute_result"
    }
   ],
   "source": [
    "truths.head()"
   ]
  },
  {
   "cell_type": "code",
   "execution_count": 108,
   "metadata": {},
   "outputs": [
    {
     "data": {
      "text/html": [
       "<div>\n",
       "<style scoped>\n",
       "    .dataframe tbody tr th:only-of-type {\n",
       "        vertical-align: middle;\n",
       "    }\n",
       "\n",
       "    .dataframe tbody tr th {\n",
       "        vertical-align: top;\n",
       "    }\n",
       "\n",
       "    .dataframe thead th {\n",
       "        text-align: right;\n",
       "    }\n",
       "</style>\n",
       "<table border=\"1\" class=\"dataframe\">\n",
       "  <thead>\n",
       "    <tr style=\"text-align: right;\">\n",
       "      <th></th>\n",
       "      <th>object</th>\n",
       "      <th>SourceID</th>\n",
       "      <th>value</th>\n",
       "      <th>object_id</th>\n",
       "      <th>source_id</th>\n",
       "    </tr>\n",
       "  </thead>\n",
       "  <tbody>\n",
       "    <tr>\n",
       "      <td>0</td>\n",
       "      <td>milton_newhampshire_Population2000</td>\n",
       "      <td>16168: SatyrTN</td>\n",
       "      <td>3910</td>\n",
       "      <td>157</td>\n",
       "      <td>352</td>\n",
       "    </tr>\n",
       "    <tr>\n",
       "      <td>1</td>\n",
       "      <td>milton_newhampshire_Population2000</td>\n",
       "      <td>0 (76.19.53.22)</td>\n",
       "      <td>23910</td>\n",
       "      <td>157</td>\n",
       "      <td>274</td>\n",
       "    </tr>\n",
       "    <tr>\n",
       "      <td>2</td>\n",
       "      <td>milton_newhampshire_Population2000</td>\n",
       "      <td>5512121: CapitalBot</td>\n",
       "      <td>3910</td>\n",
       "      <td>157</td>\n",
       "      <td>561</td>\n",
       "    </tr>\n",
       "    <tr>\n",
       "      <td>3</td>\n",
       "      <td>omaha_nebraska_Population2000</td>\n",
       "      <td>201610: Pentawing</td>\n",
       "      <td>390007</td>\n",
       "      <td>189</td>\n",
       "      <td>401</td>\n",
       "    </tr>\n",
       "    <tr>\n",
       "      <td>4</td>\n",
       "      <td>omaha_nebraska_Population2000</td>\n",
       "      <td>89326: Swid</td>\n",
       "      <td>390007</td>\n",
       "      <td>189</td>\n",
       "      <td>630</td>\n",
       "    </tr>\n",
       "  </tbody>\n",
       "</table>\n",
       "</div>"
      ],
      "text/plain": [
       "                               object             SourceID   value  object_id  \\\n",
       "0  milton_newhampshire_Population2000       16168: SatyrTN    3910        157   \n",
       "1  milton_newhampshire_Population2000      0 (76.19.53.22)   23910        157   \n",
       "2  milton_newhampshire_Population2000  5512121: CapitalBot    3910        157   \n",
       "3       omaha_nebraska_Population2000    201610: Pentawing  390007        189   \n",
       "4       omaha_nebraska_Population2000          89326: Swid  390007        189   \n",
       "\n",
       "   source_id  \n",
       "0        352  \n",
       "1        274  \n",
       "2        561  \n",
       "3        401  \n",
       "4        630  "
      ]
     },
     "execution_count": 108,
     "metadata": {},
     "output_type": "execute_result"
    }
   ],
   "source": [
    "claims.head()"
   ]
  },
  {
   "cell_type": "code",
   "execution_count": 109,
   "metadata": {},
   "outputs": [
    {
     "data": {
      "text/plain": [
       "((301, 3), (1046, 5))"
      ]
     },
     "execution_count": 109,
     "metadata": {},
     "output_type": "execute_result"
    }
   ],
   "source": [
    "truths.shape, claims.shape"
   ]
  },
  {
   "cell_type": "markdown",
   "metadata": {},
   "source": [
    "We decide to model city population as discrete value. Moreover we consider the hidden truth value is only from the set of available assertions. Thus we need to label encode `value` of claims data frame."
   ]
  },
  {
   "cell_type": "markdown",
   "metadata": {},
   "source": [
    "### Data Preprocessing "
   ]
  },
  {
   "cell_type": "markdown",
   "metadata": {},
   "source": [
    "We need to label encode values of objects in order to feed them to our simpleLCA model"
   ]
  },
  {
   "cell_type": "code",
   "execution_count": 110,
   "metadata": {},
   "outputs": [],
   "source": [
    "claims_enc, le_dict = encoders.transform(claims)"
   ]
  },
  {
   "cell_type": "markdown",
   "metadata": {},
   "source": [
    "build the confidence matrix, $[w_{s,o}]$ in the paper, if $w_{s,o} = 1$, then the source s does make an assertion about object o."
   ]
  },
  {
   "cell_type": "code",
   "execution_count": 111,
   "metadata": {},
   "outputs": [],
   "source": [
    "W = lca.build_mask(claims)"
   ]
  },
  {
   "cell_type": "code",
   "execution_count": 112,
   "metadata": {},
   "outputs": [
    {
     "data": {
      "text/plain": [
       "((643, 301), 643, 301)"
      ]
     },
     "execution_count": 112,
     "metadata": {},
     "output_type": "execute_result"
    }
   ],
   "source": [
    "W.shape, claims.source_id.nunique(), claims.object_id.nunique()"
   ]
  },
  {
   "cell_type": "markdown",
   "metadata": {},
   "source": [
    "we also need to build an observation dictionary."
   ]
  },
  {
   "cell_type": "code",
   "execution_count": 113,
   "metadata": {},
   "outputs": [
    {
     "data": {
      "text/html": [
       "<div>\n",
       "<style scoped>\n",
       "    .dataframe tbody tr th:only-of-type {\n",
       "        vertical-align: middle;\n",
       "    }\n",
       "\n",
       "    .dataframe tbody tr th {\n",
       "        vertical-align: top;\n",
       "    }\n",
       "\n",
       "    .dataframe thead th {\n",
       "        text-align: right;\n",
       "    }\n",
       "</style>\n",
       "<table border=\"1\" class=\"dataframe\">\n",
       "  <thead>\n",
       "    <tr style=\"text-align: right;\">\n",
       "      <th></th>\n",
       "      <th>object</th>\n",
       "      <th>SourceID</th>\n",
       "      <th>value</th>\n",
       "      <th>object_id</th>\n",
       "      <th>source_id</th>\n",
       "    </tr>\n",
       "  </thead>\n",
       "  <tbody>\n",
       "    <tr>\n",
       "      <td>0</td>\n",
       "      <td>milton_newhampshire_Population2000</td>\n",
       "      <td>16168: SatyrTN</td>\n",
       "      <td>3910</td>\n",
       "      <td>157</td>\n",
       "      <td>352</td>\n",
       "    </tr>\n",
       "    <tr>\n",
       "      <td>1</td>\n",
       "      <td>milton_newhampshire_Population2000</td>\n",
       "      <td>0 (76.19.53.22)</td>\n",
       "      <td>23910</td>\n",
       "      <td>157</td>\n",
       "      <td>274</td>\n",
       "    </tr>\n",
       "    <tr>\n",
       "      <td>2</td>\n",
       "      <td>milton_newhampshire_Population2000</td>\n",
       "      <td>5512121: CapitalBot</td>\n",
       "      <td>3910</td>\n",
       "      <td>157</td>\n",
       "      <td>561</td>\n",
       "    </tr>\n",
       "    <tr>\n",
       "      <td>3</td>\n",
       "      <td>omaha_nebraska_Population2000</td>\n",
       "      <td>201610: Pentawing</td>\n",
       "      <td>390007</td>\n",
       "      <td>189</td>\n",
       "      <td>401</td>\n",
       "    </tr>\n",
       "    <tr>\n",
       "      <td>4</td>\n",
       "      <td>omaha_nebraska_Population2000</td>\n",
       "      <td>89326: Swid</td>\n",
       "      <td>390007</td>\n",
       "      <td>189</td>\n",
       "      <td>630</td>\n",
       "    </tr>\n",
       "  </tbody>\n",
       "</table>\n",
       "</div>"
      ],
      "text/plain": [
       "                               object             SourceID   value  object_id  \\\n",
       "0  milton_newhampshire_Population2000       16168: SatyrTN    3910        157   \n",
       "1  milton_newhampshire_Population2000      0 (76.19.53.22)   23910        157   \n",
       "2  milton_newhampshire_Population2000  5512121: CapitalBot    3910        157   \n",
       "3       omaha_nebraska_Population2000    201610: Pentawing  390007        189   \n",
       "4       omaha_nebraska_Population2000          89326: Swid  390007        189   \n",
       "\n",
       "   source_id  \n",
       "0        352  \n",
       "1        274  \n",
       "2        561  \n",
       "3        401  \n",
       "4        630  "
      ]
     },
     "execution_count": 113,
     "metadata": {},
     "output_type": "execute_result"
    }
   ],
   "source": [
    "claims.head()"
   ]
  },
  {
   "cell_type": "code",
   "execution_count": 114,
   "metadata": {},
   "outputs": [
    {
     "data": {
      "text/html": [
       "<div>\n",
       "<style scoped>\n",
       "    .dataframe tbody tr th:only-of-type {\n",
       "        vertical-align: middle;\n",
       "    }\n",
       "\n",
       "    .dataframe tbody tr th {\n",
       "        vertical-align: top;\n",
       "    }\n",
       "\n",
       "    .dataframe thead th {\n",
       "        text-align: right;\n",
       "    }\n",
       "</style>\n",
       "<table border=\"1\" class=\"dataframe\">\n",
       "  <thead>\n",
       "    <tr style=\"text-align: right;\">\n",
       "      <th></th>\n",
       "      <th>object</th>\n",
       "      <th>SourceID</th>\n",
       "      <th>value</th>\n",
       "      <th>object_id</th>\n",
       "      <th>source_id</th>\n",
       "    </tr>\n",
       "  </thead>\n",
       "  <tbody>\n",
       "    <tr>\n",
       "      <td>0</td>\n",
       "      <td>milton_newhampshire_Population2000</td>\n",
       "      <td>16168: SatyrTN</td>\n",
       "      <td>0</td>\n",
       "      <td>157</td>\n",
       "      <td>352</td>\n",
       "    </tr>\n",
       "    <tr>\n",
       "      <td>1</td>\n",
       "      <td>milton_newhampshire_Population2000</td>\n",
       "      <td>0 (76.19.53.22)</td>\n",
       "      <td>1</td>\n",
       "      <td>157</td>\n",
       "      <td>274</td>\n",
       "    </tr>\n",
       "    <tr>\n",
       "      <td>2</td>\n",
       "      <td>milton_newhampshire_Population2000</td>\n",
       "      <td>5512121: CapitalBot</td>\n",
       "      <td>0</td>\n",
       "      <td>157</td>\n",
       "      <td>561</td>\n",
       "    </tr>\n",
       "    <tr>\n",
       "      <td>3</td>\n",
       "      <td>omaha_nebraska_Population2000</td>\n",
       "      <td>201610: Pentawing</td>\n",
       "      <td>0</td>\n",
       "      <td>189</td>\n",
       "      <td>401</td>\n",
       "    </tr>\n",
       "    <tr>\n",
       "      <td>4</td>\n",
       "      <td>omaha_nebraska_Population2000</td>\n",
       "      <td>89326: Swid</td>\n",
       "      <td>0</td>\n",
       "      <td>189</td>\n",
       "      <td>630</td>\n",
       "    </tr>\n",
       "  </tbody>\n",
       "</table>\n",
       "</div>"
      ],
      "text/plain": [
       "                               object             SourceID  value  object_id  \\\n",
       "0  milton_newhampshire_Population2000       16168: SatyrTN      0        157   \n",
       "1  milton_newhampshire_Population2000      0 (76.19.53.22)      1        157   \n",
       "2  milton_newhampshire_Population2000  5512121: CapitalBot      0        157   \n",
       "3       omaha_nebraska_Population2000    201610: Pentawing      0        189   \n",
       "4       omaha_nebraska_Population2000          89326: Swid      0        189   \n",
       "\n",
       "   source_id  \n",
       "0        352  \n",
       "1        274  \n",
       "2        561  \n",
       "3        401  \n",
       "4        630  "
      ]
     },
     "execution_count": 114,
     "metadata": {},
     "output_type": "execute_result"
    }
   ],
   "source": [
    "claims_enc.head()"
   ]
  },
  {
   "cell_type": "code",
   "execution_count": 115,
   "metadata": {},
   "outputs": [],
   "source": [
    "observation = lca.build_observation(claims_enc)"
   ]
  },
  {
   "cell_type": "code",
   "execution_count": 116,
   "metadata": {},
   "outputs": [],
   "source": [
    "# claims.groupby(['object_id']).nunique()"
   ]
  },
  {
   "cell_type": "markdown",
   "metadata": {},
   "source": [
    "### Model"
   ]
  },
  {
   "cell_type": "markdown",
   "metadata": {},
   "source": [
    "Create some data"
   ]
  },
  {
   "cell_type": "code",
   "execution_count": 117,
   "metadata": {},
   "outputs": [],
   "source": [
    "claims = dict()\n",
    "claims['source_id'] = [0, 0, 1]\n",
    "claims['object_id'] = [0, 1, 1]\n",
    "claims['value'] = [0, 1, 0]\n",
    "claims = pd.DataFrame(data=claims)"
   ]
  },
  {
   "cell_type": "markdown",
   "metadata": {},
   "source": [
    "build inputs for simpleLCA model"
   ]
  },
  {
   "cell_type": "code",
   "execution_count": 118,
   "metadata": {},
   "outputs": [],
   "source": [
    "mask = lca.build_mask(claims)\n",
    "observation = lca.build_observation(claims)"
   ]
  },
  {
   "cell_type": "code",
   "execution_count": 119,
   "metadata": {},
   "outputs": [],
   "source": [
    "def generate_one_simpleLCA_sample(observation, mask):\n",
    "    tracer = pyro.poutine.trace(lca.lca_model)\n",
    "    trace = tracer.get_trace(observation, mask)\n",
    "\n",
    "    for name, node in trace.nodes.items():\n",
    "        if node['type'] == 'sample':\n",
    "            print(f'{node[\"name\"]} - sampled value {node[\"value\"]} ')\n",
    "    return trace"
   ]
  },
  {
   "cell_type": "code",
   "execution_count": 120,
   "metadata": {},
   "outputs": [
    {
     "name": "stdout",
     "output_type": "stream",
     "text": [
      "s_0 - sampled value 1.0 \n",
      "s_1 - sampled value 0.0 \n",
      "y_0 - sampled value 0 \n",
      "y_1 - sampled value 1 \n",
      "b_0_0 - sampled value 0 \n",
      "b_0_1 - sampled value 1 \n",
      "b_1_1 - sampled value 0 \n",
      "----------\n",
      "s_0 - sampled value 0.0 \n",
      "s_1 - sampled value 0.0 \n",
      "y_0 - sampled value 0 \n",
      "y_1 - sampled value 0 \n",
      "b_0_0 - sampled value 0 \n",
      "b_0_1 - sampled value 0 \n",
      "b_1_1 - sampled value 1 \n",
      "----------\n",
      "s_0 - sampled value 0.0 \n",
      "s_1 - sampled value 0.0 \n",
      "y_0 - sampled value 0 \n",
      "y_1 - sampled value 1 \n",
      "b_0_0 - sampled value 0 \n",
      "b_0_1 - sampled value 1 \n",
      "b_1_1 - sampled value 1 \n",
      "----------\n"
     ]
    }
   ],
   "source": [
    "for i in range(3):\n",
    "    generate_one_simpleLCA_sample(observation, mask)\n",
    "    print('-'*10)"
   ]
  },
  {
   "cell_type": "code",
   "execution_count": 121,
   "metadata": {},
   "outputs": [],
   "source": [
    "data = lca.make_observation_mapper(observation, mask)"
   ]
  },
  {
   "cell_type": "code",
   "execution_count": 122,
   "metadata": {},
   "outputs": [],
   "source": [
    "conditioned_model = pyro.condition(lca.lca_model, data=data)"
   ]
  },
  {
   "cell_type": "code",
   "execution_count": 123,
   "metadata": {},
   "outputs": [],
   "source": [
    "tracer = pyro.poutine.trace(conditioned_model)"
   ]
  },
  {
   "cell_type": "code",
   "execution_count": 124,
   "metadata": {},
   "outputs": [],
   "source": [
    "trace = tracer.get_trace(observation, mask)"
   ]
  },
  {
   "cell_type": "code",
   "execution_count": 125,
   "metadata": {},
   "outputs": [
    {
     "data": {
      "text/plain": [
       "tensor(-3.4657, grad_fn=<AddBackward0>)"
      ]
     },
     "execution_count": 125,
     "metadata": {},
     "output_type": "execute_result"
    }
   ],
   "source": [
    "trace.log_prob_sum()"
   ]
  },
  {
   "cell_type": "code",
   "execution_count": 126,
   "metadata": {},
   "outputs": [
    {
     "name": "stdout",
     "output_type": "stream",
     "text": [
      "s_0 - sampled value 0.0\n",
      "s_1 - sampled value 1.0\n",
      "y_0 - sampled value 0\n",
      "y_1 - sampled value 0\n",
      "b_0_0 - sampled value 0\n",
      "b_0_1 - sampled value 1\n",
      "b_1_1 - sampled value 0\n"
     ]
    }
   ],
   "source": [
    "utils.print_trace(trace)"
   ]
  },
  {
   "cell_type": "code",
   "execution_count": 127,
   "metadata": {},
   "outputs": [
    {
     "data": {
      "text/plain": [
       "{'b_0_0': tensor(0), 'b_0_1': tensor(1), 'b_1_1': tensor(0)}"
      ]
     },
     "execution_count": 127,
     "metadata": {},
     "output_type": "execute_result"
    }
   ],
   "source": [
    "data"
   ]
  },
  {
   "cell_type": "markdown",
   "metadata": {},
   "source": [
    "# Inference"
   ]
  }
 ],
 "metadata": {
  "kernelspec": {
   "display_name": "Python 3",
   "language": "python",
   "name": "python3"
  },
  "language_info": {
   "codemirror_mode": {
    "name": "ipython",
    "version": 3
   },
   "file_extension": ".py",
   "mimetype": "text/x-python",
   "name": "python",
   "nbconvert_exporter": "python",
   "pygments_lexer": "ipython3",
   "version": "3.6.1"
  }
 },
 "nbformat": 4,
 "nbformat_minor": 4
}
