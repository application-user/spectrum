{
 "cells": [
  {
   "cell_type": "code",
   "execution_count": 2,
   "metadata": {},
   "outputs": [],
   "source": [
    "%load_ext autoreload\n",
    "%autoreload 2"
   ]
  },
  {
   "cell_type": "code",
   "execution_count": 3,
   "metadata": {},
   "outputs": [],
   "source": [
    "import pandas as pd\n",
    "import os.path as op\n",
    "import numpy as np\n",
    "import seaborn as sns\n",
    "import pyro\n",
    "\n",
    "import sys\n",
    "sys.path.insert(0, '../')\n",
    "\n",
    "from spectrum.preprocessing import encoders\n",
    "from spectrum.judge import lca, utils\n",
    "\n",
    "from spectrum import evaluator"
   ]
  },
  {
   "cell_type": "markdown",
   "metadata": {},
   "source": [
    "Create some data"
   ]
  },
  {
   "cell_type": "code",
   "execution_count": 4,
   "metadata": {},
   "outputs": [],
   "source": [
    "claims = dict()\n",
    "claims['source_id'] = [0, 0, 1, 1]\n",
    "claims['object_id'] = [0, 1, 1, 0]\n",
    "claims['value'] = [0, 1, 0, 1]\n",
    "# claims['domain_size'] = [2, 2, 2, 2]\n",
    "claims = pd.DataFrame(data=claims)\n",
    "\n",
    "mask = lca.build_mask(claims)\n",
    "observation = lca.build_observation(claims)"
   ]
  },
  {
   "cell_type": "markdown",
   "metadata": {},
   "source": [
    "### Model with observation"
   ]
  },
  {
   "cell_type": "code",
   "execution_count": 5,
   "metadata": {},
   "outputs": [
    {
     "name": "stdout",
     "output_type": "stream",
     "text": [
      "s_0 - sampled value 1.0\n",
      "s_1 - sampled value 0.0\n",
      "y_0 - sampled value 1\n",
      "y_1 - sampled value 0\n",
      "b_0_0 - sampled value 1\n",
      "b_0_1 - sampled value 0\n",
      "b_1_1 - sampled value 1\n",
      "b_1_0 - sampled value 0\n"
     ]
    }
   ],
   "source": [
    "utils.print_trace(pyro.poutine.trace(lca.lca_model).get_trace(claims))"
   ]
  },
  {
   "cell_type": "code",
   "execution_count": 6,
   "metadata": {},
   "outputs": [],
   "source": [
    "trace = pyro.poutine.trace(lca.lca_model).get_trace(claims)"
   ]
  },
  {
   "cell_type": "code",
   "execution_count": 7,
   "metadata": {},
   "outputs": [
    {
     "data": {
      "text/plain": [
       "tensor(-2.2423, grad_fn=<AddBackward0>)"
      ]
     },
     "execution_count": 7,
     "metadata": {},
     "output_type": "execute_result"
    }
   ],
   "source": [
    "trace.log_prob_sum()"
   ]
  },
  {
   "cell_type": "code",
   "execution_count": 8,
   "metadata": {},
   "outputs": [
    {
     "name": "stdout",
     "output_type": "stream",
     "text": [
      "s_0 - sampled value 1.0\n",
      "s_1 - sampled value 0.0\n",
      "y_0 - sampled value 0\n",
      "y_1 - sampled value 0\n",
      "b_0_0 - sampled value 0\n",
      "b_0_1 - sampled value 1\n",
      "b_1_1 - sampled value 0\n",
      "b_1_0 - sampled value 1\n",
      "__________\n",
      "s_0 - sampled value 1.0\n",
      "s_1 - sampled value 0.0\n",
      "y_0 - sampled value 0\n",
      "y_1 - sampled value 0\n",
      "b_0_0 - sampled value 0\n",
      "b_0_1 - sampled value 1\n",
      "b_1_1 - sampled value 0\n",
      "b_1_0 - sampled value 1\n",
      "__________\n",
      "s_0 - sampled value 0.0\n",
      "s_1 - sampled value 0.0\n",
      "y_0 - sampled value 0\n",
      "y_1 - sampled value 1\n",
      "b_0_0 - sampled value 0\n",
      "b_0_1 - sampled value 1\n",
      "b_1_1 - sampled value 0\n",
      "b_1_0 - sampled value 1\n",
      "__________\n"
     ]
    }
   ],
   "source": [
    "data = lca.make_observation_mapper(claims)\n",
    "conditioned_lca = pyro.condition(lca.lca_model, data=data)\n",
    "\n",
    "for i in range(3):\n",
    "    utils.print_trace(pyro.poutine.trace(conditioned_lca).get_trace(claims))\n",
    "    print('_' * 10)"
   ]
  },
  {
   "cell_type": "markdown",
   "metadata": {},
   "source": [
    "### Guide"
   ]
  },
  {
   "cell_type": "code",
   "execution_count": 9,
   "metadata": {},
   "outputs": [
    {
     "data": {
      "text/plain": [
       "\u001b[0;31mSignature:\u001b[0m \u001b[0mlca\u001b[0m\u001b[0;34m.\u001b[0m\u001b[0mlca_guide\u001b[0m\u001b[0;34m(\u001b[0m\u001b[0mclaims\u001b[0m\u001b[0;34m)\u001b[0m\u001b[0;34m\u001b[0m\u001b[0;34m\u001b[0m\u001b[0m\n",
       "\u001b[0;31mDocstring:\u001b[0m\n",
       "Build a guide for lca_model.\n",
       "\n",
       "A guide is an approximation of the real posterior distribution p(z|D), \n",
       "where z represents hidden variables and D is a training dataset.\n",
       "A guide is needed to perform variational inference.\n",
       "\n",
       "Parameters\n",
       "----------\n",
       "\u001b[0;31mFile:\u001b[0m      ~/projects/spectrum/spectrum/judge/lca.py\n",
       "\u001b[0;31mType:\u001b[0m      function\n"
      ]
     },
     "metadata": {},
     "output_type": "display_data"
    }
   ],
   "source": [
    "lca.lca_guide?"
   ]
  },
  {
   "cell_type": "code",
   "execution_count": 10,
   "metadata": {},
   "outputs": [
    {
     "name": "stdout",
     "output_type": "stream",
     "text": [
      "s_0 - sampled value 0.0\n",
      "s_1 - sampled value 0.0\n",
      "y_0 - sampled value 1\n",
      "y_1 - sampled value 0\n",
      "__________\n",
      "s_0 - sampled value 0.0\n",
      "s_1 - sampled value 0.0\n",
      "y_0 - sampled value 1\n",
      "y_1 - sampled value 1\n",
      "__________\n",
      "s_0 - sampled value 0.0\n",
      "s_1 - sampled value 0.0\n",
      "y_0 - sampled value 0\n",
      "y_1 - sampled value 1\n",
      "__________\n"
     ]
    }
   ],
   "source": [
    "for i in range(3):\n",
    "    utils.print_trace(pyro.poutine.trace(lca.lca_guide).get_trace(claims))\n",
    "    print('_' * 10)"
   ]
  },
  {
   "cell_type": "code",
   "execution_count": 11,
   "metadata": {},
   "outputs": [],
   "source": [
    "params = pyro.get_param_store()"
   ]
  },
  {
   "cell_type": "code",
   "execution_count": 12,
   "metadata": {},
   "outputs": [
    {
     "data": {
      "text/plain": [
       "tensor(-0.0657, requires_grad=True)"
      ]
     },
     "execution_count": 12,
     "metadata": {},
     "output_type": "execute_result"
    }
   ],
   "source": [
    "params['theta_s_0']"
   ]
  },
  {
   "cell_type": "code",
   "execution_count": 13,
   "metadata": {},
   "outputs": [],
   "source": [
    "def generate_one_simpleLCA_sample(observation, mask):\n",
    "    tracer = pyro.poutine.trace(conditioned_lca)\n",
    "    trace = tracer.get_trace(observation, mask)\n",
    "\n",
    "    for name, node in trace.nodes.items():\n",
    "        if node['type'] == 'sample':\n",
    "            print(f'{node[\"name\"]} - sampled value {node[\"value\"]} ')\n",
    "    return trace"
   ]
  },
  {
   "cell_type": "code",
   "execution_count": null,
   "metadata": {},
   "outputs": [],
   "source": []
  }
 ],
 "metadata": {
  "kernelspec": {
   "display_name": "Python 3",
   "language": "python",
   "name": "python3"
  },
  "language_info": {
   "codemirror_mode": {
    "name": "ipython",
    "version": 3
   },
   "file_extension": ".py",
   "mimetype": "text/x-python",
   "name": "python",
   "nbconvert_exporter": "python",
   "pygments_lexer": "ipython3",
   "version": "3.7.4"
  }
 },
 "nbformat": 4,
 "nbformat_minor": 4
}
