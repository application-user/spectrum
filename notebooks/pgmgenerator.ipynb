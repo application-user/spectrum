{
 "cells": [
  {
   "cell_type": "code",
   "execution_count": 3,
   "metadata": {},
   "outputs": [],
   "source": [
    "import matplotlib.pyplot as plt\n",
    "%matplotlib inline"
   ]
  },
  {
   "cell_type": "code",
   "execution_count": 214,
   "metadata": {},
   "outputs": [
    {
     "data": {
      "image/png": "[encoded data removed]",
      "text/plain": [
       "<Figure size 340.157x226.772 with 1 Axes>"
      ]
     },
     "metadata": {},
     "output_type": "display_data"
    }
   ],
   "source": [
    "from matplotlib import rc\n",
    "rc(\"font\", family=\"serif\", size=15)\n",
    "rc(\"text\", usetex=True)\n",
    "\n",
    "import daft\n",
    "\n",
    "pgm = daft.PGM([6, 4], origin=[0.1, 0.1])\n",
    "\n",
    "# hyperparameters\n",
    "pgm.add_node(daft.Node('alpha', r'$\\alpha$', 0.5, 1.3, fixed=True))\n",
    "pgm.add_node(daft.Node('beta', r'$\\beta$', 3, 4, fixed=True))\n",
    "\n",
    "# other variables\n",
    "pgm.add_node(daft.Node('source', r'$s$',3, 2.8 ))\n",
    "pgm.add_node(daft.Node('value', r'$c_{s,o}$', 3, 1.3, observed=True))\n",
    "pgm.add_node(daft.Node('fact', r'$o$',1.4, 1.3))\n",
    "\n",
    "pgm.add_edge('beta', 'source')\n",
    "pgm.add_edge('alpha', 'fact')\n",
    "pgm.add_edge('fact', 'value')\n",
    "pgm.add_edge('source', 'value')\n",
    "\n",
    "bbox_props = dict(boxstyle=\"square,pad=0.3\", fill=False, ec='w')\n",
    "# bbox_props = {'boxstyle': 'square', 'fill': False, 'ec':'w'}\n",
    "\n",
    "pgm.add_plate(daft.Plate([1, 0.5, 3, 1.9], label_offset = [150,6],\n",
    "        label=r\"$O$\", bbox=bbox_props))\n",
    "\n",
    "pgm.add_plate(daft.Plate([1.8, 0.3, 2.6, 3], label_offset = [130,16],\n",
    "        label=r\"$S$\", bbox=bbox_props))\n",
    "\n",
    "pgm.add_plate(daft.Plate([1.9, 0.9, 2, 1], label_offset = [95,10],\n",
    "        label=r\"$C^o$\", bbox=bbox_props))\n",
    "\n",
    "# rendering\n",
    "pgm.render()\n",
    "pgm.figure.savefig(\"./pgm_truthfinding.pdf\")\n"
   ]
  },
  {
   "cell_type": "code",
   "execution_count": 4,
   "metadata": {},
   "outputs": [
    {
     "ename": "TypeError",
     "evalue": "__init__() missing 2 required positional arguments: 'x' and 'y'",
     "output_type": "error",
     "traceback": [
      "\u001b[0;31m---------------------------------------------------------------------------\u001b[0m",
      "\u001b[0;31mTypeError\u001b[0m                                 Traceback (most recent call last)",
      "\u001b[0;32m<ipython-input-4-4068b8fedd06>\u001b[0m in \u001b[0;36m<module>\u001b[0;34m()\u001b[0m\n\u001b[1;32m      7\u001b[0m \u001b[0mpgm\u001b[0m\u001b[0;34m.\u001b[0m\u001b[0madd_node\u001b[0m\u001b[0;34m(\u001b[0m\u001b[0mdaft\u001b[0m\u001b[0;34m.\u001b[0m\u001b[0mNode\u001b[0m\u001b[0;34m(\u001b[0m\u001b[0;34m'value'\u001b[0m\u001b[0;34m,\u001b[0m \u001b[0;34mr'$v_o^s$'\u001b[0m\u001b[0;34m,\u001b[0m \u001b[0;36m3\u001b[0m\u001b[0;34m,\u001b[0m \u001b[0;36m1.65\u001b[0m\u001b[0;34m)\u001b[0m\u001b[0;34m)\u001b[0m\u001b[0;34m\u001b[0m\u001b[0m\n\u001b[1;32m      8\u001b[0m \u001b[0mpgm\u001b[0m\u001b[0;34m.\u001b[0m\u001b[0madd_node\u001b[0m\u001b[0;34m(\u001b[0m\u001b[0mdaft\u001b[0m\u001b[0;34m.\u001b[0m\u001b[0mNode\u001b[0m\u001b[0;34m(\u001b[0m\u001b[0;34m'true_value'\u001b[0m\u001b[0;34m,\u001b[0m \u001b[0;34mr'$v_o^*$'\u001b[0m\u001b[0;34m,\u001b[0m\u001b[0;36m1\u001b[0m\u001b[0;34m,\u001b[0m \u001b[0;36m1.65\u001b[0m\u001b[0;34m)\u001b[0m\u001b[0;34m)\u001b[0m\u001b[0;34m\u001b[0m\u001b[0m\n\u001b[0;32m----> 9\u001b[0;31m \u001b[0mpgm\u001b[0m\u001b[0;34m.\u001b[0m\u001b[0madd_node\u001b[0m\u001b[0;34m(\u001b[0m\u001b[0mdaft\u001b[0m\u001b[0;34m.\u001b[0m\u001b[0mNode\u001b[0m\u001b[0;34m(\u001b[0m\u001b[0;34m'weight'\u001b[0m\u001b[0;34m,\u001b[0m \u001b[0;34mr'$w_o^s$'\u001b[0m\u001b[0;34m)\u001b[0m\u001b[0;34m)\u001b[0m\u001b[0;34m\u001b[0m\u001b[0m\n\u001b[0m\u001b[1;32m     10\u001b[0m \u001b[0;34m\u001b[0m\u001b[0m\n\u001b[1;32m     11\u001b[0m \u001b[0mpgm\u001b[0m\u001b[0;34m.\u001b[0m\u001b[0madd_edge\u001b[0m\u001b[0;34m(\u001b[0m\u001b[0;34m'true_value'\u001b[0m\u001b[0;34m,\u001b[0m \u001b[0;34m'value'\u001b[0m\u001b[0;34m)\u001b[0m\u001b[0;34m\u001b[0m\u001b[0m\n",
      "\u001b[0;31mTypeError\u001b[0m: __init__() missing 2 required positional arguments: 'x' and 'y'"
     ]
    }
   ],
   "source": [
    "pgm = daft.PGM([6, 4], origin=[0.3, 0.3])\n",
    "\n",
    "# hyperparameters\n",
    "\n",
    "# other variables\n",
    "pgm.add_node(daft.Node('source', r'$s$',3, 3.4 ))\n",
    "pgm.add_node(daft.Node('value', r'$v_o^s$', 3, 1.65))\n",
    "pgm.add_node(daft.Node('true_value', r'$v_o^*$',1, 1.65))\n",
    "pgm.add_node(daft.Node('weight', r'$w_o^s$'))\n",
    "\n",
    "pgm.add_edge('true_value', 'value')\n",
    "pgm.add_edge('source', 'value')\n",
    "\n",
    "bbox_props = dict(boxstyle=\"square,pad=0.3\", fill=False, ec='w')\n",
    "# bbox_props = {'boxstyle': 'square', 'fill': False, 'ec':'w'}\n",
    "pgm.add_plate(daft.Plate([1.5, 0.4, 3, 3.5], label_offset = [145,10],\n",
    "        label=r\"$|S|$\", bbox=bbox_props))\n",
    "pgm.add_plate(daft.Plate([1.8, 1.2, 2.3, 0.8], label_offset = [100,10],\n",
    "        label=r\"$|V_o|$\", bbox=bbox_props))\n",
    "pgm.add_plate(daft.Plate([0.4, 1, 5, 2], label_offset = [250,10],\n",
    "        label=r\"$|O|$\", bbox=bbox_props))\n",
    "\n",
    "# rendering\n",
    "pgm.render()\n",
    "pgm.figure.savefig(\"lca.pdf\")\n"
   ]
  },
  {
   "cell_type": "code",
   "execution_count": 1,
   "metadata": {},
   "outputs": [
    {
     "name": "stdout",
     "output_type": "stream",
     "text": [
      "2.1.1 /usr/local/lib/python3.6/site-packages/matplotlib/__init__.py\n"
     ]
    }
   ],
   "source": [
    "import matplotlib; print(matplotlib.__version__, matplotlib.__file__)"
   ]
  },
  {
   "cell_type": "markdown",
   "metadata": {},
   "source": [
    "# GMM"
   ]
  },
  {
   "cell_type": "code",
   "execution_count": 56,
   "metadata": {},
   "outputs": [
    {
     "data": {
      "image/png": "[encoded data removed]",
      "text/plain": [
       "<matplotlib.figure.Figure at 0x10b9324a8>"
      ]
     },
     "metadata": {},
     "output_type": "display_data"
    }
   ],
   "source": [
    "pgm = daft.PGM([6, 4], origin=[0.3, 0.3])\n",
    "\n",
    "# hyperparameters\n",
    "pgm.add_node(daft.Node('pi', r'$\\pmb{\\pi}$', 0.6, 3.5, fixed=True))\n",
    "pgm.add_node(daft.Node('mu', r'$\\mu$', 0.6, 1.65, fixed=True))\n",
    "pgm.add_node(daft.Node('sigma', r'$\\pmb{\\Sigma}$', 4, 1.65, fixed=True))\n",
    "\n",
    "# other variables\n",
    "pgm.add_node(daft.Node('zn', r'$z_n$',2.2, 3.5 ))\n",
    "pgm.add_node(daft.Node('xn', r'$x_n$', 2.2, 1.65, observed=True))\n",
    "\n",
    "pgm.add_edge('pi', 'zn')\n",
    "pgm.add_edge('mu', 'xn')\n",
    "pgm.add_edge('sigma', 'xn')\n",
    "pgm.add_edge('zn', 'xn')\n",
    "\n",
    "bbox_props = dict(boxstyle=\"square,pad=0.3\", fill=False, ec='w')\n",
    "pgm.add_plate(daft.Plate([1.5, 1, 1.3, 3], label_offset = [55,10],\n",
    "        label=r'$N$', bbox=bbox_props))\n",
    "\n",
    "# # bbox_props = {'boxstyle': 'square', 'fill': False, 'ec':'w'}\n",
    "# pgm.add_plate(daft.Plate([1.5, 2.45, 3, 0.8], label_offset = [145,10],\n",
    "#         label=r\"$|S|$\", bbox=bbox_props))\n",
    "# pgm.add_plate(daft.Plate([1.8, 1.2, 3, 0.8], label_offset = [145,10],\n",
    "#         label=r\"$|V|$\", bbox=bbox_props))\n",
    "# pgm.add_plate(daft.Plate([0.9, 1, 4.5, 1.2], label_offset = [230,10],\n",
    "#         label=r\"$|O|$\", bbox=bbox_props))\n",
    "\n",
    "# rendering\n",
    "pgm.render()\n",
    "pgm.figure.savefig(\"gmm.pdf\")"
   ]
  },
  {
   "cell_type": "code",
   "execution_count": null,
   "metadata": {},
   "outputs": [],
   "source": []
  }
 ],
 "metadata": {
  "kernelspec": {
   "display_name": "Python 3",
   "language": "python",
   "name": "python3"
  },
  "language_info": {
   "codemirror_mode": {
    "name": "ipython",
    "version": 3
   },
   "file_extension": ".py",
   "mimetype": "text/x-python",
   "name": "python",
   "nbconvert_exporter": "python",
   "pygments_lexer": "ipython3",
   "version": "3.6.8"
  }
 },
 "nbformat": 4,
 "nbformat_minor": 2
}
