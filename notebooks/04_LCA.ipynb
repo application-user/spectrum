{
 "cells": [
  {
   "cell_type": "markdown",
   "metadata": {},
   "source": [
    "# Introduction\n",
    "\n",
    "In this notebook, we implement *Latent Credible Analysis* (LCA) models [1] using Pyro. The following LCA models are implemented:\n",
    "\n",
    "1. SimpleLCA\n",
    "2. GuessLCA\n",
    "3. MistakeLCA\n",
    "4. LieLCA\n",
    "\n",
    "We will implement these model as probabilistic program written in Pyro and use blackbox variational inference to reason about hidden truths. [1] uses expectation maximization insteads. Our idea is to show that BBVI has the same performance while not requiring modelers' effort of deriving formulas for E and M steps in EM algorithm."
   ]
  },
  {
   "cell_type": "markdown",
   "metadata": {},
   "source": [
    "# Problem Definition\n",
    "\n",
    "In a truth discovery scenario, we have a set of objects. For example, ``the temperature of a room``, or, ``the price of a company share``.  These set of objects has their corresponding values, which are provided by data sources. The aim of truth discovery is to determine the true values and estimate data source reliabilities. To facilitate our subsequent discussion, let's define some notation.\n",
    "\n",
    "**Data sources**: The set of data sources are denoted as $S = \\{s_{id}\\}$, where each source is identified uniquely by $s_{id}$.\n",
    "\n",
    "**Objects**: The set of objects $O = \\{o_{id}\\}$, where each object is uniquely identified by $o_{id}$. Let's denote the domain of an object values as $dom(o)$.\n",
    "\n",
    "**Claims**: A claim over an object is an assertion of the object's value by a source, $c_{s,o} = v$, where $v$ is the value. Note that a source can have multiple claims over the same objects with different belief levels $b_{s,c}$. In other words, $\\sum_{c \\in dom(o)} b_{s,c} = 1$\n",
    "\n",
    "**Facts**: o represents a true value of an object $o$. Of course, in practice, we do get to observe this value. Instead from the claims, we want to learn a distribution over the domain of this object. The truth value of an object could then be chosen to be the most likely value.\n",
    "![](./pgm_truthfinding.pdf)\n",
    "\n",
    "\n",
    "\n",
    "\n"
   ]
  },
  {
   "cell_type": "markdown",
   "metadata": {},
   "source": [
    "# Population Dataset"
   ]
  },
  {
   "cell_type": "code",
   "execution_count": 41,
   "metadata": {},
   "outputs": [],
   "source": [
    "import pandas as pd\n",
    "import os.path as op\n",
    "import seaborn as sns\n",
    "import matplotlib.pyplot as plt"
   ]
  },
  {
   "cell_type": "code",
   "execution_count": 28,
   "metadata": {},
   "outputs": [],
   "source": [
    "DATA_DIR = '../data'"
   ]
  },
  {
   "cell_type": "code",
   "execution_count": 62,
   "metadata": {},
   "outputs": [],
   "source": [
    "population_claims = pd.read_csv(op.join(DATA_DIR, 'population/population_claims.csv'))"
   ]
  },
  {
   "cell_type": "code",
   "execution_count": 63,
   "metadata": {},
   "outputs": [],
   "source": [
    "population_truths = pd.read_csv(op.join(DATA_DIR, 'population/population_truth.csv'))"
   ]
  },
  {
   "cell_type": "code",
   "execution_count": 80,
   "metadata": {},
   "outputs": [
    {
     "data": {
      "text/html": [
       "<div>\n",
       "<style scoped>\n",
       "    .dataframe tbody tr th:only-of-type {\n",
       "        vertical-align: middle;\n",
       "    }\n",
       "\n",
       "    .dataframe tbody tr th {\n",
       "        vertical-align: top;\n",
       "    }\n",
       "\n",
       "    .dataframe thead th {\n",
       "        text-align: right;\n",
       "    }\n",
       "</style>\n",
       "<table border=\"1\" class=\"dataframe\">\n",
       "  <thead>\n",
       "    <tr style=\"text-align: right;\">\n",
       "      <th></th>\n",
       "      <th>ObjectID</th>\n",
       "      <th>PropertyID</th>\n",
       "      <th>PropertyValue</th>\n",
       "    </tr>\n",
       "  </thead>\n",
       "  <tbody>\n",
       "    <tr>\n",
       "      <th>0</th>\n",
       "      <td>cleveland, ohio</td>\n",
       "      <td>Population2000</td>\n",
       "      <td>478403</td>\n",
       "    </tr>\n",
       "    <tr>\n",
       "      <th>1</th>\n",
       "      <td>gary, indiana</td>\n",
       "      <td>Population2000</td>\n",
       "      <td>102746</td>\n",
       "    </tr>\n",
       "    <tr>\n",
       "      <th>2</th>\n",
       "      <td>flint, michigan</td>\n",
       "      <td>Population2000</td>\n",
       "      <td>124943</td>\n",
       "    </tr>\n",
       "    <tr>\n",
       "      <th>3</th>\n",
       "      <td>compton, california</td>\n",
       "      <td>Population2000</td>\n",
       "      <td>93493</td>\n",
       "    </tr>\n",
       "    <tr>\n",
       "      <th>4</th>\n",
       "      <td>washington, d.c.</td>\n",
       "      <td>Population2005</td>\n",
       "      <td>582049</td>\n",
       "    </tr>\n",
       "  </tbody>\n",
       "</table>\n",
       "</div>"
      ],
      "text/plain": [
       "              ObjectID      PropertyID  PropertyValue\n",
       "0      cleveland, ohio  Population2000         478403\n",
       "1        gary, indiana  Population2000         102746\n",
       "2      flint, michigan  Population2000         124943\n",
       "3  compton, california  Population2000          93493\n",
       "4     washington, d.c.  Population2005         582049"
      ]
     },
     "execution_count": 80,
     "metadata": {},
     "output_type": "execute_result"
    }
   ],
   "source": [
    "population_truths.head()"
   ]
  },
  {
   "cell_type": "markdown",
   "metadata": {},
   "source": [
    "The $o_{id}$ here is the tuple $\\{ObjectID, PropertyID\\}$"
   ]
  },
  {
   "cell_type": "code",
   "execution_count": 78,
   "metadata": {},
   "outputs": [
    {
     "data": {
      "text/html": [
       "<div>\n",
       "<style scoped>\n",
       "    .dataframe tbody tr th:only-of-type {\n",
       "        vertical-align: middle;\n",
       "    }\n",
       "\n",
       "    .dataframe tbody tr th {\n",
       "        vertical-align: top;\n",
       "    }\n",
       "\n",
       "    .dataframe thead th {\n",
       "        text-align: right;\n",
       "    }\n",
       "</style>\n",
       "<table border=\"1\" class=\"dataframe\">\n",
       "  <thead>\n",
       "    <tr style=\"text-align: right;\">\n",
       "      <th></th>\n",
       "      <th>ObjectID</th>\n",
       "      <th>PropertyID</th>\n",
       "      <th>PropertyValue</th>\n",
       "    </tr>\n",
       "  </thead>\n",
       "  <tbody>\n",
       "  </tbody>\n",
       "</table>\n",
       "</div>"
      ],
      "text/plain": [
       "Empty DataFrame\n",
       "Columns: [ObjectID, PropertyID, PropertyValue]\n",
       "Index: []"
      ]
     },
     "execution_count": 78,
     "metadata": {},
     "output_type": "execute_result"
    }
   ],
   "source": [
    "population_truths[population_truths.duplicated(subset=['ObjectID', 'PropertyID'])]"
   ]
  },
  {
   "cell_type": "code",
   "execution_count": 79,
   "metadata": {},
   "outputs": [
    {
     "data": {
      "text/plain": [
       "(308, 3)"
      ]
     },
     "execution_count": 79,
     "metadata": {},
     "output_type": "execute_result"
    }
   ],
   "source": [
    "population_truths.shape"
   ]
  },
  {
   "cell_type": "code",
   "execution_count": 35,
   "metadata": {},
   "outputs": [],
   "source": [
    "cleveland_pop = population_claims[population_claims.ObjectID=='cleveland, ohio'].PropertyValue"
   ]
  },
  {
   "cell_type": "code",
   "execution_count": 45,
   "metadata": {},
   "outputs": [
    {
     "data": {
      "text/plain": [
       "<matplotlib.lines.Line2D at 0x1a1c47a588>"
      ]
     },
     "execution_count": 45,
     "metadata": {},
     "output_type": "execute_result"
    },
    {
     "data": {
      "image/png": "[encoded data removed]",
      "text/plain": [
       "<Figure size 432x288 with 1 Axes>"
      ]
     },
     "metadata": {
      "needs_background": "light"
     },
     "output_type": "display_data"
    }
   ],
   "source": [
    "sns.distplot(cleveland_pop)\n",
    "plt.axvline(478403, 0, 2, color='r')"
   ]
  },
  {
   "cell_type": "code",
   "execution_count": 49,
   "metadata": {},
   "outputs": [
    {
     "data": {
      "text/html": [
       "<div>\n",
       "<style scoped>\n",
       "    .dataframe tbody tr th:only-of-type {\n",
       "        vertical-align: middle;\n",
       "    }\n",
       "\n",
       "    .dataframe tbody tr th {\n",
       "        vertical-align: top;\n",
       "    }\n",
       "\n",
       "    .dataframe thead th {\n",
       "        text-align: right;\n",
       "    }\n",
       "</style>\n",
       "<table border=\"1\" class=\"dataframe\">\n",
       "  <thead>\n",
       "    <tr style=\"text-align: right;\">\n",
       "      <th></th>\n",
       "      <th>ObjectID</th>\n",
       "      <th>PropertyID</th>\n",
       "      <th>PropertyValue</th>\n",
       "      <th>SourceID</th>\n",
       "      <th>TimeStamp</th>\n",
       "    </tr>\n",
       "  </thead>\n",
       "  <tbody>\n",
       "    <tr>\n",
       "      <th>6832</th>\n",
       "      <td>ventura, california</td>\n",
       "      <td>Population2000</td>\n",
       "      <td>100916</td>\n",
       "      <td>314721: Howcheng</td>\n",
       "      <td>NaN</td>\n",
       "    </tr>\n",
       "    <tr>\n",
       "      <th>6833</th>\n",
       "      <td>ventura, california</td>\n",
       "      <td>Population2006</td>\n",
       "      <td>105000</td>\n",
       "      <td>0 (75.33.11.215)</td>\n",
       "      <td>NaN</td>\n",
       "    </tr>\n",
       "    <tr>\n",
       "      <th>6834</th>\n",
       "      <td>ventura, california</td>\n",
       "      <td>Population2006</td>\n",
       "      <td>106744</td>\n",
       "      <td>0 (205.254.249.253)</td>\n",
       "      <td>NaN</td>\n",
       "    </tr>\n",
       "  </tbody>\n",
       "</table>\n",
       "</div>"
      ],
      "text/plain": [
       "                 ObjectID      PropertyID  PropertyValue             SourceID  \\\n",
       "6832  ventura, california  Population2000         100916     314721: Howcheng   \n",
       "6833  ventura, california  Population2006         105000     0 (75.33.11.215)   \n",
       "6834  ventura, california  Population2006         106744  0 (205.254.249.253)   \n",
       "\n",
       "      TimeStamp  \n",
       "6832        NaN  \n",
       "6833        NaN  \n",
       "6834        NaN  "
      ]
     },
     "execution_count": 49,
     "metadata": {},
     "output_type": "execute_result"
    }
   ],
   "source": [
    "population_claims[population_claims.ObjectID == 'ventura, california']"
   ]
  },
  {
   "cell_type": "markdown",
   "metadata": {},
   "source": [
    "### Prepare dataset to feed to model"
   ]
  },
  {
   "cell_type": "code",
   "execution_count": null,
   "metadata": {},
   "outputs": [],
   "source": []
  },
  {
   "cell_type": "markdown",
   "metadata": {},
   "source": [
    "# Truth Discovery Model"
   ]
  },
  {
   "cell_type": "markdown",
   "metadata": {},
   "source": [
    "### Simple LCA\n"
   ]
  },
  {
   "cell_type": "code",
   "execution_count": 116,
   "metadata": {},
   "outputs": [],
   "source": [
    "import pyro\n",
    "import pyro.distributions as dists\n",
    "import torch\n",
    "import seaborn as sns"
   ]
  },
  {
   "cell_type": "code",
   "execution_count": 166,
   "metadata": {},
   "outputs": [],
   "source": [
    "def simpleLCA(n_sources, n_objects, object_dim):\n",
    "    \"\"\"simple Latent Credible Analysis\n",
    "    \n",
    "    Parameters\n",
    "    ----------\n",
    "    n_sources: int\n",
    "        number of sources\n",
    "        \n",
    "    n_objects: int\n",
    "        number of objects. 'Obama is born in'\n",
    "        \n",
    "    object_dim: int\n",
    "        the dimension of each object. We assume for now all objects has the same cardinality for implementation ease.\n",
    "    \"\"\"\n",
    "    # hidden truth rvs.\n",
    "    truth_probs = pyro.param('truth_probs', torch.ones((n_objects, object_dim))/object_dim) # add parameter constraints here\n",
    "    hidden_truth = pyro.sample('hidden_truth', dists.Categorical(probs=truth_probs))\n",
    "    \n",
    "    # source honesty rvs.\n",
    "    honesty_probs = pyro.param('source_honesty', torch.ones((n_sources, 2) / 2))\n",
    "    source = dists.Categorical(probs=honesty_probs)"
   ]
  },
  {
   "cell_type": "code",
   "execution_count": 155,
   "metadata": {},
   "outputs": [],
   "source": [
    "pyro.clear_param_store()"
   ]
  },
  {
   "cell_type": "code",
   "execution_count": 156,
   "metadata": {},
   "outputs": [],
   "source": [
    "y_m_dist = simpleLCA(2, 3, 2)"
   ]
  },
  {
   "cell_type": "code",
   "execution_count": 161,
   "metadata": {},
   "outputs": [
    {
     "data": {
      "text/plain": [
       "torch.Size([3])"
      ]
     },
     "execution_count": 161,
     "metadata": {},
     "output_type": "execute_result"
    }
   ],
   "source": [
    "y_m_dist.batch_shape"
   ]
  },
  {
   "cell_type": "code",
   "execution_count": 160,
   "metadata": {},
   "outputs": [
    {
     "data": {
      "text/plain": [
       "tensor([[0, 1, 0],\n",
       "        [1, 1, 0],\n",
       "        [1, 0, 1],\n",
       "        [1, 0, 1],\n",
       "        [1, 0, 1],\n",
       "        [1, 1, 1],\n",
       "        [1, 0, 0],\n",
       "        [0, 0, 1],\n",
       "        [0, 0, 1],\n",
       "        [0, 0, 0]])"
      ]
     },
     "execution_count": 160,
     "metadata": {},
     "output_type": "execute_result"
    }
   ],
   "source": [
    "y_m_dist.sample((10,))"
   ]
  },
  {
   "cell_type": "code",
   "execution_count": 152,
   "metadata": {},
   "outputs": [
    {
     "data": {
      "text/plain": [
       "tensor([[0.3333, 0.3333, 0.3333],\n",
       "        [0.3333, 0.3333, 0.3333]], requires_grad=True)"
      ]
     },
     "execution_count": 152,
     "metadata": {},
     "output_type": "execute_result"
    }
   ],
   "source": [
    "pyro.param('uniform', torch.ones((2,3))/3)"
   ]
  },
  {
   "cell_type": "code",
   "execution_count": 153,
   "metadata": {},
   "outputs": [
    {
     "data": {
      "text/plain": [
       "tensor([[0.3333, 0.3333, 0.3333],\n",
       "        [0.3333, 0.3333, 0.3333]], requires_grad=True)"
      ]
     },
     "execution_count": 153,
     "metadata": {},
     "output_type": "execute_result"
    }
   ],
   "source": [
    "pyro.get_param_store()['uniform']"
   ]
  },
  {
   "cell_type": "code",
   "execution_count": 144,
   "metadata": {},
   "outputs": [],
   "source": [
    "truth_probs = pyro.param('truth_theta',torch.tensor([[0.1, 0.1, 0.8], [0.9, 0.05, 0.05]]))"
   ]
  },
  {
   "cell_type": "code",
   "execution_count": 145,
   "metadata": {},
   "outputs": [
    {
     "data": {
      "text/plain": [
       "tensor([[0.1000, 0.1000, 0.8000],\n",
       "        [0.9000, 0.0500, 0.0500]], requires_grad=True)"
      ]
     },
     "execution_count": 145,
     "metadata": {},
     "output_type": "execute_result"
    }
   ],
   "source": [
    "truth_probs"
   ]
  },
  {
   "cell_type": "code",
   "execution_count": 146,
   "metadata": {},
   "outputs": [
    {
     "data": {
      "text/plain": [
       "tensor([[0.1000, 0.1000, 0.8000],\n",
       "        [0.9000, 0.0500, 0.0500]], requires_grad=True)"
      ]
     },
     "execution_count": 146,
     "metadata": {},
     "output_type": "execute_result"
    }
   ],
   "source": [
    "pyro.get_param_store()['truth_theta']"
   ]
  },
  {
   "cell_type": "code",
   "execution_count": 151,
   "metadata": {},
   "outputs": [
    {
     "data": {
      "text/plain": [
       "\u001b[0;31mSignature:\u001b[0m \u001b[0mparams\u001b[0m\u001b[0;34m.\u001b[0m\u001b[0mclear\u001b[0m\u001b[0;34m(\u001b[0m\u001b[0;34m)\u001b[0m\u001b[0;34m\u001b[0m\u001b[0;34m\u001b[0m\u001b[0m\n",
       "\u001b[0;31mDocstring:\u001b[0m Clear the ParamStore\n",
       "\u001b[0;31mFile:\u001b[0m      ~/miniconda3/envs/spectrumdev/lib/python3.6/site-packages/pyro/params/param_store.py\n",
       "\u001b[0;31mType:\u001b[0m      method\n"
      ]
     },
     "metadata": {},
     "output_type": "display_data"
    }
   ],
   "source": [
    "params.clear?"
   ]
  },
  {
   "cell_type": "code",
   "execution_count": 147,
   "metadata": {},
   "outputs": [],
   "source": [
    "truth_dist = simpleLCA(truth_probs=truth_probs)"
   ]
  },
  {
   "cell_type": "code",
   "execution_count": 148,
   "metadata": {},
   "outputs": [],
   "source": [
    "truth_samples = truth_dist.sample(sample_shape=(10000,))"
   ]
  },
  {
   "cell_type": "code",
   "execution_count": 149,
   "metadata": {},
   "outputs": [
    {
     "data": {
      "text/plain": [
       "tensor([[2, 0],\n",
       "        [2, 0],\n",
       "        [2, 0],\n",
       "        ...,\n",
       "        [0, 2],\n",
       "        [2, 0],\n",
       "        [2, 0]])"
      ]
     },
     "execution_count": 149,
     "metadata": {},
     "output_type": "execute_result"
    }
   ],
   "source": [
    "truth_samples"
   ]
  },
  {
   "cell_type": "code",
   "execution_count": 150,
   "metadata": {},
   "outputs": [
    {
     "data": {
      "text/plain": [
       "<matplotlib.axes._subplots.AxesSubplot at 0x1a25eb05f8>"
      ]
     },
     "execution_count": 150,
     "metadata": {},
     "output_type": "execute_result"
    },
    {
     "data": {
      "image/png": "[encoded data removed]",
      "text/plain": [
       "<Figure size 432x288 with 1 Axes>"
      ]
     },
     "metadata": {
      "needs_background": "light"
     },
     "output_type": "display_data"
    }
   ],
   "source": [
    "sns.distplot(truth_samples[:,0])\n",
    "sns.distplot(truth_samples[:,1])\n",
    "\n"
   ]
  },
  {
   "cell_type": "markdown",
   "metadata": {},
   "source": [
    "# References\n",
    "\n",
    "1. Latent Credible Analysis, Jeff Pasternack and Dan Roth\n",
    "2. Pyro. http://pyro.ai"
   ]
  },
  {
   "cell_type": "code",
   "execution_count": null,
   "metadata": {},
   "outputs": [],
   "source": []
  }
 ],
 "metadata": {
  "kernelspec": {
   "display_name": "Python 3",
   "language": "python",
   "name": "python3"
  },
  "language_info": {
   "codemirror_mode": {
    "name": "ipython",
    "version": 3
   },
   "file_extension": ".py",
   "mimetype": "text/x-python",
   "name": "python",
   "nbconvert_exporter": "python",
   "pygments_lexer": "ipython3",
   "version": "3.6.7"
  }
 },
 "nbformat": 4,
 "nbformat_minor": 2
}
