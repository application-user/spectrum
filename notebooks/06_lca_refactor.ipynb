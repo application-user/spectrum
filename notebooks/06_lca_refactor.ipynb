{
 "cells": [
  {
   "cell_type": "markdown",
   "metadata": {},
   "source": [
    "In this notebook we experiment with implementing Latent Credible Analysis models. Let's build the most simpleLCA"
   ]
  },
  {
   "cell_type": "code",
   "execution_count": null,
   "metadata": {},
   "outputs": [],
   "source": [
    "%load_ext autoreload\n",
    "%autoreload 2"
   ]
  },
  {
   "cell_type": "code",
   "execution_count": 2,
   "metadata": {},
   "outputs": [],
   "source": [
    "import pandas as pd\n",
    "import numpy as np"
   ]
  },
  {
   "cell_type": "code",
   "execution_count": 3,
   "metadata": {},
   "outputs": [],
   "source": [
    "import seaborn as sns"
   ]
  },
  {
   "cell_type": "code",
   "execution_count": 4,
   "metadata": {},
   "outputs": [],
   "source": [
    "import sys\n",
    "sys.path.insert(0, '../')\n",
    "\n",
    "import os.path as op"
   ]
  },
  {
   "cell_type": "code",
   "execution_count": 5,
   "metadata": {},
   "outputs": [],
   "source": [
    "import tensorflow as tf\n",
    "from tensorflow_probability import edward2 as ed\n",
    "import tensorflow_probability as tfp\n",
    "\n",
    "\n",
    "from spectrum.preprocessing import encoders\n",
    "from spectrum.judge import lca_tf, utils\n",
    "from spectrum import evaluator"
   ]
  },
  {
   "cell_type": "code",
   "execution_count": 6,
   "metadata": {},
   "outputs": [
    {
     "data": {
      "text/plain": [
       "('2.1.0', '0.9.0')"
      ]
     },
     "execution_count": 6,
     "metadata": {},
     "output_type": "execute_result"
    }
   ],
   "source": [
    "tf.__version__, tfp.__version__"
   ]
  },
  {
   "cell_type": "code",
   "execution_count": 7,
   "metadata": {},
   "outputs": [],
   "source": [
    "tf.random.set_seed(2020)"
   ]
  },
  {
   "cell_type": "markdown",
   "metadata": {},
   "source": [
    "# Synthetic Dataset"
   ]
  },
  {
   "cell_type": "code",
   "execution_count": 8,
   "metadata": {},
   "outputs": [],
   "source": [
    "DATA_DIR = '../data'\n",
    "DATA_SET = 'population'"
   ]
  },
  {
   "cell_type": "code",
   "execution_count": 9,
   "metadata": {},
   "outputs": [],
   "source": [
    "truths = pd.read_csv(op.join(DATA_DIR, DATA_SET, 'truths.csv'))\n",
    "raw_claims = pd.read_csv(op.join(DATA_DIR, DATA_SET, 'claims.csv'))"
   ]
  },
  {
   "cell_type": "markdown",
   "metadata": {},
   "source": [
    "We decide to model city population as discrete value. Moreover we consider the hidden truth value is only from the set of available assertions. Thus we need to label encode `value` of claims data frame."
   ]
  },
  {
   "cell_type": "markdown",
   "metadata": {},
   "source": [
    "### Data Preprocessing "
   ]
  },
  {
   "cell_type": "markdown",
   "metadata": {},
   "source": [
    "We need to label encode values of objects in order to feed them to our simpleLCA model"
   ]
  },
  {
   "cell_type": "code",
   "execution_count": 10,
   "metadata": {},
   "outputs": [],
   "source": [
    "claims, le_dict = encoders.fit_and_transform(raw_claims) # this should be named fit and transform"
   ]
  },
  {
   "cell_type": "markdown",
   "metadata": {},
   "source": [
    "# Truth Discovery"
   ]
  },
  {
   "cell_type": "code",
   "execution_count": 11,
   "metadata": {},
   "outputs": [],
   "source": [
    "from spectrum.judge.lca_tf import LCA"
   ]
  },
  {
   "cell_type": "code",
   "execution_count": 12,
   "metadata": {},
   "outputs": [
    {
     "name": "stdout",
     "output_type": "stream",
     "text": [
      "initialize...\n",
      "number of sources:  636\n",
      "number of objects:  293\n",
      "initialize model parameters....\n",
      "initialize guide parameters\n"
     ]
    },
    {
     "name": "stderr",
     "output_type": "stream",
     "text": [
      "../spectrum/inference/bbvi.py:71: UserWarning: tfp.edward2 module is deprecated and will be removed on 2019-12-01. Use https://github.com/google/edward2 library instead.\n",
      "  log_p = ed.make_log_joint_fn(self.p)\n"
     ]
    },
    {
     "name": "stdout",
     "output_type": "stream",
     "text": [
      "iteration 0 -  loss 1451.501953125\n",
      "iteration 1 -  loss 1427.403564453125\n",
      "iteration 2 -  loss 1405.372802734375\n"
     ]
    }
   ],
   "source": [
    "lca = LCA()\n",
    "trust, truth = lca.discover(claims, epochs=3, learning_rate=0.0005, report_every=1)"
   ]
  },
  {
   "cell_type": "code",
   "execution_count": 13,
   "metadata": {},
   "outputs": [
    {
     "data": {
      "text/plain": [
       "Text(0, 0.5, 'loss')"
      ]
     },
     "execution_count": 13,
     "metadata": {},
     "output_type": "execute_result"
    },
    {
     "data": {
      "image/png": "[encoded data removed]",
      "text/plain": [
       "<Figure size 432x288 with 1 Axes>"
      ]
     },
     "metadata": {
      "needs_background": "light"
     },
     "output_type": "display_data"
    }
   ],
   "source": [
    "import matplotlib.pyplot as plt\n",
    "plt.plot(lca.bbvi.train_loss, label='loss');\n",
    "plt.xlabel('epoch')\n",
    "plt.ylabel('loss')\n",
    "# plt.savefig('loss.pdf')"
   ]
  },
  {
   "cell_type": "markdown",
   "metadata": {},
   "source": [
    "# Evaluation"
   ]
  },
  {
   "cell_type": "code",
   "execution_count": 20,
   "metadata": {},
   "outputs": [
    {
     "data": {
      "text/plain": [
       "<matplotlib.axes._subplots.AxesSubplot at 0x13a353828>"
      ]
     },
     "execution_count": 20,
     "metadata": {},
     "output_type": "execute_result"
    },
    {
     "data": {
      "image/png": "[encoded data removed]",
      "text/plain": [
       "<Figure size 432x288 with 1 Axes>"
      ]
     },
     "metadata": {
      "needs_background": "light"
     },
     "output_type": "display_data"
    }
   ],
   "source": [
    "sns.boxplot(lca.bbvi.gradient_variance[0])"
   ]
  },
  {
   "cell_type": "code",
   "execution_count": null,
   "metadata": {},
   "outputs": [],
   "source": [
    "sns.distplot(bbvi.gradient_variance[0])"
   ]
  },
  {
   "cell_type": "code",
   "execution_count": null,
   "metadata": {},
   "outputs": [],
   "source": [
    "# from spectrum.inference.utils import flatten_gradients, compute_gradient_variance, compute_trust_and_truth"
   ]
  },
  {
   "cell_type": "code",
   "execution_count": null,
   "metadata": {},
   "outputs": [],
   "source": [
    "# _, grads_and_vars = bbvi._bbvi_step()"
   ]
  },
  {
   "cell_type": "code",
   "execution_count": null,
   "metadata": {},
   "outputs": [],
   "source": [
    "# flatten_gradients(grads_and_vars)"
   ]
  },
  {
   "cell_type": "code",
   "execution_count": null,
   "metadata": {},
   "outputs": [],
   "source": [
    "# def compute_truth(q_z):\n",
    "#     \"\"\"compute truths\n",
    "    \n",
    "#     Parameters\n",
    "#     ----------\n",
    "#     q_z: callable\n",
    "#         posterior distributions of hidden truth, z_truth_i\n",
    "        \n",
    "#     Returns\n",
    "#     -------\n",
    "#     z_truths: list\n",
    "#         a list of hidden truth for each object, z_truths[i] is the \n",
    "#         inferred truth for object i.\n",
    "#     \"\"\"\n",
    "#     with ed.tape() as q_z_sample:\n",
    "#         q_z()\n",
    "#     object_id = []\n",
    "#     value = []\n",
    "#     for z_name, z_sample in q_z_sample.items():\n",
    "#         if z_name.startswith('z_truth'):\n",
    "#             object_id.append(int(z_name.split('_')[2]))\n",
    "#             value.append(z_sample.distribution.mode().numpy())\n",
    "#     return pd.DataFrame(data={'object_id': object_id, 'value': value})"
   ]
  },
  {
   "cell_type": "code",
   "execution_count": null,
   "metadata": {},
   "outputs": [],
   "source": [
    "discovered_truths = compute_truth(lca.mean_field_model)"
   ]
  },
  {
   "cell_type": "markdown",
   "metadata": {},
   "source": [
    "# Evaluation "
   ]
  },
  {
   "cell_type": "markdown",
   "metadata": {},
   "source": [
    "We need to inverse transform the discovered truth value of each object into their original space."
   ]
  },
  {
   "cell_type": "code",
   "execution_count": null,
   "metadata": {},
   "outputs": [],
   "source": [
    "discovered_truths['value'] = discovered_truths.apply(lambda x: le_dict[x['object_id']].inverse_transform([x['value']])[0], axis=1)"
   ]
  },
  {
   "cell_type": "code",
   "execution_count": null,
   "metadata": {},
   "outputs": [],
   "source": [
    "evaluator.accuracy(truths, discovered_truths)"
   ]
  },
  {
   "cell_type": "markdown",
   "metadata": {},
   "source": [
    "The result is bad. This is expected if we look at the plot of loss values during training. They did not converge! The following can be reasons:\n",
    "    1. Since SVI estimate gradients at each training step by performing sampling of `guide()`. The default number of is 1. We may increase the estimation accuracy by increasing the number of training.\n",
    "    2. Our `guide()` model is just not good enough or `model()"
   ]
  },
  {
   "cell_type": "code",
   "execution_count": null,
   "metadata": {},
   "outputs": [],
   "source": [
    "with ed.tape() as q_z_sample:\n",
    "    lca.mean_field_model()"
   ]
  },
  {
   "cell_type": "code",
   "execution_count": null,
   "metadata": {},
   "outputs": [],
   "source": [
    "def compute_incorrect_correct_objects(truths, discovered_truths):\n",
    "    truth_df = truths.reindex(columns=['object_id', 'value']).set_index('object_id').sort_index()\n",
    "    dis_truth_df = discovered_truths.reindex(columns=['object_id', 'value']).set_index('object_id').sort_index()\n",
    "    \n",
    "    incorrect_mask = truth_df['value'] != dis_truth_df['value']\n",
    "    incorrect_objects = discovered_truths.index[incorrect_mask]\n",
    "    incorrect_objects = [f'z_truth_{o}' for o in incorrect_objects]\n",
    "    \n",
    "    correct_objects = discovered_truths.index[~incorrect_mask]\n",
    "    correct_objects = [f'z_truth_{o}' for o in correct_objects]\n",
    "    \n",
    "    return incorrect_objects, correct_objects"
   ]
  },
  {
   "cell_type": "markdown",
   "metadata": {},
   "source": [
    "### Entropy plot"
   ]
  },
  {
   "cell_type": "markdown",
   "metadata": {},
   "source": [
    "We plot incorrect entropy versus correct entropy distribution. The correct entropy represents the kind of entropy of the disibution of hidden truths. The lower entropy the better because the distribution are certain about its mode."
   ]
  },
  {
   "cell_type": "code",
   "execution_count": null,
   "metadata": {},
   "outputs": [],
   "source": [
    "incorrect_objects, correct_objects = compute_incorrect_correct_objects(truths, discovered_truths)\n",
    "\n",
    "incorrect_entropies = [q_z_sample[o].distribution.entropy().numpy() for o in incorrect_objects]\n",
    "\n",
    "correct_entropies = [q_z_sample[o].distribution.entropy().numpy() for o in correct_objects]"
   ]
  },
  {
   "cell_type": "code",
   "execution_count": null,
   "metadata": {},
   "outputs": [],
   "source": [
    "sns.distplot(incorrect_entropies, label='incorrect entropy', hist=False)\n",
    "sns.distplot(correct_entropies, label='correct entropy', hist=False)\n",
    "plt.legend();\n",
    "plt.savefig('object_entropy.pdf')"
   ]
  },
  {
   "cell_type": "markdown",
   "metadata": {},
   "source": [
    "### Differnce plot"
   ]
  },
  {
   "cell_type": "markdown",
   "metadata": {},
   "source": [
    "This is only valid for object whose dimension is 2"
   ]
  },
  {
   "cell_type": "code",
   "execution_count": null,
   "metadata": {},
   "outputs": [],
   "source": [
    "def compute_prob_diff(objects):\n",
    "    probs_diff = []\n",
    "    for o in objects:\n",
    "        probs = tf.exp(q_z_sample[o].distribution.parameters['logits']).numpy()\n",
    "        if len(probs) == 2:\n",
    "            probs_diff.append(np.abs(probs[0] - probs[1]))\n",
    "    return probs_diff"
   ]
  },
  {
   "cell_type": "code",
   "execution_count": null,
   "metadata": {},
   "outputs": [],
   "source": [
    "sns.distplot(compute_prob_diff(incorrect_objects))\n",
    "sns.distplot(compute_prob_diff(correct_objects))"
   ]
  },
  {
   "cell_type": "code",
   "execution_count": null,
   "metadata": {},
   "outputs": [],
   "source": []
  }
 ],
 "metadata": {
  "kernelspec": {
   "display_name": "Python 3",
   "language": "python",
   "name": "python3"
  },
  "language_info": {
   "codemirror_mode": {
    "name": "ipython",
    "version": 3
   },
   "file_extension": ".py",
   "mimetype": "text/x-python",
   "name": "python",
   "nbconvert_exporter": "python",
   "pygments_lexer": "ipython3",
   "version": "3.7.0"
  }
 },
 "nbformat": 4,
 "nbformat_minor": 4
}
